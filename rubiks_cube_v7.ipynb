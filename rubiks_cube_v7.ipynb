{
 "cells": [
  {
   "cell_type": "code",
   "execution_count": 1,
   "metadata": {
    "ExecuteTime": {
     "end_time": "2021-10-05T13:40:04.310583Z",
     "start_time": "2021-10-05T13:40:01.319660Z"
    },
    "run_control": {
     "marked": true
    },
    "scrolled": true
   },
   "outputs": [],
   "source": [
    "'''\n",
    "In Version 2 wird versucht, beim Trainieren des Cubes diesen zu lösen und die Zwischenzustände als Input in das Netzwerk zu gebrauchen.\n",
    "Begonnen: 7.2.2021\n",
    "\n",
    "In Version 3 wird versucht, diese Routine zu perfektionieren, indem eine komplexere Lösungsroutine verwendet wird. Beim Training wird außerdem auf Queues zurückgegriffen\n",
    "Begonnen: 14.2.2021\n",
    "\n",
    "In Version 4 wurde vom faces-Format auf das pieces-Format umgestellt, wie es auch im Originalpaper verwendet wird. D. h. es werden Position und Orientierung der\n",
    "Unterwürfel dem Netzwerk gegeben, statt der Position der Aufkleber. Das Netzwerk hatte bislang nicht gelernt, dass zusammenhängende Aufkleber nichts bringen,\n",
    "wenn sie von einem falsch positionierten Unterwürfel kommen.\n",
    "\n",
    "In Version 5 wurde Feintuning betrieben, durch eine hashtable konnte der solve vorgang minimal beschleunigt werden.\n",
    "\n",
    "'''\n",
    "\n",
    "import matplotlib.pyplot as plt\n",
    "\n",
    "%load_ext autoreload\n",
    "%autoreload 2\n",
    "\n",
    "from rubiks_cube import *\n",
    "from rubiks_helpers import *\n",
    "#from rubiks_cube_pieces import *\n",
    "from rubiks_cube_states import *\n",
    "from tqdm.notebook import tqdm, trange\n",
    "from functools import lru_cache\n"
   ]
  },
  {
   "cell_type": "code",
   "execution_count": 2,
   "metadata": {
    "ExecuteTime": {
     "end_time": "2021-10-05T13:40:05.096314Z",
     "start_time": "2021-10-05T13:40:05.006324Z"
    },
    "run_control": {
     "marked": true
    }
   },
   "outputs": [
    {
     "name": "stdout",
     "output_type": "stream",
     "text": [
      "         +--------+\n",
      "         | \u001b[43my \u001b[43my \u001b[43my \u001b[49m |\n",
      "\u001b[49m         | \u001b[43my \u001b[43my \u001b[43my \u001b[49m |\n",
      "\u001b[49m         | \u001b[43my \u001b[43my \u001b[43my \u001b[49m |\n",
      "\u001b[49m+--------+--------+--------+--------+\n",
      "| \u001b[42mg \u001b[42mg \u001b[42mg \u001b[49m | \u001b[45mo \u001b[45mo \u001b[45mo \u001b[49m | \u001b[44mb \u001b[44mb \u001b[44mb \u001b[49m | \u001b[41mr \u001b[41mr \u001b[41mr \u001b[49m |\n",
      "| \u001b[42mg \u001b[42mg \u001b[42mg \u001b[49m | \u001b[45mo \u001b[45mo \u001b[45mo \u001b[49m | \u001b[44mb \u001b[44mb \u001b[44mb \u001b[49m | \u001b[41mr \u001b[41mr \u001b[41mr \u001b[49m |\n",
      "| \u001b[42mg \u001b[42mg \u001b[42mg \u001b[49m | \u001b[45mo \u001b[45mo \u001b[45mo \u001b[49m | \u001b[44mb \u001b[44mb \u001b[44mb \u001b[49m | \u001b[41mr \u001b[41mr \u001b[41mr \u001b[49m |\n",
      "+--------+--------+--------+--------+\n",
      "         | \u001b[47mw \u001b[47mw \u001b[47mw \u001b[49m |\n",
      "         | \u001b[47mw \u001b[47mw \u001b[47mw \u001b[49m |\n",
      "         | \u001b[47mw \u001b[47mw \u001b[47mw \u001b[49m |\n",
      "         +--------+\n",
      "\n"
     ]
    }
   ],
   "source": [
    "cube = RubiksCube(3)\n",
    "#cube.getfaces()\n",
    "cube.draw()"
   ]
  },
  {
   "cell_type": "code",
   "execution_count": 12,
   "metadata": {
    "ExecuteTime": {
     "end_time": "2021-10-05T13:44:29.779712Z",
     "start_time": "2021-10-05T13:44:28.843018Z"
    },
    "run_control": {
     "marked": false
    }
   },
   "outputs": [
    {
     "data": {
      "application/vnd.jupyter.widget-view+json": {
       "model_id": "75f622b9c09147a2b67caad160d2e7b8",
       "version_major": 2,
       "version_minor": 0
      },
      "text/plain": [
       "  0%|          | 0/100 [00:00<?, ?it/s]"
      ]
     },
     "metadata": {},
     "output_type": "display_data"
    }
   ],
   "source": [
    "\n",
    "cube = RubiksCube()\n",
    "\n",
    "for _ in tqdm(range(100)):\n",
    "    cube.shuffle()\n",
    "    state = cube2state(cube)\n",
    "    m = np.random.choice(moves)\n",
    "    cube.rotate(m)\n",
    "    #cube.draw()\n",
    "    state2 = cube2state(cube)\n",
    "    state = apply(state, m)\n",
    "    #draw(state)\n",
    "\n",
    "    if not np.all(state == state2):\n",
    "        print('Not all the same!')\n",
    "        break\n",
    "        "
   ]
  },
  {
   "cell_type": "code",
   "execution_count": 5,
   "metadata": {
    "ExecuteTime": {
     "end_time": "2021-10-05T13:40:30.781479Z",
     "start_time": "2021-10-05T13:40:14.318157Z"
    }
   },
   "outputs": [
    {
     "ename": "KeyboardInterrupt",
     "evalue": "",
     "output_type": "error",
     "traceback": [
      "\u001b[1;31m---------------------------------------------------------------------------\u001b[0m",
      "\u001b[1;31mKeyboardInterrupt\u001b[0m                         Traceback (most recent call last)",
      "\u001b[1;32m<timed exec>\u001b[0m in \u001b[0;36m<module>\u001b[1;34m\u001b[0m\n",
      "\u001b[1;32m<ipython-input-5-3a1eb87e6e98>\u001b[0m in \u001b[0;36madd_to_dict_iterative\u001b[1;34m(maxdepth)\u001b[0m\n\u001b[0;32m     27\u001b[0m         \u001b[1;32mfor\u001b[0m \u001b[0mstate0\u001b[0m\u001b[1;33m,\u001b[0m \u001b[0mm0\u001b[0m \u001b[1;32min\u001b[0m \u001b[0mthisdepth\u001b[0m\u001b[1;33m:\u001b[0m\u001b[1;33m\u001b[0m\u001b[1;33m\u001b[0m\u001b[0m\n\u001b[0;32m     28\u001b[0m             \u001b[1;32mfor\u001b[0m \u001b[0mm\u001b[0m \u001b[1;32min\u001b[0m \u001b[0mmoves\u001b[0m\u001b[1;33m:\u001b[0m\u001b[1;33m\u001b[0m\u001b[1;33m\u001b[0m\u001b[0m\n\u001b[1;32m---> 29\u001b[1;33m                 \u001b[0mstate\u001b[0m \u001b[1;33m=\u001b[0m \u001b[0mapply\u001b[0m\u001b[1;33m(\u001b[0m\u001b[0mstate0\u001b[0m\u001b[1;33m,\u001b[0m \u001b[0mm\u001b[0m\u001b[1;33m)\u001b[0m\u001b[1;33m\u001b[0m\u001b[1;33m\u001b[0m\u001b[0m\n\u001b[0m\u001b[0;32m     30\u001b[0m                 \u001b[0ms\u001b[0m \u001b[1;33m=\u001b[0m \u001b[0mstate\u001b[0m\u001b[1;33m.\u001b[0m\u001b[0mtobytes\u001b[0m\u001b[1;33m(\u001b[0m\u001b[1;33m)\u001b[0m\u001b[1;33m\u001b[0m\u001b[1;33m\u001b[0m\u001b[0m\n\u001b[0;32m     31\u001b[0m                 \u001b[1;32mif\u001b[0m \u001b[0ms\u001b[0m \u001b[1;32min\u001b[0m \u001b[0mhashtable\u001b[0m\u001b[1;33m:\u001b[0m  \u001b[1;31m# falls state2 bereits im algorithmus vorkam, kann der neue wert nicht kleiner sein\u001b[0m\u001b[1;33m\u001b[0m\u001b[1;33m\u001b[0m\u001b[0m\n",
      "\u001b[1;32mD:\\Anaconda-Python-3.7\\rubiks cube\\rubiks_cube_pieces.py\u001b[0m in \u001b[0;36mapply\u001b[1;34m(state, m)\u001b[0m\n\u001b[0;32m    980\u001b[0m \u001b[1;33m\u001b[0m\u001b[0m\n\u001b[0;32m    981\u001b[0m     \u001b[1;32mfor\u001b[0m \u001b[0mmm\u001b[0m \u001b[1;32min\u001b[0m \u001b[0mm\u001b[0m\u001b[1;33m:\u001b[0m\u001b[1;33m\u001b[0m\u001b[1;33m\u001b[0m\u001b[0m\n\u001b[1;32m--> 982\u001b[1;33m         \u001b[0mstate\u001b[0m \u001b[1;33m=\u001b[0m \u001b[0m_apply\u001b[0m\u001b[1;33m(\u001b[0m\u001b[0mstate\u001b[0m\u001b[1;33m,\u001b[0m \u001b[0mmm\u001b[0m\u001b[1;33m)\u001b[0m\u001b[1;33m\u001b[0m\u001b[1;33m\u001b[0m\u001b[0m\n\u001b[0m\u001b[0;32m    983\u001b[0m \u001b[1;33m\u001b[0m\u001b[0m\n\u001b[0;32m    984\u001b[0m     \u001b[1;32mreturn\u001b[0m \u001b[0mstate\u001b[0m\u001b[1;33m\u001b[0m\u001b[1;33m\u001b[0m\u001b[0m\n",
      "\u001b[1;32mC:\\ProgramData\\Anaconda3\\lib\\site-packages\\numba\\core\\dispatcher.py\u001b[0m in \u001b[0;36m_compile_for_args\u001b[1;34m(self, *args, **kws)\u001b[0m\n\u001b[0;32m    365\u001b[0m                 \u001b[0margtypes\u001b[0m\u001b[1;33m.\u001b[0m\u001b[0mappend\u001b[0m\u001b[1;33m(\u001b[0m\u001b[0mself\u001b[0m\u001b[1;33m.\u001b[0m\u001b[0mtypeof_pyval\u001b[0m\u001b[1;33m(\u001b[0m\u001b[0ma\u001b[0m\u001b[1;33m)\u001b[0m\u001b[1;33m)\u001b[0m\u001b[1;33m\u001b[0m\u001b[1;33m\u001b[0m\u001b[0m\n\u001b[0;32m    366\u001b[0m         \u001b[1;32mtry\u001b[0m\u001b[1;33m:\u001b[0m\u001b[1;33m\u001b[0m\u001b[1;33m\u001b[0m\u001b[0m\n\u001b[1;32m--> 367\u001b[1;33m             \u001b[1;32mreturn\u001b[0m \u001b[0mself\u001b[0m\u001b[1;33m.\u001b[0m\u001b[0mcompile\u001b[0m\u001b[1;33m(\u001b[0m\u001b[0mtuple\u001b[0m\u001b[1;33m(\u001b[0m\u001b[0margtypes\u001b[0m\u001b[1;33m)\u001b[0m\u001b[1;33m)\u001b[0m\u001b[1;33m\u001b[0m\u001b[1;33m\u001b[0m\u001b[0m\n\u001b[0m\u001b[0;32m    368\u001b[0m         \u001b[1;32mexcept\u001b[0m \u001b[0merrors\u001b[0m\u001b[1;33m.\u001b[0m\u001b[0mForceLiteralArg\u001b[0m \u001b[1;32mas\u001b[0m \u001b[0me\u001b[0m\u001b[1;33m:\u001b[0m\u001b[1;33m\u001b[0m\u001b[1;33m\u001b[0m\u001b[0m\n\u001b[0;32m    369\u001b[0m             \u001b[1;31m# Received request for compiler re-entry with the list of arguments\u001b[0m\u001b[1;33m\u001b[0m\u001b[1;33m\u001b[0m\u001b[1;33m\u001b[0m\u001b[0m\n",
      "\u001b[1;32mC:\\ProgramData\\Anaconda3\\lib\\site-packages\\numba\\core\\compiler_lock.py\u001b[0m in \u001b[0;36m_acquire_compile_lock\u001b[1;34m(*args, **kwargs)\u001b[0m\n\u001b[0;32m     30\u001b[0m         \u001b[1;32mdef\u001b[0m \u001b[0m_acquire_compile_lock\u001b[0m\u001b[1;33m(\u001b[0m\u001b[1;33m*\u001b[0m\u001b[0margs\u001b[0m\u001b[1;33m,\u001b[0m \u001b[1;33m**\u001b[0m\u001b[0mkwargs\u001b[0m\u001b[1;33m)\u001b[0m\u001b[1;33m:\u001b[0m\u001b[1;33m\u001b[0m\u001b[1;33m\u001b[0m\u001b[0m\n\u001b[0;32m     31\u001b[0m             \u001b[1;32mwith\u001b[0m \u001b[0mself\u001b[0m\u001b[1;33m:\u001b[0m\u001b[1;33m\u001b[0m\u001b[1;33m\u001b[0m\u001b[0m\n\u001b[1;32m---> 32\u001b[1;33m                 \u001b[1;32mreturn\u001b[0m \u001b[0mfunc\u001b[0m\u001b[1;33m(\u001b[0m\u001b[1;33m*\u001b[0m\u001b[0margs\u001b[0m\u001b[1;33m,\u001b[0m \u001b[1;33m**\u001b[0m\u001b[0mkwargs\u001b[0m\u001b[1;33m)\u001b[0m\u001b[1;33m\u001b[0m\u001b[1;33m\u001b[0m\u001b[0m\n\u001b[0m\u001b[0;32m     33\u001b[0m         \u001b[1;32mreturn\u001b[0m \u001b[0m_acquire_compile_lock\u001b[0m\u001b[1;33m\u001b[0m\u001b[1;33m\u001b[0m\u001b[0m\n\u001b[0;32m     34\u001b[0m \u001b[1;33m\u001b[0m\u001b[0m\n",
      "\u001b[1;32mC:\\ProgramData\\Anaconda3\\lib\\site-packages\\numba\\core\\dispatcher.py\u001b[0m in \u001b[0;36mcompile\u001b[1;34m(self, sig)\u001b[0m\n\u001b[0;32m    806\u001b[0m             \u001b[0mself\u001b[0m\u001b[1;33m.\u001b[0m\u001b[0m_cache_misses\u001b[0m\u001b[1;33m[\u001b[0m\u001b[0msig\u001b[0m\u001b[1;33m]\u001b[0m \u001b[1;33m+=\u001b[0m \u001b[1;36m1\u001b[0m\u001b[1;33m\u001b[0m\u001b[1;33m\u001b[0m\u001b[0m\n\u001b[0;32m    807\u001b[0m             \u001b[1;32mtry\u001b[0m\u001b[1;33m:\u001b[0m\u001b[1;33m\u001b[0m\u001b[1;33m\u001b[0m\u001b[0m\n\u001b[1;32m--> 808\u001b[1;33m                 \u001b[0mcres\u001b[0m \u001b[1;33m=\u001b[0m \u001b[0mself\u001b[0m\u001b[1;33m.\u001b[0m\u001b[0m_compiler\u001b[0m\u001b[1;33m.\u001b[0m\u001b[0mcompile\u001b[0m\u001b[1;33m(\u001b[0m\u001b[0margs\u001b[0m\u001b[1;33m,\u001b[0m \u001b[0mreturn_type\u001b[0m\u001b[1;33m)\u001b[0m\u001b[1;33m\u001b[0m\u001b[1;33m\u001b[0m\u001b[0m\n\u001b[0m\u001b[0;32m    809\u001b[0m             \u001b[1;32mexcept\u001b[0m \u001b[0merrors\u001b[0m\u001b[1;33m.\u001b[0m\u001b[0mForceLiteralArg\u001b[0m \u001b[1;32mas\u001b[0m \u001b[0me\u001b[0m\u001b[1;33m:\u001b[0m\u001b[1;33m\u001b[0m\u001b[1;33m\u001b[0m\u001b[0m\n\u001b[0;32m    810\u001b[0m                 \u001b[1;32mdef\u001b[0m \u001b[0mfolded\u001b[0m\u001b[1;33m(\u001b[0m\u001b[0margs\u001b[0m\u001b[1;33m,\u001b[0m \u001b[0mkws\u001b[0m\u001b[1;33m)\u001b[0m\u001b[1;33m:\u001b[0m\u001b[1;33m\u001b[0m\u001b[1;33m\u001b[0m\u001b[0m\n",
      "\u001b[1;32mC:\\ProgramData\\Anaconda3\\lib\\site-packages\\numba\\core\\dispatcher.py\u001b[0m in \u001b[0;36mcompile\u001b[1;34m(self, args, return_type)\u001b[0m\n\u001b[0;32m     76\u001b[0m \u001b[1;33m\u001b[0m\u001b[0m\n\u001b[0;32m     77\u001b[0m     \u001b[1;32mdef\u001b[0m \u001b[0mcompile\u001b[0m\u001b[1;33m(\u001b[0m\u001b[0mself\u001b[0m\u001b[1;33m,\u001b[0m \u001b[0margs\u001b[0m\u001b[1;33m,\u001b[0m \u001b[0mreturn_type\u001b[0m\u001b[1;33m)\u001b[0m\u001b[1;33m:\u001b[0m\u001b[1;33m\u001b[0m\u001b[1;33m\u001b[0m\u001b[0m\n\u001b[1;32m---> 78\u001b[1;33m         \u001b[0mstatus\u001b[0m\u001b[1;33m,\u001b[0m \u001b[0mretval\u001b[0m \u001b[1;33m=\u001b[0m \u001b[0mself\u001b[0m\u001b[1;33m.\u001b[0m\u001b[0m_compile_cached\u001b[0m\u001b[1;33m(\u001b[0m\u001b[0margs\u001b[0m\u001b[1;33m,\u001b[0m \u001b[0mreturn_type\u001b[0m\u001b[1;33m)\u001b[0m\u001b[1;33m\u001b[0m\u001b[1;33m\u001b[0m\u001b[0m\n\u001b[0m\u001b[0;32m     79\u001b[0m         \u001b[1;32mif\u001b[0m \u001b[0mstatus\u001b[0m\u001b[1;33m:\u001b[0m\u001b[1;33m\u001b[0m\u001b[1;33m\u001b[0m\u001b[0m\n\u001b[0;32m     80\u001b[0m             \u001b[1;32mreturn\u001b[0m \u001b[0mretval\u001b[0m\u001b[1;33m\u001b[0m\u001b[1;33m\u001b[0m\u001b[0m\n",
      "\u001b[1;32mC:\\ProgramData\\Anaconda3\\lib\\site-packages\\numba\\core\\dispatcher.py\u001b[0m in \u001b[0;36m_compile_cached\u001b[1;34m(self, args, return_type)\u001b[0m\n\u001b[0;32m     90\u001b[0m \u001b[1;33m\u001b[0m\u001b[0m\n\u001b[0;32m     91\u001b[0m         \u001b[1;32mtry\u001b[0m\u001b[1;33m:\u001b[0m\u001b[1;33m\u001b[0m\u001b[1;33m\u001b[0m\u001b[0m\n\u001b[1;32m---> 92\u001b[1;33m             \u001b[0mretval\u001b[0m \u001b[1;33m=\u001b[0m \u001b[0mself\u001b[0m\u001b[1;33m.\u001b[0m\u001b[0m_compile_core\u001b[0m\u001b[1;33m(\u001b[0m\u001b[0margs\u001b[0m\u001b[1;33m,\u001b[0m \u001b[0mreturn_type\u001b[0m\u001b[1;33m)\u001b[0m\u001b[1;33m\u001b[0m\u001b[1;33m\u001b[0m\u001b[0m\n\u001b[0m\u001b[0;32m     93\u001b[0m         \u001b[1;32mexcept\u001b[0m \u001b[0merrors\u001b[0m\u001b[1;33m.\u001b[0m\u001b[0mTypingError\u001b[0m \u001b[1;32mas\u001b[0m \u001b[0me\u001b[0m\u001b[1;33m:\u001b[0m\u001b[1;33m\u001b[0m\u001b[1;33m\u001b[0m\u001b[0m\n\u001b[0;32m     94\u001b[0m             \u001b[0mself\u001b[0m\u001b[1;33m.\u001b[0m\u001b[0m_failed_cache\u001b[0m\u001b[1;33m[\u001b[0m\u001b[0mkey\u001b[0m\u001b[1;33m]\u001b[0m \u001b[1;33m=\u001b[0m \u001b[0me\u001b[0m\u001b[1;33m\u001b[0m\u001b[1;33m\u001b[0m\u001b[0m\n",
      "\u001b[1;32mC:\\ProgramData\\Anaconda3\\lib\\site-packages\\numba\\core\\dispatcher.py\u001b[0m in \u001b[0;36m_compile_core\u001b[1;34m(self, args, return_type)\u001b[0m\n\u001b[0;32m    108\u001b[0m                                       \u001b[0margs\u001b[0m\u001b[1;33m=\u001b[0m\u001b[0margs\u001b[0m\u001b[1;33m,\u001b[0m \u001b[0mreturn_type\u001b[0m\u001b[1;33m=\u001b[0m\u001b[0mreturn_type\u001b[0m\u001b[1;33m,\u001b[0m\u001b[1;33m\u001b[0m\u001b[1;33m\u001b[0m\u001b[0m\n\u001b[0;32m    109\u001b[0m                                       \u001b[0mflags\u001b[0m\u001b[1;33m=\u001b[0m\u001b[0mflags\u001b[0m\u001b[1;33m,\u001b[0m \u001b[0mlocals\u001b[0m\u001b[1;33m=\u001b[0m\u001b[0mself\u001b[0m\u001b[1;33m.\u001b[0m\u001b[0mlocals\u001b[0m\u001b[1;33m,\u001b[0m\u001b[1;33m\u001b[0m\u001b[1;33m\u001b[0m\u001b[0m\n\u001b[1;32m--> 110\u001b[1;33m                                       pipeline_class=self.pipeline_class)\n\u001b[0m\u001b[0;32m    111\u001b[0m         \u001b[1;31m# Check typing error if object mode is used\u001b[0m\u001b[1;33m\u001b[0m\u001b[1;33m\u001b[0m\u001b[1;33m\u001b[0m\u001b[0m\n\u001b[0;32m    112\u001b[0m         \u001b[1;32mif\u001b[0m \u001b[0mcres\u001b[0m\u001b[1;33m.\u001b[0m\u001b[0mtyping_error\u001b[0m \u001b[1;32mis\u001b[0m \u001b[1;32mnot\u001b[0m \u001b[1;32mNone\u001b[0m \u001b[1;32mand\u001b[0m \u001b[1;32mnot\u001b[0m \u001b[0mflags\u001b[0m\u001b[1;33m.\u001b[0m\u001b[0menable_pyobject\u001b[0m\u001b[1;33m:\u001b[0m\u001b[1;33m\u001b[0m\u001b[1;33m\u001b[0m\u001b[0m\n",
      "\u001b[1;32mC:\\ProgramData\\Anaconda3\\lib\\site-packages\\numba\\core\\compiler.py\u001b[0m in \u001b[0;36mcompile_extra\u001b[1;34m(typingctx, targetctx, func, args, return_type, flags, locals, library, pipeline_class)\u001b[0m\n\u001b[0;32m    601\u001b[0m     pipeline = pipeline_class(typingctx, targetctx, library,\n\u001b[0;32m    602\u001b[0m                               args, return_type, flags, locals)\n\u001b[1;32m--> 603\u001b[1;33m     \u001b[1;32mreturn\u001b[0m \u001b[0mpipeline\u001b[0m\u001b[1;33m.\u001b[0m\u001b[0mcompile_extra\u001b[0m\u001b[1;33m(\u001b[0m\u001b[0mfunc\u001b[0m\u001b[1;33m)\u001b[0m\u001b[1;33m\u001b[0m\u001b[1;33m\u001b[0m\u001b[0m\n\u001b[0m\u001b[0;32m    604\u001b[0m \u001b[1;33m\u001b[0m\u001b[0m\n\u001b[0;32m    605\u001b[0m \u001b[1;33m\u001b[0m\u001b[0m\n",
      "\u001b[1;32mC:\\ProgramData\\Anaconda3\\lib\\site-packages\\numba\\core\\compiler.py\u001b[0m in \u001b[0;36mcompile_extra\u001b[1;34m(self, func)\u001b[0m\n\u001b[0;32m    337\u001b[0m         \u001b[0mself\u001b[0m\u001b[1;33m.\u001b[0m\u001b[0mstate\u001b[0m\u001b[1;33m.\u001b[0m\u001b[0mlifted\u001b[0m \u001b[1;33m=\u001b[0m \u001b[1;33m(\u001b[0m\u001b[1;33m)\u001b[0m\u001b[1;33m\u001b[0m\u001b[1;33m\u001b[0m\u001b[0m\n\u001b[0;32m    338\u001b[0m         \u001b[0mself\u001b[0m\u001b[1;33m.\u001b[0m\u001b[0mstate\u001b[0m\u001b[1;33m.\u001b[0m\u001b[0mlifted_from\u001b[0m \u001b[1;33m=\u001b[0m \u001b[1;32mNone\u001b[0m\u001b[1;33m\u001b[0m\u001b[1;33m\u001b[0m\u001b[0m\n\u001b[1;32m--> 339\u001b[1;33m         \u001b[1;32mreturn\u001b[0m \u001b[0mself\u001b[0m\u001b[1;33m.\u001b[0m\u001b[0m_compile_bytecode\u001b[0m\u001b[1;33m(\u001b[0m\u001b[1;33m)\u001b[0m\u001b[1;33m\u001b[0m\u001b[1;33m\u001b[0m\u001b[0m\n\u001b[0m\u001b[0;32m    340\u001b[0m \u001b[1;33m\u001b[0m\u001b[0m\n\u001b[0;32m    341\u001b[0m     \u001b[1;32mdef\u001b[0m \u001b[0mcompile_ir\u001b[0m\u001b[1;33m(\u001b[0m\u001b[0mself\u001b[0m\u001b[1;33m,\u001b[0m \u001b[0mfunc_ir\u001b[0m\u001b[1;33m,\u001b[0m \u001b[0mlifted\u001b[0m\u001b[1;33m=\u001b[0m\u001b[1;33m(\u001b[0m\u001b[1;33m)\u001b[0m\u001b[1;33m,\u001b[0m \u001b[0mlifted_from\u001b[0m\u001b[1;33m=\u001b[0m\u001b[1;32mNone\u001b[0m\u001b[1;33m)\u001b[0m\u001b[1;33m:\u001b[0m\u001b[1;33m\u001b[0m\u001b[1;33m\u001b[0m\u001b[0m\n",
      "\u001b[1;32mC:\\ProgramData\\Anaconda3\\lib\\site-packages\\numba\\core\\compiler.py\u001b[0m in \u001b[0;36m_compile_bytecode\u001b[1;34m(self)\u001b[0m\n\u001b[0;32m    399\u001b[0m         \"\"\"\n\u001b[0;32m    400\u001b[0m         \u001b[1;32massert\u001b[0m \u001b[0mself\u001b[0m\u001b[1;33m.\u001b[0m\u001b[0mstate\u001b[0m\u001b[1;33m.\u001b[0m\u001b[0mfunc_ir\u001b[0m \u001b[1;32mis\u001b[0m \u001b[1;32mNone\u001b[0m\u001b[1;33m\u001b[0m\u001b[1;33m\u001b[0m\u001b[0m\n\u001b[1;32m--> 401\u001b[1;33m         \u001b[1;32mreturn\u001b[0m \u001b[0mself\u001b[0m\u001b[1;33m.\u001b[0m\u001b[0m_compile_core\u001b[0m\u001b[1;33m(\u001b[0m\u001b[1;33m)\u001b[0m\u001b[1;33m\u001b[0m\u001b[1;33m\u001b[0m\u001b[0m\n\u001b[0m\u001b[0;32m    402\u001b[0m \u001b[1;33m\u001b[0m\u001b[0m\n\u001b[0;32m    403\u001b[0m     \u001b[1;32mdef\u001b[0m \u001b[0m_compile_ir\u001b[0m\u001b[1;33m(\u001b[0m\u001b[0mself\u001b[0m\u001b[1;33m)\u001b[0m\u001b[1;33m:\u001b[0m\u001b[1;33m\u001b[0m\u001b[1;33m\u001b[0m\u001b[0m\n",
      "\u001b[1;32mC:\\ProgramData\\Anaconda3\\lib\\site-packages\\numba\\core\\compiler.py\u001b[0m in \u001b[0;36m_compile_core\u001b[1;34m(self)\u001b[0m\n\u001b[0;32m    370\u001b[0m             \u001b[0mres\u001b[0m \u001b[1;33m=\u001b[0m \u001b[1;32mNone\u001b[0m\u001b[1;33m\u001b[0m\u001b[1;33m\u001b[0m\u001b[0m\n\u001b[0;32m    371\u001b[0m             \u001b[1;32mtry\u001b[0m\u001b[1;33m:\u001b[0m\u001b[1;33m\u001b[0m\u001b[1;33m\u001b[0m\u001b[0m\n\u001b[1;32m--> 372\u001b[1;33m                 \u001b[0mpm\u001b[0m\u001b[1;33m.\u001b[0m\u001b[0mrun\u001b[0m\u001b[1;33m(\u001b[0m\u001b[0mself\u001b[0m\u001b[1;33m.\u001b[0m\u001b[0mstate\u001b[0m\u001b[1;33m)\u001b[0m\u001b[1;33m\u001b[0m\u001b[1;33m\u001b[0m\u001b[0m\n\u001b[0m\u001b[0;32m    373\u001b[0m                 \u001b[1;32mif\u001b[0m \u001b[0mself\u001b[0m\u001b[1;33m.\u001b[0m\u001b[0mstate\u001b[0m\u001b[1;33m.\u001b[0m\u001b[0mcr\u001b[0m \u001b[1;32mis\u001b[0m \u001b[1;32mnot\u001b[0m \u001b[1;32mNone\u001b[0m\u001b[1;33m:\u001b[0m\u001b[1;33m\u001b[0m\u001b[1;33m\u001b[0m\u001b[0m\n\u001b[0;32m    374\u001b[0m                     \u001b[1;32mbreak\u001b[0m\u001b[1;33m\u001b[0m\u001b[1;33m\u001b[0m\u001b[0m\n",
      "\u001b[1;32mC:\\ProgramData\\Anaconda3\\lib\\site-packages\\numba\\core\\compiler_machinery.py\u001b[0m in \u001b[0;36mrun\u001b[1;34m(self, state)\u001b[0m\n\u001b[0;32m    330\u001b[0m                 \u001b[0mpass_inst\u001b[0m \u001b[1;33m=\u001b[0m \u001b[0m_pass_registry\u001b[0m\u001b[1;33m.\u001b[0m\u001b[0mget\u001b[0m\u001b[1;33m(\u001b[0m\u001b[0mpss\u001b[0m\u001b[1;33m)\u001b[0m\u001b[1;33m.\u001b[0m\u001b[0mpass_inst\u001b[0m\u001b[1;33m\u001b[0m\u001b[1;33m\u001b[0m\u001b[0m\n\u001b[0;32m    331\u001b[0m                 \u001b[1;32mif\u001b[0m \u001b[0misinstance\u001b[0m\u001b[1;33m(\u001b[0m\u001b[0mpass_inst\u001b[0m\u001b[1;33m,\u001b[0m \u001b[0mCompilerPass\u001b[0m\u001b[1;33m)\u001b[0m\u001b[1;33m:\u001b[0m\u001b[1;33m\u001b[0m\u001b[1;33m\u001b[0m\u001b[0m\n\u001b[1;32m--> 332\u001b[1;33m                     \u001b[0mself\u001b[0m\u001b[1;33m.\u001b[0m\u001b[0m_runPass\u001b[0m\u001b[1;33m(\u001b[0m\u001b[0midx\u001b[0m\u001b[1;33m,\u001b[0m \u001b[0mpass_inst\u001b[0m\u001b[1;33m,\u001b[0m \u001b[0mstate\u001b[0m\u001b[1;33m)\u001b[0m\u001b[1;33m\u001b[0m\u001b[1;33m\u001b[0m\u001b[0m\n\u001b[0m\u001b[0;32m    333\u001b[0m                 \u001b[1;32melse\u001b[0m\u001b[1;33m:\u001b[0m\u001b[1;33m\u001b[0m\u001b[1;33m\u001b[0m\u001b[0m\n\u001b[0;32m    334\u001b[0m                     \u001b[1;32mraise\u001b[0m \u001b[0mBaseException\u001b[0m\u001b[1;33m(\u001b[0m\u001b[1;34m\"Legacy pass in use\"\u001b[0m\u001b[1;33m)\u001b[0m\u001b[1;33m\u001b[0m\u001b[1;33m\u001b[0m\u001b[0m\n",
      "\u001b[1;32mC:\\ProgramData\\Anaconda3\\lib\\site-packages\\numba\\core\\compiler_lock.py\u001b[0m in \u001b[0;36m_acquire_compile_lock\u001b[1;34m(*args, **kwargs)\u001b[0m\n\u001b[0;32m     30\u001b[0m         \u001b[1;32mdef\u001b[0m \u001b[0m_acquire_compile_lock\u001b[0m\u001b[1;33m(\u001b[0m\u001b[1;33m*\u001b[0m\u001b[0margs\u001b[0m\u001b[1;33m,\u001b[0m \u001b[1;33m**\u001b[0m\u001b[0mkwargs\u001b[0m\u001b[1;33m)\u001b[0m\u001b[1;33m:\u001b[0m\u001b[1;33m\u001b[0m\u001b[1;33m\u001b[0m\u001b[0m\n\u001b[0;32m     31\u001b[0m             \u001b[1;32mwith\u001b[0m \u001b[0mself\u001b[0m\u001b[1;33m:\u001b[0m\u001b[1;33m\u001b[0m\u001b[1;33m\u001b[0m\u001b[0m\n\u001b[1;32m---> 32\u001b[1;33m                 \u001b[1;32mreturn\u001b[0m \u001b[0mfunc\u001b[0m\u001b[1;33m(\u001b[0m\u001b[1;33m*\u001b[0m\u001b[0margs\u001b[0m\u001b[1;33m,\u001b[0m \u001b[1;33m**\u001b[0m\u001b[0mkwargs\u001b[0m\u001b[1;33m)\u001b[0m\u001b[1;33m\u001b[0m\u001b[1;33m\u001b[0m\u001b[0m\n\u001b[0m\u001b[0;32m     33\u001b[0m         \u001b[1;32mreturn\u001b[0m \u001b[0m_acquire_compile_lock\u001b[0m\u001b[1;33m\u001b[0m\u001b[1;33m\u001b[0m\u001b[0m\n\u001b[0;32m     34\u001b[0m \u001b[1;33m\u001b[0m\u001b[0m\n",
      "\u001b[1;32mC:\\ProgramData\\Anaconda3\\lib\\site-packages\\numba\\core\\compiler_machinery.py\u001b[0m in \u001b[0;36m_runPass\u001b[1;34m(self, index, pss, internal_state)\u001b[0m\n\u001b[0;32m    289\u001b[0m             \u001b[0mmutated\u001b[0m \u001b[1;33m|=\u001b[0m \u001b[0mcheck\u001b[0m\u001b[1;33m(\u001b[0m\u001b[0mpss\u001b[0m\u001b[1;33m.\u001b[0m\u001b[0mrun_initialization\u001b[0m\u001b[1;33m,\u001b[0m \u001b[0minternal_state\u001b[0m\u001b[1;33m)\u001b[0m\u001b[1;33m\u001b[0m\u001b[1;33m\u001b[0m\u001b[0m\n\u001b[0;32m    290\u001b[0m         \u001b[1;32mwith\u001b[0m \u001b[0mSimpleTimer\u001b[0m\u001b[1;33m(\u001b[0m\u001b[1;33m)\u001b[0m \u001b[1;32mas\u001b[0m \u001b[0mpass_time\u001b[0m\u001b[1;33m:\u001b[0m\u001b[1;33m\u001b[0m\u001b[1;33m\u001b[0m\u001b[0m\n\u001b[1;32m--> 291\u001b[1;33m             \u001b[0mmutated\u001b[0m \u001b[1;33m|=\u001b[0m \u001b[0mcheck\u001b[0m\u001b[1;33m(\u001b[0m\u001b[0mpss\u001b[0m\u001b[1;33m.\u001b[0m\u001b[0mrun_pass\u001b[0m\u001b[1;33m,\u001b[0m \u001b[0minternal_state\u001b[0m\u001b[1;33m)\u001b[0m\u001b[1;33m\u001b[0m\u001b[1;33m\u001b[0m\u001b[0m\n\u001b[0m\u001b[0;32m    292\u001b[0m         \u001b[1;32mwith\u001b[0m \u001b[0mSimpleTimer\u001b[0m\u001b[1;33m(\u001b[0m\u001b[1;33m)\u001b[0m \u001b[1;32mas\u001b[0m \u001b[0mfinalize_time\u001b[0m\u001b[1;33m:\u001b[0m\u001b[1;33m\u001b[0m\u001b[1;33m\u001b[0m\u001b[0m\n\u001b[0;32m    293\u001b[0m             \u001b[0mmutated\u001b[0m \u001b[1;33m|=\u001b[0m \u001b[0mcheck\u001b[0m\u001b[1;33m(\u001b[0m\u001b[0mpss\u001b[0m\u001b[1;33m.\u001b[0m\u001b[0mrun_finalizer\u001b[0m\u001b[1;33m,\u001b[0m \u001b[0minternal_state\u001b[0m\u001b[1;33m)\u001b[0m\u001b[1;33m\u001b[0m\u001b[1;33m\u001b[0m\u001b[0m\n",
      "\u001b[1;32mC:\\ProgramData\\Anaconda3\\lib\\site-packages\\numba\\core\\compiler_machinery.py\u001b[0m in \u001b[0;36mcheck\u001b[1;34m(func, compiler_state)\u001b[0m\n\u001b[0;32m    262\u001b[0m \u001b[1;33m\u001b[0m\u001b[0m\n\u001b[0;32m    263\u001b[0m         \u001b[1;32mdef\u001b[0m \u001b[0mcheck\u001b[0m\u001b[1;33m(\u001b[0m\u001b[0mfunc\u001b[0m\u001b[1;33m,\u001b[0m \u001b[0mcompiler_state\u001b[0m\u001b[1;33m)\u001b[0m\u001b[1;33m:\u001b[0m\u001b[1;33m\u001b[0m\u001b[1;33m\u001b[0m\u001b[0m\n\u001b[1;32m--> 264\u001b[1;33m             \u001b[0mmangled\u001b[0m \u001b[1;33m=\u001b[0m \u001b[0mfunc\u001b[0m\u001b[1;33m(\u001b[0m\u001b[0mcompiler_state\u001b[0m\u001b[1;33m)\u001b[0m\u001b[1;33m\u001b[0m\u001b[1;33m\u001b[0m\u001b[0m\n\u001b[0m\u001b[0;32m    265\u001b[0m             \u001b[1;32mif\u001b[0m \u001b[0mmangled\u001b[0m \u001b[1;32mnot\u001b[0m \u001b[1;32min\u001b[0m \u001b[1;33m(\u001b[0m\u001b[1;32mTrue\u001b[0m\u001b[1;33m,\u001b[0m \u001b[1;32mFalse\u001b[0m\u001b[1;33m)\u001b[0m\u001b[1;33m:\u001b[0m\u001b[1;33m\u001b[0m\u001b[1;33m\u001b[0m\u001b[0m\n\u001b[0;32m    266\u001b[0m                 msg = (\"CompilerPass implementations should return True/False. \"\n",
      "\u001b[1;32mC:\\ProgramData\\Anaconda3\\lib\\site-packages\\numba\\core\\untyped_passes.py\u001b[0m in \u001b[0;36mrun_pass\u001b[1;34m(self, state)\u001b[0m\n\u001b[0;32m   1507\u001b[0m         \u001b[1;31m# example generator_info\u001b[0m\u001b[1;33m\u001b[0m\u001b[1;33m\u001b[0m\u001b[1;33m\u001b[0m\u001b[0m\n\u001b[0;32m   1508\u001b[0m         \u001b[0mpost_proc\u001b[0m \u001b[1;33m=\u001b[0m \u001b[0mpostproc\u001b[0m\u001b[1;33m.\u001b[0m\u001b[0mPostProcessor\u001b[0m\u001b[1;33m(\u001b[0m\u001b[0mstate\u001b[0m\u001b[1;33m.\u001b[0m\u001b[0mfunc_ir\u001b[0m\u001b[1;33m)\u001b[0m\u001b[1;33m\u001b[0m\u001b[1;33m\u001b[0m\u001b[0m\n\u001b[1;32m-> 1509\u001b[1;33m         \u001b[0mpost_proc\u001b[0m\u001b[1;33m.\u001b[0m\u001b[0mrun\u001b[0m\u001b[1;33m(\u001b[0m\u001b[0memit_dels\u001b[0m\u001b[1;33m=\u001b[0m\u001b[1;32mFalse\u001b[0m\u001b[1;33m)\u001b[0m\u001b[1;33m\u001b[0m\u001b[1;33m\u001b[0m\u001b[0m\n\u001b[0m\u001b[0;32m   1510\u001b[0m \u001b[1;33m\u001b[0m\u001b[0m\n\u001b[0;32m   1511\u001b[0m         \u001b[1;32mif\u001b[0m \u001b[0mconfig\u001b[0m\u001b[1;33m.\u001b[0m\u001b[0mDEBUG\u001b[0m \u001b[1;32mor\u001b[0m \u001b[0mconfig\u001b[0m\u001b[1;33m.\u001b[0m\u001b[0mDUMP_SSA\u001b[0m\u001b[1;33m:\u001b[0m\u001b[1;33m\u001b[0m\u001b[1;33m\u001b[0m\u001b[0m\n",
      "\u001b[1;32mC:\\ProgramData\\Anaconda3\\lib\\site-packages\\numba\\core\\postproc.py\u001b[0m in \u001b[0;36mrun\u001b[1;34m(self, emit_dels)\u001b[0m\n\u001b[0;32m     80\u001b[0m         bev = analysis.compute_live_variables(vlt.cfg, self.func_ir.blocks,\n\u001b[0;32m     81\u001b[0m                                               \u001b[0mvlt\u001b[0m\u001b[1;33m.\u001b[0m\u001b[0musedefs\u001b[0m\u001b[1;33m.\u001b[0m\u001b[0mdefmap\u001b[0m\u001b[1;33m,\u001b[0m\u001b[1;33m\u001b[0m\u001b[1;33m\u001b[0m\u001b[0m\n\u001b[1;32m---> 82\u001b[1;33m                                               vlt.deadmaps.combined)\n\u001b[0m\u001b[0;32m     83\u001b[0m         \u001b[1;32mfor\u001b[0m \u001b[0moffset\u001b[0m\u001b[1;33m,\u001b[0m \u001b[0mir_block\u001b[0m \u001b[1;32min\u001b[0m \u001b[0mself\u001b[0m\u001b[1;33m.\u001b[0m\u001b[0mfunc_ir\u001b[0m\u001b[1;33m.\u001b[0m\u001b[0mblocks\u001b[0m\u001b[1;33m.\u001b[0m\u001b[0mitems\u001b[0m\u001b[1;33m(\u001b[0m\u001b[1;33m)\u001b[0m\u001b[1;33m:\u001b[0m\u001b[1;33m\u001b[0m\u001b[1;33m\u001b[0m\u001b[0m\n\u001b[0;32m     84\u001b[0m             \u001b[0mself\u001b[0m\u001b[1;33m.\u001b[0m\u001b[0mfunc_ir\u001b[0m\u001b[1;33m.\u001b[0m\u001b[0mblock_entry_vars\u001b[0m\u001b[1;33m[\u001b[0m\u001b[0mir_block\u001b[0m\u001b[1;33m]\u001b[0m \u001b[1;33m=\u001b[0m \u001b[0mbev\u001b[0m\u001b[1;33m[\u001b[0m\u001b[0moffset\u001b[0m\u001b[1;33m]\u001b[0m\u001b[1;33m\u001b[0m\u001b[1;33m\u001b[0m\u001b[0m\n",
      "\u001b[1;32mC:\\ProgramData\\Anaconda3\\lib\\site-packages\\numba\\core\\utils.py\u001b[0m in \u001b[0;36m__get__\u001b[1;34m(self, instance, type)\u001b[0m\n\u001b[0;32m    330\u001b[0m         \u001b[1;32mif\u001b[0m \u001b[0minstance\u001b[0m \u001b[1;32mis\u001b[0m \u001b[1;32mNone\u001b[0m\u001b[1;33m:\u001b[0m\u001b[1;33m\u001b[0m\u001b[1;33m\u001b[0m\u001b[0m\n\u001b[0;32m    331\u001b[0m             \u001b[1;32mreturn\u001b[0m \u001b[0mself\u001b[0m\u001b[1;33m\u001b[0m\u001b[1;33m\u001b[0m\u001b[0m\n\u001b[1;32m--> 332\u001b[1;33m         \u001b[0mres\u001b[0m \u001b[1;33m=\u001b[0m \u001b[0minstance\u001b[0m\u001b[1;33m.\u001b[0m\u001b[0m__dict__\u001b[0m\u001b[1;33m[\u001b[0m\u001b[0mself\u001b[0m\u001b[1;33m.\u001b[0m\u001b[0mname\u001b[0m\u001b[1;33m]\u001b[0m \u001b[1;33m=\u001b[0m \u001b[0mself\u001b[0m\u001b[1;33m.\u001b[0m\u001b[0mfunc\u001b[0m\u001b[1;33m(\u001b[0m\u001b[0minstance\u001b[0m\u001b[1;33m)\u001b[0m\u001b[1;33m\u001b[0m\u001b[1;33m\u001b[0m\u001b[0m\n\u001b[0m\u001b[0;32m    333\u001b[0m         \u001b[1;32mreturn\u001b[0m \u001b[0mres\u001b[0m\u001b[1;33m\u001b[0m\u001b[1;33m\u001b[0m\u001b[0m\n\u001b[0;32m    334\u001b[0m \u001b[1;33m\u001b[0m\u001b[0m\n",
      "\u001b[1;32mC:\\ProgramData\\Anaconda3\\lib\\site-packages\\numba\\core\\postproc.py\u001b[0m in \u001b[0;36mdeadmaps\u001b[1;34m(self)\u001b[0m\n\u001b[0;32m     51\u001b[0m     \u001b[1;33m@\u001b[0m\u001b[0mutils\u001b[0m\u001b[1;33m.\u001b[0m\u001b[0mcached_property\u001b[0m\u001b[1;33m\u001b[0m\u001b[1;33m\u001b[0m\u001b[0m\n\u001b[0;32m     52\u001b[0m     \u001b[1;32mdef\u001b[0m \u001b[0mdeadmaps\u001b[0m\u001b[1;33m(\u001b[0m\u001b[0mself\u001b[0m\u001b[1;33m)\u001b[0m\u001b[1;33m:\u001b[0m\u001b[1;33m\u001b[0m\u001b[1;33m\u001b[0m\u001b[0m\n\u001b[1;32m---> 53\u001b[1;33m         return analysis.compute_dead_maps(self.cfg, self._blocks, self.livemap,\n\u001b[0m\u001b[0;32m     54\u001b[0m                                           self.usedefs.defmap)\n\u001b[0;32m     55\u001b[0m \u001b[1;33m\u001b[0m\u001b[0m\n",
      "\u001b[1;32mC:\\ProgramData\\Anaconda3\\lib\\site-packages\\numba\\core\\utils.py\u001b[0m in \u001b[0;36m__get__\u001b[1;34m(self, instance, type)\u001b[0m\n\u001b[0;32m    330\u001b[0m         \u001b[1;32mif\u001b[0m \u001b[0minstance\u001b[0m \u001b[1;32mis\u001b[0m \u001b[1;32mNone\u001b[0m\u001b[1;33m:\u001b[0m\u001b[1;33m\u001b[0m\u001b[1;33m\u001b[0m\u001b[0m\n\u001b[0;32m    331\u001b[0m             \u001b[1;32mreturn\u001b[0m \u001b[0mself\u001b[0m\u001b[1;33m\u001b[0m\u001b[1;33m\u001b[0m\u001b[0m\n\u001b[1;32m--> 332\u001b[1;33m         \u001b[0mres\u001b[0m \u001b[1;33m=\u001b[0m \u001b[0minstance\u001b[0m\u001b[1;33m.\u001b[0m\u001b[0m__dict__\u001b[0m\u001b[1;33m[\u001b[0m\u001b[0mself\u001b[0m\u001b[1;33m.\u001b[0m\u001b[0mname\u001b[0m\u001b[1;33m]\u001b[0m \u001b[1;33m=\u001b[0m \u001b[0mself\u001b[0m\u001b[1;33m.\u001b[0m\u001b[0mfunc\u001b[0m\u001b[1;33m(\u001b[0m\u001b[0minstance\u001b[0m\u001b[1;33m)\u001b[0m\u001b[1;33m\u001b[0m\u001b[1;33m\u001b[0m\u001b[0m\n\u001b[0m\u001b[0;32m    333\u001b[0m         \u001b[1;32mreturn\u001b[0m \u001b[0mres\u001b[0m\u001b[1;33m\u001b[0m\u001b[1;33m\u001b[0m\u001b[0m\n\u001b[0;32m    334\u001b[0m \u001b[1;33m\u001b[0m\u001b[0m\n",
      "\u001b[1;32mC:\\ProgramData\\Anaconda3\\lib\\site-packages\\numba\\core\\postproc.py\u001b[0m in \u001b[0;36mlivemap\u001b[1;34m(self)\u001b[0m\n\u001b[0;32m     47\u001b[0m         return analysis.compute_live_map(self.cfg, self._blocks,\n\u001b[0;32m     48\u001b[0m                                          \u001b[0mself\u001b[0m\u001b[1;33m.\u001b[0m\u001b[0musedefs\u001b[0m\u001b[1;33m.\u001b[0m\u001b[0musemap\u001b[0m\u001b[1;33m,\u001b[0m\u001b[1;33m\u001b[0m\u001b[1;33m\u001b[0m\u001b[0m\n\u001b[1;32m---> 49\u001b[1;33m                                          self.usedefs.defmap)\n\u001b[0m\u001b[0;32m     50\u001b[0m \u001b[1;33m\u001b[0m\u001b[0m\n\u001b[0;32m     51\u001b[0m     \u001b[1;33m@\u001b[0m\u001b[0mutils\u001b[0m\u001b[1;33m.\u001b[0m\u001b[0mcached_property\u001b[0m\u001b[1;33m\u001b[0m\u001b[1;33m\u001b[0m\u001b[0m\n",
      "\u001b[1;32mC:\\ProgramData\\Anaconda3\\lib\\site-packages\\numba\\core\\analysis.py\u001b[0m in \u001b[0;36mcompute_live_map\u001b[1;34m(cfg, blocks, var_use_map, var_def_map)\u001b[0m\n\u001b[0;32m    109\u001b[0m     \u001b[0mdef_reach_map\u001b[0m \u001b[1;33m=\u001b[0m \u001b[0mdefaultdict\u001b[0m\u001b[1;33m(\u001b[0m\u001b[0mset\u001b[0m\u001b[1;33m)\u001b[0m\u001b[1;33m\u001b[0m\u001b[1;33m\u001b[0m\u001b[0m\n\u001b[0;32m    110\u001b[0m     \u001b[0mfix_point\u001b[0m\u001b[1;33m(\u001b[0m\u001b[0mdef_reach\u001b[0m\u001b[1;33m,\u001b[0m \u001b[0mdef_reach_map\u001b[0m\u001b[1;33m)\u001b[0m\u001b[1;33m\u001b[0m\u001b[1;33m\u001b[0m\u001b[0m\n\u001b[1;32m--> 111\u001b[1;33m     \u001b[0mfix_point\u001b[0m\u001b[1;33m(\u001b[0m\u001b[0mliveness\u001b[0m\u001b[1;33m,\u001b[0m \u001b[0mlive_map\u001b[0m\u001b[1;33m)\u001b[0m\u001b[1;33m\u001b[0m\u001b[1;33m\u001b[0m\u001b[0m\n\u001b[0m\u001b[0;32m    112\u001b[0m     \u001b[1;32mreturn\u001b[0m \u001b[0mlive_map\u001b[0m\u001b[1;33m\u001b[0m\u001b[1;33m\u001b[0m\u001b[0m\n\u001b[0;32m    113\u001b[0m \u001b[1;33m\u001b[0m\u001b[0m\n",
      "\u001b[1;32mC:\\ProgramData\\Anaconda3\\lib\\site-packages\\numba\\core\\analysis.py\u001b[0m in \u001b[0;36mfix_point\u001b[1;34m(fn, dct)\u001b[0m\n\u001b[0;32m     75\u001b[0m         \u001b[0mnew_point\u001b[0m \u001b[1;33m=\u001b[0m \u001b[0mfix_point_progress\u001b[0m\u001b[1;33m(\u001b[0m\u001b[0mdct\u001b[0m\u001b[1;33m)\u001b[0m\u001b[1;33m\u001b[0m\u001b[1;33m\u001b[0m\u001b[0m\n\u001b[0;32m     76\u001b[0m         \u001b[1;32mwhile\u001b[0m \u001b[0mold_point\u001b[0m \u001b[1;33m!=\u001b[0m \u001b[0mnew_point\u001b[0m\u001b[1;33m:\u001b[0m\u001b[1;33m\u001b[0m\u001b[1;33m\u001b[0m\u001b[0m\n\u001b[1;32m---> 77\u001b[1;33m             \u001b[0mfn\u001b[0m\u001b[1;33m(\u001b[0m\u001b[0mdct\u001b[0m\u001b[1;33m)\u001b[0m\u001b[1;33m\u001b[0m\u001b[1;33m\u001b[0m\u001b[0m\n\u001b[0m\u001b[0;32m     78\u001b[0m             \u001b[0mold_point\u001b[0m \u001b[1;33m=\u001b[0m \u001b[0mnew_point\u001b[0m\u001b[1;33m\u001b[0m\u001b[1;33m\u001b[0m\u001b[0m\n\u001b[0;32m     79\u001b[0m             \u001b[0mnew_point\u001b[0m \u001b[1;33m=\u001b[0m \u001b[0mfix_point_progress\u001b[0m\u001b[1;33m(\u001b[0m\u001b[0mdct\u001b[0m\u001b[1;33m)\u001b[0m\u001b[1;33m\u001b[0m\u001b[1;33m\u001b[0m\u001b[0m\n",
      "\u001b[1;32mC:\\ProgramData\\Anaconda3\\lib\\site-packages\\numba\\core\\analysis.py\u001b[0m in \u001b[0;36mliveness\u001b[1;34m(dct)\u001b[0m\n\u001b[0;32m    101\u001b[0m                 \u001b[0mreachable\u001b[0m \u001b[1;33m=\u001b[0m \u001b[0mlive_vars\u001b[0m \u001b[1;33m&\u001b[0m \u001b[0mdef_reach_map\u001b[0m\u001b[1;33m[\u001b[0m\u001b[0minc_blk\u001b[0m\u001b[1;33m]\u001b[0m\u001b[1;33m\u001b[0m\u001b[1;33m\u001b[0m\u001b[0m\n\u001b[0;32m    102\u001b[0m                 \u001b[1;31m# But not defined in the predecessor\u001b[0m\u001b[1;33m\u001b[0m\u001b[1;33m\u001b[0m\u001b[1;33m\u001b[0m\u001b[0m\n\u001b[1;32m--> 103\u001b[1;33m                 \u001b[0mdct\u001b[0m\u001b[1;33m[\u001b[0m\u001b[0minc_blk\u001b[0m\u001b[1;33m]\u001b[0m \u001b[1;33m|=\u001b[0m \u001b[0mreachable\u001b[0m \u001b[1;33m-\u001b[0m \u001b[0mvar_def_map\u001b[0m\u001b[1;33m[\u001b[0m\u001b[0minc_blk\u001b[0m\u001b[1;33m]\u001b[0m\u001b[1;33m\u001b[0m\u001b[1;33m\u001b[0m\u001b[0m\n\u001b[0m\u001b[0;32m    104\u001b[0m \u001b[1;33m\u001b[0m\u001b[0m\n\u001b[0;32m    105\u001b[0m     \u001b[0mlive_map\u001b[0m \u001b[1;33m=\u001b[0m \u001b[1;33m{\u001b[0m\u001b[1;33m}\u001b[0m\u001b[1;33m\u001b[0m\u001b[1;33m\u001b[0m\u001b[0m\n",
      "\u001b[1;31mKeyboardInterrupt\u001b[0m: "
     ]
    },
    {
     "name": "stdout",
     "output_type": "stream",
     "text": [
      "Created hashtable of length 0\n"
     ]
    }
   ],
   "source": [
    "from collections import defaultdict\n",
    "hashtable = defaultdict(lambda: np.inf)\n",
    "\n",
    "def add_to_dict_recursive(state=None, depth=0, maxdepth=6):\n",
    "    if depth+1 > maxdepth:\n",
    "        return\n",
    "    if type(state) is type(None):\n",
    "        state = newstate()\n",
    "        d[state.tobytes()] = 0\n",
    "    for m in moves:\n",
    "        state2 = apply(state, m)\n",
    "        s = state2.tobytes()\n",
    "        d[s] = min(depth+1, d[s])\n",
    "        add_to_dict(state2, depth+1, maxdepth)\n",
    "\n",
    "def add_to_dict_iterative(maxdepth=6):\n",
    "    hashtable = dict()\n",
    "    mashtable = dict()\n",
    "    if maxdepth<0:\n",
    "        return hashtable, mashtable\n",
    "    state = newstate()\n",
    "    hashtable[state.tobytes()] = 0\n",
    "    thisdepth = [(state, '')]\n",
    "    nextdepth = []\n",
    "    depth = 0\n",
    "    while depth < maxdepth:\n",
    "        for state0, m0 in thisdepth:\n",
    "            for m in moves:\n",
    "                state = apply(state0, m)\n",
    "                s = state.tobytes()\n",
    "                if s in hashtable:  # falls state2 bereits im algorithmus vorkam, kann der neue wert nicht kleiner sein\n",
    "                    continue\n",
    "                else:\n",
    "                    hashtable[s] = depth+1\n",
    "                    mashtable[s] = m0 + m\n",
    "                    nextdepth.append((state, m0+m))\n",
    "        # vorbereitung für nächste iteration\n",
    "        thisdepth = nextdepth\n",
    "        nextdepth = []\n",
    "        depth += 1\n",
    "    return hashtable, mashtable\n",
    "        \n",
    "hashed_depth = -1##\n",
    "%time _hashtable, mashtable = add_to_dict_iterative(hashed_depth)\n",
    "print(f'Created hashtable of length {len(_hashtable)}')\n",
    "hashtable = _hashtable"
   ]
  },
  {
   "cell_type": "code",
   "execution_count": null,
   "metadata": {},
   "outputs": [],
   "source": []
  },
  {
   "cell_type": "code",
   "execution_count": null,
   "metadata": {
    "deletable": false,
    "editable": false,
    "run_control": {
     "frozen": true
    }
   },
   "outputs": [],
   "source": [
    "state = newstate()\n",
    "state = apply(state, 'F')\n",
    "s = state.tobytes()\n",
    "#%timeit s in d\n",
    "hashtable[s], mashtable[s]"
   ]
  },
  {
   "cell_type": "code",
   "execution_count": null,
   "metadata": {},
   "outputs": [],
   "source": []
  },
  {
   "cell_type": "code",
   "execution_count": 8,
   "metadata": {
    "ExecuteTime": {
     "end_time": "2021-10-05T13:43:47.467527Z",
     "start_time": "2021-10-05T13:43:27.865241Z"
    },
    "deletable": false,
    "editable": false
   },
   "outputs": [
    {
     "ename": "KeyboardInterrupt",
     "evalue": "",
     "output_type": "error",
     "traceback": [
      "\u001b[1;31m---------------------------------------------------------------------------\u001b[0m",
      "\u001b[1;31mKeyboardInterrupt\u001b[0m                         Traceback (most recent call last)",
      "\u001b[1;32m<ipython-input-8-e49c0d4c55b6>\u001b[0m in \u001b[0;36m<module>\u001b[1;34m\u001b[0m\n\u001b[0;32m      1\u001b[0m \u001b[0mstate\u001b[0m \u001b[1;33m=\u001b[0m \u001b[0mnewstate\u001b[0m\u001b[1;33m(\u001b[0m\u001b[1;33m)\u001b[0m\u001b[1;33m\u001b[0m\u001b[1;33m\u001b[0m\u001b[0m\n\u001b[0;32m      2\u001b[0m \u001b[0mstate\u001b[0m \u001b[1;33m=\u001b[0m \u001b[0mapply\u001b[0m\u001b[1;33m(\u001b[0m\u001b[0mstate\u001b[0m\u001b[1;33m,\u001b[0m \u001b[1;34m'L'\u001b[0m\u001b[1;33m)\u001b[0m\u001b[1;33m\u001b[0m\u001b[1;33m\u001b[0m\u001b[0m\n\u001b[1;32m----> 3\u001b[1;33m \u001b[0mstate\u001b[0m \u001b[1;33m=\u001b[0m \u001b[0mapply\u001b[0m\u001b[1;33m(\u001b[0m\u001b[0mstate\u001b[0m\u001b[1;33m,\u001b[0m \u001b[1;34m'U'\u001b[0m\u001b[1;33m)\u001b[0m\u001b[1;33m\u001b[0m\u001b[1;33m\u001b[0m\u001b[0m\n\u001b[0m\u001b[0;32m      4\u001b[0m \u001b[0mstate\u001b[0m \u001b[1;33m=\u001b[0m \u001b[0maugment\u001b[0m\u001b[1;33m(\u001b[0m\u001b[0mstate\u001b[0m\u001b[1;33m)\u001b[0m\u001b[1;33m\u001b[0m\u001b[1;33m\u001b[0m\u001b[0m\n\u001b[0;32m      5\u001b[0m \u001b[0mdraw\u001b[0m\u001b[1;33m(\u001b[0m\u001b[0mstate\u001b[0m\u001b[1;33m)\u001b[0m\u001b[1;33m\u001b[0m\u001b[1;33m\u001b[0m\u001b[0m\n",
      "\u001b[1;32mD:\\Anaconda-Python-3.7\\rubiks cube\\rubiks_cube_pieces.py\u001b[0m in \u001b[0;36mapply\u001b[1;34m(state, m)\u001b[0m\n\u001b[0;32m    980\u001b[0m \u001b[1;33m\u001b[0m\u001b[0m\n\u001b[0;32m    981\u001b[0m     \u001b[1;32mfor\u001b[0m \u001b[0mmm\u001b[0m \u001b[1;32min\u001b[0m \u001b[0mm\u001b[0m\u001b[1;33m:\u001b[0m\u001b[1;33m\u001b[0m\u001b[1;33m\u001b[0m\u001b[0m\n\u001b[1;32m--> 982\u001b[1;33m         \u001b[0mstate\u001b[0m \u001b[1;33m=\u001b[0m \u001b[0m_apply\u001b[0m\u001b[1;33m(\u001b[0m\u001b[0mstate\u001b[0m\u001b[1;33m,\u001b[0m \u001b[0mmm\u001b[0m\u001b[1;33m)\u001b[0m\u001b[1;33m\u001b[0m\u001b[1;33m\u001b[0m\u001b[0m\n\u001b[0m\u001b[0;32m    983\u001b[0m \u001b[1;33m\u001b[0m\u001b[0m\n\u001b[0;32m    984\u001b[0m     \u001b[1;32mreturn\u001b[0m \u001b[0mstate\u001b[0m\u001b[1;33m\u001b[0m\u001b[1;33m\u001b[0m\u001b[0m\n",
      "\u001b[1;32mC:\\ProgramData\\Anaconda3\\lib\\site-packages\\numba\\core\\dispatcher.py\u001b[0m in \u001b[0;36m_compile_for_args\u001b[1;34m(self, *args, **kws)\u001b[0m\n\u001b[0;32m    365\u001b[0m                 \u001b[0margtypes\u001b[0m\u001b[1;33m.\u001b[0m\u001b[0mappend\u001b[0m\u001b[1;33m(\u001b[0m\u001b[0mself\u001b[0m\u001b[1;33m.\u001b[0m\u001b[0mtypeof_pyval\u001b[0m\u001b[1;33m(\u001b[0m\u001b[0ma\u001b[0m\u001b[1;33m)\u001b[0m\u001b[1;33m)\u001b[0m\u001b[1;33m\u001b[0m\u001b[1;33m\u001b[0m\u001b[0m\n\u001b[0;32m    366\u001b[0m         \u001b[1;32mtry\u001b[0m\u001b[1;33m:\u001b[0m\u001b[1;33m\u001b[0m\u001b[1;33m\u001b[0m\u001b[0m\n\u001b[1;32m--> 367\u001b[1;33m             \u001b[1;32mreturn\u001b[0m \u001b[0mself\u001b[0m\u001b[1;33m.\u001b[0m\u001b[0mcompile\u001b[0m\u001b[1;33m(\u001b[0m\u001b[0mtuple\u001b[0m\u001b[1;33m(\u001b[0m\u001b[0margtypes\u001b[0m\u001b[1;33m)\u001b[0m\u001b[1;33m)\u001b[0m\u001b[1;33m\u001b[0m\u001b[1;33m\u001b[0m\u001b[0m\n\u001b[0m\u001b[0;32m    368\u001b[0m         \u001b[1;32mexcept\u001b[0m \u001b[0merrors\u001b[0m\u001b[1;33m.\u001b[0m\u001b[0mForceLiteralArg\u001b[0m \u001b[1;32mas\u001b[0m \u001b[0me\u001b[0m\u001b[1;33m:\u001b[0m\u001b[1;33m\u001b[0m\u001b[1;33m\u001b[0m\u001b[0m\n\u001b[0;32m    369\u001b[0m             \u001b[1;31m# Received request for compiler re-entry with the list of arguments\u001b[0m\u001b[1;33m\u001b[0m\u001b[1;33m\u001b[0m\u001b[1;33m\u001b[0m\u001b[0m\n",
      "\u001b[1;32mC:\\ProgramData\\Anaconda3\\lib\\site-packages\\numba\\core\\compiler_lock.py\u001b[0m in \u001b[0;36m_acquire_compile_lock\u001b[1;34m(*args, **kwargs)\u001b[0m\n\u001b[0;32m     30\u001b[0m         \u001b[1;32mdef\u001b[0m \u001b[0m_acquire_compile_lock\u001b[0m\u001b[1;33m(\u001b[0m\u001b[1;33m*\u001b[0m\u001b[0margs\u001b[0m\u001b[1;33m,\u001b[0m \u001b[1;33m**\u001b[0m\u001b[0mkwargs\u001b[0m\u001b[1;33m)\u001b[0m\u001b[1;33m:\u001b[0m\u001b[1;33m\u001b[0m\u001b[1;33m\u001b[0m\u001b[0m\n\u001b[0;32m     31\u001b[0m             \u001b[1;32mwith\u001b[0m \u001b[0mself\u001b[0m\u001b[1;33m:\u001b[0m\u001b[1;33m\u001b[0m\u001b[1;33m\u001b[0m\u001b[0m\n\u001b[1;32m---> 32\u001b[1;33m                 \u001b[1;32mreturn\u001b[0m \u001b[0mfunc\u001b[0m\u001b[1;33m(\u001b[0m\u001b[1;33m*\u001b[0m\u001b[0margs\u001b[0m\u001b[1;33m,\u001b[0m \u001b[1;33m**\u001b[0m\u001b[0mkwargs\u001b[0m\u001b[1;33m)\u001b[0m\u001b[1;33m\u001b[0m\u001b[1;33m\u001b[0m\u001b[0m\n\u001b[0m\u001b[0;32m     33\u001b[0m         \u001b[1;32mreturn\u001b[0m \u001b[0m_acquire_compile_lock\u001b[0m\u001b[1;33m\u001b[0m\u001b[1;33m\u001b[0m\u001b[0m\n\u001b[0;32m     34\u001b[0m \u001b[1;33m\u001b[0m\u001b[0m\n",
      "\u001b[1;32mC:\\ProgramData\\Anaconda3\\lib\\site-packages\\numba\\core\\dispatcher.py\u001b[0m in \u001b[0;36mcompile\u001b[1;34m(self, sig)\u001b[0m\n\u001b[0;32m    806\u001b[0m             \u001b[0mself\u001b[0m\u001b[1;33m.\u001b[0m\u001b[0m_cache_misses\u001b[0m\u001b[1;33m[\u001b[0m\u001b[0msig\u001b[0m\u001b[1;33m]\u001b[0m \u001b[1;33m+=\u001b[0m \u001b[1;36m1\u001b[0m\u001b[1;33m\u001b[0m\u001b[1;33m\u001b[0m\u001b[0m\n\u001b[0;32m    807\u001b[0m             \u001b[1;32mtry\u001b[0m\u001b[1;33m:\u001b[0m\u001b[1;33m\u001b[0m\u001b[1;33m\u001b[0m\u001b[0m\n\u001b[1;32m--> 808\u001b[1;33m                 \u001b[0mcres\u001b[0m \u001b[1;33m=\u001b[0m \u001b[0mself\u001b[0m\u001b[1;33m.\u001b[0m\u001b[0m_compiler\u001b[0m\u001b[1;33m.\u001b[0m\u001b[0mcompile\u001b[0m\u001b[1;33m(\u001b[0m\u001b[0margs\u001b[0m\u001b[1;33m,\u001b[0m \u001b[0mreturn_type\u001b[0m\u001b[1;33m)\u001b[0m\u001b[1;33m\u001b[0m\u001b[1;33m\u001b[0m\u001b[0m\n\u001b[0m\u001b[0;32m    809\u001b[0m             \u001b[1;32mexcept\u001b[0m \u001b[0merrors\u001b[0m\u001b[1;33m.\u001b[0m\u001b[0mForceLiteralArg\u001b[0m \u001b[1;32mas\u001b[0m \u001b[0me\u001b[0m\u001b[1;33m:\u001b[0m\u001b[1;33m\u001b[0m\u001b[1;33m\u001b[0m\u001b[0m\n\u001b[0;32m    810\u001b[0m                 \u001b[1;32mdef\u001b[0m \u001b[0mfolded\u001b[0m\u001b[1;33m(\u001b[0m\u001b[0margs\u001b[0m\u001b[1;33m,\u001b[0m \u001b[0mkws\u001b[0m\u001b[1;33m)\u001b[0m\u001b[1;33m:\u001b[0m\u001b[1;33m\u001b[0m\u001b[1;33m\u001b[0m\u001b[0m\n",
      "\u001b[1;32mC:\\ProgramData\\Anaconda3\\lib\\site-packages\\numba\\core\\dispatcher.py\u001b[0m in \u001b[0;36mcompile\u001b[1;34m(self, args, return_type)\u001b[0m\n\u001b[0;32m     76\u001b[0m \u001b[1;33m\u001b[0m\u001b[0m\n\u001b[0;32m     77\u001b[0m     \u001b[1;32mdef\u001b[0m \u001b[0mcompile\u001b[0m\u001b[1;33m(\u001b[0m\u001b[0mself\u001b[0m\u001b[1;33m,\u001b[0m \u001b[0margs\u001b[0m\u001b[1;33m,\u001b[0m \u001b[0mreturn_type\u001b[0m\u001b[1;33m)\u001b[0m\u001b[1;33m:\u001b[0m\u001b[1;33m\u001b[0m\u001b[1;33m\u001b[0m\u001b[0m\n\u001b[1;32m---> 78\u001b[1;33m         \u001b[0mstatus\u001b[0m\u001b[1;33m,\u001b[0m \u001b[0mretval\u001b[0m \u001b[1;33m=\u001b[0m \u001b[0mself\u001b[0m\u001b[1;33m.\u001b[0m\u001b[0m_compile_cached\u001b[0m\u001b[1;33m(\u001b[0m\u001b[0margs\u001b[0m\u001b[1;33m,\u001b[0m \u001b[0mreturn_type\u001b[0m\u001b[1;33m)\u001b[0m\u001b[1;33m\u001b[0m\u001b[1;33m\u001b[0m\u001b[0m\n\u001b[0m\u001b[0;32m     79\u001b[0m         \u001b[1;32mif\u001b[0m \u001b[0mstatus\u001b[0m\u001b[1;33m:\u001b[0m\u001b[1;33m\u001b[0m\u001b[1;33m\u001b[0m\u001b[0m\n\u001b[0;32m     80\u001b[0m             \u001b[1;32mreturn\u001b[0m \u001b[0mretval\u001b[0m\u001b[1;33m\u001b[0m\u001b[1;33m\u001b[0m\u001b[0m\n",
      "\u001b[1;32mC:\\ProgramData\\Anaconda3\\lib\\site-packages\\numba\\core\\dispatcher.py\u001b[0m in \u001b[0;36m_compile_cached\u001b[1;34m(self, args, return_type)\u001b[0m\n\u001b[0;32m     90\u001b[0m \u001b[1;33m\u001b[0m\u001b[0m\n\u001b[0;32m     91\u001b[0m         \u001b[1;32mtry\u001b[0m\u001b[1;33m:\u001b[0m\u001b[1;33m\u001b[0m\u001b[1;33m\u001b[0m\u001b[0m\n\u001b[1;32m---> 92\u001b[1;33m             \u001b[0mretval\u001b[0m \u001b[1;33m=\u001b[0m \u001b[0mself\u001b[0m\u001b[1;33m.\u001b[0m\u001b[0m_compile_core\u001b[0m\u001b[1;33m(\u001b[0m\u001b[0margs\u001b[0m\u001b[1;33m,\u001b[0m \u001b[0mreturn_type\u001b[0m\u001b[1;33m)\u001b[0m\u001b[1;33m\u001b[0m\u001b[1;33m\u001b[0m\u001b[0m\n\u001b[0m\u001b[0;32m     93\u001b[0m         \u001b[1;32mexcept\u001b[0m \u001b[0merrors\u001b[0m\u001b[1;33m.\u001b[0m\u001b[0mTypingError\u001b[0m \u001b[1;32mas\u001b[0m \u001b[0me\u001b[0m\u001b[1;33m:\u001b[0m\u001b[1;33m\u001b[0m\u001b[1;33m\u001b[0m\u001b[0m\n\u001b[0;32m     94\u001b[0m             \u001b[0mself\u001b[0m\u001b[1;33m.\u001b[0m\u001b[0m_failed_cache\u001b[0m\u001b[1;33m[\u001b[0m\u001b[0mkey\u001b[0m\u001b[1;33m]\u001b[0m \u001b[1;33m=\u001b[0m \u001b[0me\u001b[0m\u001b[1;33m\u001b[0m\u001b[1;33m\u001b[0m\u001b[0m\n",
      "\u001b[1;32mC:\\ProgramData\\Anaconda3\\lib\\site-packages\\numba\\core\\dispatcher.py\u001b[0m in \u001b[0;36m_compile_core\u001b[1;34m(self, args, return_type)\u001b[0m\n\u001b[0;32m    108\u001b[0m                                       \u001b[0margs\u001b[0m\u001b[1;33m=\u001b[0m\u001b[0margs\u001b[0m\u001b[1;33m,\u001b[0m \u001b[0mreturn_type\u001b[0m\u001b[1;33m=\u001b[0m\u001b[0mreturn_type\u001b[0m\u001b[1;33m,\u001b[0m\u001b[1;33m\u001b[0m\u001b[1;33m\u001b[0m\u001b[0m\n\u001b[0;32m    109\u001b[0m                                       \u001b[0mflags\u001b[0m\u001b[1;33m=\u001b[0m\u001b[0mflags\u001b[0m\u001b[1;33m,\u001b[0m \u001b[0mlocals\u001b[0m\u001b[1;33m=\u001b[0m\u001b[0mself\u001b[0m\u001b[1;33m.\u001b[0m\u001b[0mlocals\u001b[0m\u001b[1;33m,\u001b[0m\u001b[1;33m\u001b[0m\u001b[1;33m\u001b[0m\u001b[0m\n\u001b[1;32m--> 110\u001b[1;33m                                       pipeline_class=self.pipeline_class)\n\u001b[0m\u001b[0;32m    111\u001b[0m         \u001b[1;31m# Check typing error if object mode is used\u001b[0m\u001b[1;33m\u001b[0m\u001b[1;33m\u001b[0m\u001b[1;33m\u001b[0m\u001b[0m\n\u001b[0;32m    112\u001b[0m         \u001b[1;32mif\u001b[0m \u001b[0mcres\u001b[0m\u001b[1;33m.\u001b[0m\u001b[0mtyping_error\u001b[0m \u001b[1;32mis\u001b[0m \u001b[1;32mnot\u001b[0m \u001b[1;32mNone\u001b[0m \u001b[1;32mand\u001b[0m \u001b[1;32mnot\u001b[0m \u001b[0mflags\u001b[0m\u001b[1;33m.\u001b[0m\u001b[0menable_pyobject\u001b[0m\u001b[1;33m:\u001b[0m\u001b[1;33m\u001b[0m\u001b[1;33m\u001b[0m\u001b[0m\n",
      "\u001b[1;32mC:\\ProgramData\\Anaconda3\\lib\\site-packages\\numba\\core\\compiler.py\u001b[0m in \u001b[0;36mcompile_extra\u001b[1;34m(typingctx, targetctx, func, args, return_type, flags, locals, library, pipeline_class)\u001b[0m\n\u001b[0;32m    601\u001b[0m     pipeline = pipeline_class(typingctx, targetctx, library,\n\u001b[0;32m    602\u001b[0m                               args, return_type, flags, locals)\n\u001b[1;32m--> 603\u001b[1;33m     \u001b[1;32mreturn\u001b[0m \u001b[0mpipeline\u001b[0m\u001b[1;33m.\u001b[0m\u001b[0mcompile_extra\u001b[0m\u001b[1;33m(\u001b[0m\u001b[0mfunc\u001b[0m\u001b[1;33m)\u001b[0m\u001b[1;33m\u001b[0m\u001b[1;33m\u001b[0m\u001b[0m\n\u001b[0m\u001b[0;32m    604\u001b[0m \u001b[1;33m\u001b[0m\u001b[0m\n\u001b[0;32m    605\u001b[0m \u001b[1;33m\u001b[0m\u001b[0m\n",
      "\u001b[1;32mC:\\ProgramData\\Anaconda3\\lib\\site-packages\\numba\\core\\compiler.py\u001b[0m in \u001b[0;36mcompile_extra\u001b[1;34m(self, func)\u001b[0m\n\u001b[0;32m    337\u001b[0m         \u001b[0mself\u001b[0m\u001b[1;33m.\u001b[0m\u001b[0mstate\u001b[0m\u001b[1;33m.\u001b[0m\u001b[0mlifted\u001b[0m \u001b[1;33m=\u001b[0m \u001b[1;33m(\u001b[0m\u001b[1;33m)\u001b[0m\u001b[1;33m\u001b[0m\u001b[1;33m\u001b[0m\u001b[0m\n\u001b[0;32m    338\u001b[0m         \u001b[0mself\u001b[0m\u001b[1;33m.\u001b[0m\u001b[0mstate\u001b[0m\u001b[1;33m.\u001b[0m\u001b[0mlifted_from\u001b[0m \u001b[1;33m=\u001b[0m \u001b[1;32mNone\u001b[0m\u001b[1;33m\u001b[0m\u001b[1;33m\u001b[0m\u001b[0m\n\u001b[1;32m--> 339\u001b[1;33m         \u001b[1;32mreturn\u001b[0m \u001b[0mself\u001b[0m\u001b[1;33m.\u001b[0m\u001b[0m_compile_bytecode\u001b[0m\u001b[1;33m(\u001b[0m\u001b[1;33m)\u001b[0m\u001b[1;33m\u001b[0m\u001b[1;33m\u001b[0m\u001b[0m\n\u001b[0m\u001b[0;32m    340\u001b[0m \u001b[1;33m\u001b[0m\u001b[0m\n\u001b[0;32m    341\u001b[0m     \u001b[1;32mdef\u001b[0m \u001b[0mcompile_ir\u001b[0m\u001b[1;33m(\u001b[0m\u001b[0mself\u001b[0m\u001b[1;33m,\u001b[0m \u001b[0mfunc_ir\u001b[0m\u001b[1;33m,\u001b[0m \u001b[0mlifted\u001b[0m\u001b[1;33m=\u001b[0m\u001b[1;33m(\u001b[0m\u001b[1;33m)\u001b[0m\u001b[1;33m,\u001b[0m \u001b[0mlifted_from\u001b[0m\u001b[1;33m=\u001b[0m\u001b[1;32mNone\u001b[0m\u001b[1;33m)\u001b[0m\u001b[1;33m:\u001b[0m\u001b[1;33m\u001b[0m\u001b[1;33m\u001b[0m\u001b[0m\n",
      "\u001b[1;32mC:\\ProgramData\\Anaconda3\\lib\\site-packages\\numba\\core\\compiler.py\u001b[0m in \u001b[0;36m_compile_bytecode\u001b[1;34m(self)\u001b[0m\n\u001b[0;32m    399\u001b[0m         \"\"\"\n\u001b[0;32m    400\u001b[0m         \u001b[1;32massert\u001b[0m \u001b[0mself\u001b[0m\u001b[1;33m.\u001b[0m\u001b[0mstate\u001b[0m\u001b[1;33m.\u001b[0m\u001b[0mfunc_ir\u001b[0m \u001b[1;32mis\u001b[0m \u001b[1;32mNone\u001b[0m\u001b[1;33m\u001b[0m\u001b[1;33m\u001b[0m\u001b[0m\n\u001b[1;32m--> 401\u001b[1;33m         \u001b[1;32mreturn\u001b[0m \u001b[0mself\u001b[0m\u001b[1;33m.\u001b[0m\u001b[0m_compile_core\u001b[0m\u001b[1;33m(\u001b[0m\u001b[1;33m)\u001b[0m\u001b[1;33m\u001b[0m\u001b[1;33m\u001b[0m\u001b[0m\n\u001b[0m\u001b[0;32m    402\u001b[0m \u001b[1;33m\u001b[0m\u001b[0m\n\u001b[0;32m    403\u001b[0m     \u001b[1;32mdef\u001b[0m \u001b[0m_compile_ir\u001b[0m\u001b[1;33m(\u001b[0m\u001b[0mself\u001b[0m\u001b[1;33m)\u001b[0m\u001b[1;33m:\u001b[0m\u001b[1;33m\u001b[0m\u001b[1;33m\u001b[0m\u001b[0m\n",
      "\u001b[1;32mC:\\ProgramData\\Anaconda3\\lib\\site-packages\\numba\\core\\compiler.py\u001b[0m in \u001b[0;36m_compile_core\u001b[1;34m(self)\u001b[0m\n\u001b[0;32m    370\u001b[0m             \u001b[0mres\u001b[0m \u001b[1;33m=\u001b[0m \u001b[1;32mNone\u001b[0m\u001b[1;33m\u001b[0m\u001b[1;33m\u001b[0m\u001b[0m\n\u001b[0;32m    371\u001b[0m             \u001b[1;32mtry\u001b[0m\u001b[1;33m:\u001b[0m\u001b[1;33m\u001b[0m\u001b[1;33m\u001b[0m\u001b[0m\n\u001b[1;32m--> 372\u001b[1;33m                 \u001b[0mpm\u001b[0m\u001b[1;33m.\u001b[0m\u001b[0mrun\u001b[0m\u001b[1;33m(\u001b[0m\u001b[0mself\u001b[0m\u001b[1;33m.\u001b[0m\u001b[0mstate\u001b[0m\u001b[1;33m)\u001b[0m\u001b[1;33m\u001b[0m\u001b[1;33m\u001b[0m\u001b[0m\n\u001b[0m\u001b[0;32m    373\u001b[0m                 \u001b[1;32mif\u001b[0m \u001b[0mself\u001b[0m\u001b[1;33m.\u001b[0m\u001b[0mstate\u001b[0m\u001b[1;33m.\u001b[0m\u001b[0mcr\u001b[0m \u001b[1;32mis\u001b[0m \u001b[1;32mnot\u001b[0m \u001b[1;32mNone\u001b[0m\u001b[1;33m:\u001b[0m\u001b[1;33m\u001b[0m\u001b[1;33m\u001b[0m\u001b[0m\n\u001b[0;32m    374\u001b[0m                     \u001b[1;32mbreak\u001b[0m\u001b[1;33m\u001b[0m\u001b[1;33m\u001b[0m\u001b[0m\n",
      "\u001b[1;32mC:\\ProgramData\\Anaconda3\\lib\\site-packages\\numba\\core\\compiler_machinery.py\u001b[0m in \u001b[0;36mrun\u001b[1;34m(self, state)\u001b[0m\n\u001b[0;32m    330\u001b[0m                 \u001b[0mpass_inst\u001b[0m \u001b[1;33m=\u001b[0m \u001b[0m_pass_registry\u001b[0m\u001b[1;33m.\u001b[0m\u001b[0mget\u001b[0m\u001b[1;33m(\u001b[0m\u001b[0mpss\u001b[0m\u001b[1;33m)\u001b[0m\u001b[1;33m.\u001b[0m\u001b[0mpass_inst\u001b[0m\u001b[1;33m\u001b[0m\u001b[1;33m\u001b[0m\u001b[0m\n\u001b[0;32m    331\u001b[0m                 \u001b[1;32mif\u001b[0m \u001b[0misinstance\u001b[0m\u001b[1;33m(\u001b[0m\u001b[0mpass_inst\u001b[0m\u001b[1;33m,\u001b[0m \u001b[0mCompilerPass\u001b[0m\u001b[1;33m)\u001b[0m\u001b[1;33m:\u001b[0m\u001b[1;33m\u001b[0m\u001b[1;33m\u001b[0m\u001b[0m\n\u001b[1;32m--> 332\u001b[1;33m                     \u001b[0mself\u001b[0m\u001b[1;33m.\u001b[0m\u001b[0m_runPass\u001b[0m\u001b[1;33m(\u001b[0m\u001b[0midx\u001b[0m\u001b[1;33m,\u001b[0m \u001b[0mpass_inst\u001b[0m\u001b[1;33m,\u001b[0m \u001b[0mstate\u001b[0m\u001b[1;33m)\u001b[0m\u001b[1;33m\u001b[0m\u001b[1;33m\u001b[0m\u001b[0m\n\u001b[0m\u001b[0;32m    333\u001b[0m                 \u001b[1;32melse\u001b[0m\u001b[1;33m:\u001b[0m\u001b[1;33m\u001b[0m\u001b[1;33m\u001b[0m\u001b[0m\n\u001b[0;32m    334\u001b[0m                     \u001b[1;32mraise\u001b[0m \u001b[0mBaseException\u001b[0m\u001b[1;33m(\u001b[0m\u001b[1;34m\"Legacy pass in use\"\u001b[0m\u001b[1;33m)\u001b[0m\u001b[1;33m\u001b[0m\u001b[1;33m\u001b[0m\u001b[0m\n",
      "\u001b[1;32mC:\\ProgramData\\Anaconda3\\lib\\site-packages\\numba\\core\\compiler_lock.py\u001b[0m in \u001b[0;36m_acquire_compile_lock\u001b[1;34m(*args, **kwargs)\u001b[0m\n\u001b[0;32m     30\u001b[0m         \u001b[1;32mdef\u001b[0m \u001b[0m_acquire_compile_lock\u001b[0m\u001b[1;33m(\u001b[0m\u001b[1;33m*\u001b[0m\u001b[0margs\u001b[0m\u001b[1;33m,\u001b[0m \u001b[1;33m**\u001b[0m\u001b[0mkwargs\u001b[0m\u001b[1;33m)\u001b[0m\u001b[1;33m:\u001b[0m\u001b[1;33m\u001b[0m\u001b[1;33m\u001b[0m\u001b[0m\n\u001b[0;32m     31\u001b[0m             \u001b[1;32mwith\u001b[0m \u001b[0mself\u001b[0m\u001b[1;33m:\u001b[0m\u001b[1;33m\u001b[0m\u001b[1;33m\u001b[0m\u001b[0m\n\u001b[1;32m---> 32\u001b[1;33m                 \u001b[1;32mreturn\u001b[0m \u001b[0mfunc\u001b[0m\u001b[1;33m(\u001b[0m\u001b[1;33m*\u001b[0m\u001b[0margs\u001b[0m\u001b[1;33m,\u001b[0m \u001b[1;33m**\u001b[0m\u001b[0mkwargs\u001b[0m\u001b[1;33m)\u001b[0m\u001b[1;33m\u001b[0m\u001b[1;33m\u001b[0m\u001b[0m\n\u001b[0m\u001b[0;32m     33\u001b[0m         \u001b[1;32mreturn\u001b[0m \u001b[0m_acquire_compile_lock\u001b[0m\u001b[1;33m\u001b[0m\u001b[1;33m\u001b[0m\u001b[0m\n\u001b[0;32m     34\u001b[0m \u001b[1;33m\u001b[0m\u001b[0m\n",
      "\u001b[1;32mC:\\ProgramData\\Anaconda3\\lib\\site-packages\\numba\\core\\compiler_machinery.py\u001b[0m in \u001b[0;36m_runPass\u001b[1;34m(self, index, pss, internal_state)\u001b[0m\n\u001b[0;32m    289\u001b[0m             \u001b[0mmutated\u001b[0m \u001b[1;33m|=\u001b[0m \u001b[0mcheck\u001b[0m\u001b[1;33m(\u001b[0m\u001b[0mpss\u001b[0m\u001b[1;33m.\u001b[0m\u001b[0mrun_initialization\u001b[0m\u001b[1;33m,\u001b[0m \u001b[0minternal_state\u001b[0m\u001b[1;33m)\u001b[0m\u001b[1;33m\u001b[0m\u001b[1;33m\u001b[0m\u001b[0m\n\u001b[0;32m    290\u001b[0m         \u001b[1;32mwith\u001b[0m \u001b[0mSimpleTimer\u001b[0m\u001b[1;33m(\u001b[0m\u001b[1;33m)\u001b[0m \u001b[1;32mas\u001b[0m \u001b[0mpass_time\u001b[0m\u001b[1;33m:\u001b[0m\u001b[1;33m\u001b[0m\u001b[1;33m\u001b[0m\u001b[0m\n\u001b[1;32m--> 291\u001b[1;33m             \u001b[0mmutated\u001b[0m \u001b[1;33m|=\u001b[0m \u001b[0mcheck\u001b[0m\u001b[1;33m(\u001b[0m\u001b[0mpss\u001b[0m\u001b[1;33m.\u001b[0m\u001b[0mrun_pass\u001b[0m\u001b[1;33m,\u001b[0m \u001b[0minternal_state\u001b[0m\u001b[1;33m)\u001b[0m\u001b[1;33m\u001b[0m\u001b[1;33m\u001b[0m\u001b[0m\n\u001b[0m\u001b[0;32m    292\u001b[0m         \u001b[1;32mwith\u001b[0m \u001b[0mSimpleTimer\u001b[0m\u001b[1;33m(\u001b[0m\u001b[1;33m)\u001b[0m \u001b[1;32mas\u001b[0m \u001b[0mfinalize_time\u001b[0m\u001b[1;33m:\u001b[0m\u001b[1;33m\u001b[0m\u001b[1;33m\u001b[0m\u001b[0m\n\u001b[0;32m    293\u001b[0m             \u001b[0mmutated\u001b[0m \u001b[1;33m|=\u001b[0m \u001b[0mcheck\u001b[0m\u001b[1;33m(\u001b[0m\u001b[0mpss\u001b[0m\u001b[1;33m.\u001b[0m\u001b[0mrun_finalizer\u001b[0m\u001b[1;33m,\u001b[0m \u001b[0minternal_state\u001b[0m\u001b[1;33m)\u001b[0m\u001b[1;33m\u001b[0m\u001b[1;33m\u001b[0m\u001b[0m\n",
      "\u001b[1;32mC:\\ProgramData\\Anaconda3\\lib\\site-packages\\numba\\core\\compiler_machinery.py\u001b[0m in \u001b[0;36mcheck\u001b[1;34m(func, compiler_state)\u001b[0m\n\u001b[0;32m    262\u001b[0m \u001b[1;33m\u001b[0m\u001b[0m\n\u001b[0;32m    263\u001b[0m         \u001b[1;32mdef\u001b[0m \u001b[0mcheck\u001b[0m\u001b[1;33m(\u001b[0m\u001b[0mfunc\u001b[0m\u001b[1;33m,\u001b[0m \u001b[0mcompiler_state\u001b[0m\u001b[1;33m)\u001b[0m\u001b[1;33m:\u001b[0m\u001b[1;33m\u001b[0m\u001b[1;33m\u001b[0m\u001b[0m\n\u001b[1;32m--> 264\u001b[1;33m             \u001b[0mmangled\u001b[0m \u001b[1;33m=\u001b[0m \u001b[0mfunc\u001b[0m\u001b[1;33m(\u001b[0m\u001b[0mcompiler_state\u001b[0m\u001b[1;33m)\u001b[0m\u001b[1;33m\u001b[0m\u001b[1;33m\u001b[0m\u001b[0m\n\u001b[0m\u001b[0;32m    265\u001b[0m             \u001b[1;32mif\u001b[0m \u001b[0mmangled\u001b[0m \u001b[1;32mnot\u001b[0m \u001b[1;32min\u001b[0m \u001b[1;33m(\u001b[0m\u001b[1;32mTrue\u001b[0m\u001b[1;33m,\u001b[0m \u001b[1;32mFalse\u001b[0m\u001b[1;33m)\u001b[0m\u001b[1;33m:\u001b[0m\u001b[1;33m\u001b[0m\u001b[1;33m\u001b[0m\u001b[0m\n\u001b[0;32m    266\u001b[0m                 msg = (\"CompilerPass implementations should return True/False. \"\n",
      "\u001b[1;32mC:\\ProgramData\\Anaconda3\\lib\\site-packages\\numba\\core\\untyped_passes.py\u001b[0m in \u001b[0;36mrun_pass\u001b[1;34m(self, state)\u001b[0m\n\u001b[0;32m   1507\u001b[0m         \u001b[1;31m# example generator_info\u001b[0m\u001b[1;33m\u001b[0m\u001b[1;33m\u001b[0m\u001b[1;33m\u001b[0m\u001b[0m\n\u001b[0;32m   1508\u001b[0m         \u001b[0mpost_proc\u001b[0m \u001b[1;33m=\u001b[0m \u001b[0mpostproc\u001b[0m\u001b[1;33m.\u001b[0m\u001b[0mPostProcessor\u001b[0m\u001b[1;33m(\u001b[0m\u001b[0mstate\u001b[0m\u001b[1;33m.\u001b[0m\u001b[0mfunc_ir\u001b[0m\u001b[1;33m)\u001b[0m\u001b[1;33m\u001b[0m\u001b[1;33m\u001b[0m\u001b[0m\n\u001b[1;32m-> 1509\u001b[1;33m         \u001b[0mpost_proc\u001b[0m\u001b[1;33m.\u001b[0m\u001b[0mrun\u001b[0m\u001b[1;33m(\u001b[0m\u001b[0memit_dels\u001b[0m\u001b[1;33m=\u001b[0m\u001b[1;32mFalse\u001b[0m\u001b[1;33m)\u001b[0m\u001b[1;33m\u001b[0m\u001b[1;33m\u001b[0m\u001b[0m\n\u001b[0m\u001b[0;32m   1510\u001b[0m \u001b[1;33m\u001b[0m\u001b[0m\n\u001b[0;32m   1511\u001b[0m         \u001b[1;32mif\u001b[0m \u001b[0mconfig\u001b[0m\u001b[1;33m.\u001b[0m\u001b[0mDEBUG\u001b[0m \u001b[1;32mor\u001b[0m \u001b[0mconfig\u001b[0m\u001b[1;33m.\u001b[0m\u001b[0mDUMP_SSA\u001b[0m\u001b[1;33m:\u001b[0m\u001b[1;33m\u001b[0m\u001b[1;33m\u001b[0m\u001b[0m\n",
      "\u001b[1;32mC:\\ProgramData\\Anaconda3\\lib\\site-packages\\numba\\core\\postproc.py\u001b[0m in \u001b[0;36mrun\u001b[1;34m(self, emit_dels)\u001b[0m\n\u001b[0;32m     80\u001b[0m         bev = analysis.compute_live_variables(vlt.cfg, self.func_ir.blocks,\n\u001b[0;32m     81\u001b[0m                                               \u001b[0mvlt\u001b[0m\u001b[1;33m.\u001b[0m\u001b[0musedefs\u001b[0m\u001b[1;33m.\u001b[0m\u001b[0mdefmap\u001b[0m\u001b[1;33m,\u001b[0m\u001b[1;33m\u001b[0m\u001b[1;33m\u001b[0m\u001b[0m\n\u001b[1;32m---> 82\u001b[1;33m                                               vlt.deadmaps.combined)\n\u001b[0m\u001b[0;32m     83\u001b[0m         \u001b[1;32mfor\u001b[0m \u001b[0moffset\u001b[0m\u001b[1;33m,\u001b[0m \u001b[0mir_block\u001b[0m \u001b[1;32min\u001b[0m \u001b[0mself\u001b[0m\u001b[1;33m.\u001b[0m\u001b[0mfunc_ir\u001b[0m\u001b[1;33m.\u001b[0m\u001b[0mblocks\u001b[0m\u001b[1;33m.\u001b[0m\u001b[0mitems\u001b[0m\u001b[1;33m(\u001b[0m\u001b[1;33m)\u001b[0m\u001b[1;33m:\u001b[0m\u001b[1;33m\u001b[0m\u001b[1;33m\u001b[0m\u001b[0m\n\u001b[0;32m     84\u001b[0m             \u001b[0mself\u001b[0m\u001b[1;33m.\u001b[0m\u001b[0mfunc_ir\u001b[0m\u001b[1;33m.\u001b[0m\u001b[0mblock_entry_vars\u001b[0m\u001b[1;33m[\u001b[0m\u001b[0mir_block\u001b[0m\u001b[1;33m]\u001b[0m \u001b[1;33m=\u001b[0m \u001b[0mbev\u001b[0m\u001b[1;33m[\u001b[0m\u001b[0moffset\u001b[0m\u001b[1;33m]\u001b[0m\u001b[1;33m\u001b[0m\u001b[1;33m\u001b[0m\u001b[0m\n",
      "\u001b[1;32mC:\\ProgramData\\Anaconda3\\lib\\site-packages\\numba\\core\\utils.py\u001b[0m in \u001b[0;36m__get__\u001b[1;34m(self, instance, type)\u001b[0m\n\u001b[0;32m    330\u001b[0m         \u001b[1;32mif\u001b[0m \u001b[0minstance\u001b[0m \u001b[1;32mis\u001b[0m \u001b[1;32mNone\u001b[0m\u001b[1;33m:\u001b[0m\u001b[1;33m\u001b[0m\u001b[1;33m\u001b[0m\u001b[0m\n\u001b[0;32m    331\u001b[0m             \u001b[1;32mreturn\u001b[0m \u001b[0mself\u001b[0m\u001b[1;33m\u001b[0m\u001b[1;33m\u001b[0m\u001b[0m\n\u001b[1;32m--> 332\u001b[1;33m         \u001b[0mres\u001b[0m \u001b[1;33m=\u001b[0m \u001b[0minstance\u001b[0m\u001b[1;33m.\u001b[0m\u001b[0m__dict__\u001b[0m\u001b[1;33m[\u001b[0m\u001b[0mself\u001b[0m\u001b[1;33m.\u001b[0m\u001b[0mname\u001b[0m\u001b[1;33m]\u001b[0m \u001b[1;33m=\u001b[0m \u001b[0mself\u001b[0m\u001b[1;33m.\u001b[0m\u001b[0mfunc\u001b[0m\u001b[1;33m(\u001b[0m\u001b[0minstance\u001b[0m\u001b[1;33m)\u001b[0m\u001b[1;33m\u001b[0m\u001b[1;33m\u001b[0m\u001b[0m\n\u001b[0m\u001b[0;32m    333\u001b[0m         \u001b[1;32mreturn\u001b[0m \u001b[0mres\u001b[0m\u001b[1;33m\u001b[0m\u001b[1;33m\u001b[0m\u001b[0m\n\u001b[0;32m    334\u001b[0m \u001b[1;33m\u001b[0m\u001b[0m\n",
      "\u001b[1;32mC:\\ProgramData\\Anaconda3\\lib\\site-packages\\numba\\core\\postproc.py\u001b[0m in \u001b[0;36mdeadmaps\u001b[1;34m(self)\u001b[0m\n\u001b[0;32m     51\u001b[0m     \u001b[1;33m@\u001b[0m\u001b[0mutils\u001b[0m\u001b[1;33m.\u001b[0m\u001b[0mcached_property\u001b[0m\u001b[1;33m\u001b[0m\u001b[1;33m\u001b[0m\u001b[0m\n\u001b[0;32m     52\u001b[0m     \u001b[1;32mdef\u001b[0m \u001b[0mdeadmaps\u001b[0m\u001b[1;33m(\u001b[0m\u001b[0mself\u001b[0m\u001b[1;33m)\u001b[0m\u001b[1;33m:\u001b[0m\u001b[1;33m\u001b[0m\u001b[1;33m\u001b[0m\u001b[0m\n\u001b[1;32m---> 53\u001b[1;33m         return analysis.compute_dead_maps(self.cfg, self._blocks, self.livemap,\n\u001b[0m\u001b[0;32m     54\u001b[0m                                           self.usedefs.defmap)\n\u001b[0;32m     55\u001b[0m \u001b[1;33m\u001b[0m\u001b[0m\n",
      "\u001b[1;32mC:\\ProgramData\\Anaconda3\\lib\\site-packages\\numba\\core\\utils.py\u001b[0m in \u001b[0;36m__get__\u001b[1;34m(self, instance, type)\u001b[0m\n\u001b[0;32m    330\u001b[0m         \u001b[1;32mif\u001b[0m \u001b[0minstance\u001b[0m \u001b[1;32mis\u001b[0m \u001b[1;32mNone\u001b[0m\u001b[1;33m:\u001b[0m\u001b[1;33m\u001b[0m\u001b[1;33m\u001b[0m\u001b[0m\n\u001b[0;32m    331\u001b[0m             \u001b[1;32mreturn\u001b[0m \u001b[0mself\u001b[0m\u001b[1;33m\u001b[0m\u001b[1;33m\u001b[0m\u001b[0m\n\u001b[1;32m--> 332\u001b[1;33m         \u001b[0mres\u001b[0m \u001b[1;33m=\u001b[0m \u001b[0minstance\u001b[0m\u001b[1;33m.\u001b[0m\u001b[0m__dict__\u001b[0m\u001b[1;33m[\u001b[0m\u001b[0mself\u001b[0m\u001b[1;33m.\u001b[0m\u001b[0mname\u001b[0m\u001b[1;33m]\u001b[0m \u001b[1;33m=\u001b[0m \u001b[0mself\u001b[0m\u001b[1;33m.\u001b[0m\u001b[0mfunc\u001b[0m\u001b[1;33m(\u001b[0m\u001b[0minstance\u001b[0m\u001b[1;33m)\u001b[0m\u001b[1;33m\u001b[0m\u001b[1;33m\u001b[0m\u001b[0m\n\u001b[0m\u001b[0;32m    333\u001b[0m         \u001b[1;32mreturn\u001b[0m \u001b[0mres\u001b[0m\u001b[1;33m\u001b[0m\u001b[1;33m\u001b[0m\u001b[0m\n\u001b[0;32m    334\u001b[0m \u001b[1;33m\u001b[0m\u001b[0m\n",
      "\u001b[1;32mC:\\ProgramData\\Anaconda3\\lib\\site-packages\\numba\\core\\postproc.py\u001b[0m in \u001b[0;36mlivemap\u001b[1;34m(self)\u001b[0m\n\u001b[0;32m     47\u001b[0m         return analysis.compute_live_map(self.cfg, self._blocks,\n\u001b[0;32m     48\u001b[0m                                          \u001b[0mself\u001b[0m\u001b[1;33m.\u001b[0m\u001b[0musedefs\u001b[0m\u001b[1;33m.\u001b[0m\u001b[0musemap\u001b[0m\u001b[1;33m,\u001b[0m\u001b[1;33m\u001b[0m\u001b[1;33m\u001b[0m\u001b[0m\n\u001b[1;32m---> 49\u001b[1;33m                                          self.usedefs.defmap)\n\u001b[0m\u001b[0;32m     50\u001b[0m \u001b[1;33m\u001b[0m\u001b[0m\n\u001b[0;32m     51\u001b[0m     \u001b[1;33m@\u001b[0m\u001b[0mutils\u001b[0m\u001b[1;33m.\u001b[0m\u001b[0mcached_property\u001b[0m\u001b[1;33m\u001b[0m\u001b[1;33m\u001b[0m\u001b[0m\n",
      "\u001b[1;32mC:\\ProgramData\\Anaconda3\\lib\\site-packages\\numba\\core\\analysis.py\u001b[0m in \u001b[0;36mcompute_live_map\u001b[1;34m(cfg, blocks, var_use_map, var_def_map)\u001b[0m\n\u001b[0;32m    109\u001b[0m     \u001b[0mdef_reach_map\u001b[0m \u001b[1;33m=\u001b[0m \u001b[0mdefaultdict\u001b[0m\u001b[1;33m(\u001b[0m\u001b[0mset\u001b[0m\u001b[1;33m)\u001b[0m\u001b[1;33m\u001b[0m\u001b[1;33m\u001b[0m\u001b[0m\n\u001b[0;32m    110\u001b[0m     \u001b[0mfix_point\u001b[0m\u001b[1;33m(\u001b[0m\u001b[0mdef_reach\u001b[0m\u001b[1;33m,\u001b[0m \u001b[0mdef_reach_map\u001b[0m\u001b[1;33m)\u001b[0m\u001b[1;33m\u001b[0m\u001b[1;33m\u001b[0m\u001b[0m\n\u001b[1;32m--> 111\u001b[1;33m     \u001b[0mfix_point\u001b[0m\u001b[1;33m(\u001b[0m\u001b[0mliveness\u001b[0m\u001b[1;33m,\u001b[0m \u001b[0mlive_map\u001b[0m\u001b[1;33m)\u001b[0m\u001b[1;33m\u001b[0m\u001b[1;33m\u001b[0m\u001b[0m\n\u001b[0m\u001b[0;32m    112\u001b[0m     \u001b[1;32mreturn\u001b[0m \u001b[0mlive_map\u001b[0m\u001b[1;33m\u001b[0m\u001b[1;33m\u001b[0m\u001b[0m\n\u001b[0;32m    113\u001b[0m \u001b[1;33m\u001b[0m\u001b[0m\n",
      "\u001b[1;32mC:\\ProgramData\\Anaconda3\\lib\\site-packages\\numba\\core\\analysis.py\u001b[0m in \u001b[0;36mfix_point\u001b[1;34m(fn, dct)\u001b[0m\n\u001b[0;32m     75\u001b[0m         \u001b[0mnew_point\u001b[0m \u001b[1;33m=\u001b[0m \u001b[0mfix_point_progress\u001b[0m\u001b[1;33m(\u001b[0m\u001b[0mdct\u001b[0m\u001b[1;33m)\u001b[0m\u001b[1;33m\u001b[0m\u001b[1;33m\u001b[0m\u001b[0m\n\u001b[0;32m     76\u001b[0m         \u001b[1;32mwhile\u001b[0m \u001b[0mold_point\u001b[0m \u001b[1;33m!=\u001b[0m \u001b[0mnew_point\u001b[0m\u001b[1;33m:\u001b[0m\u001b[1;33m\u001b[0m\u001b[1;33m\u001b[0m\u001b[0m\n\u001b[1;32m---> 77\u001b[1;33m             \u001b[0mfn\u001b[0m\u001b[1;33m(\u001b[0m\u001b[0mdct\u001b[0m\u001b[1;33m)\u001b[0m\u001b[1;33m\u001b[0m\u001b[1;33m\u001b[0m\u001b[0m\n\u001b[0m\u001b[0;32m     78\u001b[0m             \u001b[0mold_point\u001b[0m \u001b[1;33m=\u001b[0m \u001b[0mnew_point\u001b[0m\u001b[1;33m\u001b[0m\u001b[1;33m\u001b[0m\u001b[0m\n\u001b[0;32m     79\u001b[0m             \u001b[0mnew_point\u001b[0m \u001b[1;33m=\u001b[0m \u001b[0mfix_point_progress\u001b[0m\u001b[1;33m(\u001b[0m\u001b[0mdct\u001b[0m\u001b[1;33m)\u001b[0m\u001b[1;33m\u001b[0m\u001b[1;33m\u001b[0m\u001b[0m\n",
      "\u001b[1;32mC:\\ProgramData\\Anaconda3\\lib\\site-packages\\numba\\core\\analysis.py\u001b[0m in \u001b[0;36mliveness\u001b[1;34m(dct)\u001b[0m\n\u001b[0;32m    101\u001b[0m                 \u001b[0mreachable\u001b[0m \u001b[1;33m=\u001b[0m \u001b[0mlive_vars\u001b[0m \u001b[1;33m&\u001b[0m \u001b[0mdef_reach_map\u001b[0m\u001b[1;33m[\u001b[0m\u001b[0minc_blk\u001b[0m\u001b[1;33m]\u001b[0m\u001b[1;33m\u001b[0m\u001b[1;33m\u001b[0m\u001b[0m\n\u001b[0;32m    102\u001b[0m                 \u001b[1;31m# But not defined in the predecessor\u001b[0m\u001b[1;33m\u001b[0m\u001b[1;33m\u001b[0m\u001b[1;33m\u001b[0m\u001b[0m\n\u001b[1;32m--> 103\u001b[1;33m                 \u001b[0mdct\u001b[0m\u001b[1;33m[\u001b[0m\u001b[0minc_blk\u001b[0m\u001b[1;33m]\u001b[0m \u001b[1;33m|=\u001b[0m \u001b[0mreachable\u001b[0m \u001b[1;33m-\u001b[0m \u001b[0mvar_def_map\u001b[0m\u001b[1;33m[\u001b[0m\u001b[0minc_blk\u001b[0m\u001b[1;33m]\u001b[0m\u001b[1;33m\u001b[0m\u001b[1;33m\u001b[0m\u001b[0m\n\u001b[0m\u001b[0;32m    104\u001b[0m \u001b[1;33m\u001b[0m\u001b[0m\n\u001b[0;32m    105\u001b[0m     \u001b[0mlive_map\u001b[0m \u001b[1;33m=\u001b[0m \u001b[1;33m{\u001b[0m\u001b[1;33m}\u001b[0m\u001b[1;33m\u001b[0m\u001b[1;33m\u001b[0m\u001b[0m\n",
      "\u001b[1;31mKeyboardInterrupt\u001b[0m: "
     ]
    }
   ],
   "source": [
    "state = newstate()\n",
    "state = apply(state, 'L')\n",
    "state = apply(state, 'U')\n",
    "state = augment(state)\n",
    "draw(state)\n"
   ]
  },
  {
   "cell_type": "code",
   "execution_count": 6,
   "metadata": {
    "ExecuteTime": {
     "end_time": "2021-05-14T20:46:50.362610Z",
     "start_time": "2021-05-14T20:46:50.280305Z"
    },
    "deletable": false,
    "editable": false
   },
   "outputs": [
    {
     "name": "stdout",
     "output_type": "stream",
     "text": [
      "         +--------+\n",
      "         | \u001b[42mg \u001b[43my \u001b[41mr \u001b[49m |\n",
      "\u001b[49m         | \u001b[45mo \u001b[43my \u001b[44mb \u001b[49m |\n",
      "\u001b[49m         | \u001b[43my \u001b[43my \u001b[41mr \u001b[49m |\n",
      "\u001b[49m+--------+--------+--------+--------+\n",
      "| \u001b[43my \u001b[47mw \u001b[45mo \u001b[49m | \u001b[44mb \u001b[42mg \u001b[47mw \u001b[49m | \u001b[42mg \u001b[43my \u001b[44mb \u001b[49m | \u001b[47mw \u001b[45mo \u001b[45mo \u001b[49m |\n",
      "| \u001b[45mo \u001b[42mg \u001b[42mg \u001b[49m | \u001b[41mr \u001b[45mo \u001b[44mb \u001b[49m | \u001b[47mw \u001b[44mb \u001b[43my \u001b[49m | \u001b[41mr \u001b[41mr \u001b[42mg \u001b[49m |\n",
      "| \u001b[41mr \u001b[47mw \u001b[47mw \u001b[49m | \u001b[45mo \u001b[41mr \u001b[41mr \u001b[49m | \u001b[43my \u001b[41mr \u001b[47mw \u001b[49m | \u001b[42mg \u001b[45mo \u001b[43my \u001b[49m |\n",
      "+--------+--------+--------+--------+\n",
      "         | \u001b[44mb \u001b[44mb \u001b[42mg \u001b[49m |\n",
      "         | \u001b[42mg \u001b[47mw \u001b[47mw \u001b[49m |\n",
      "         | \u001b[44mb \u001b[44mb \u001b[45mo \u001b[49m |\n",
      "         +--------+\n",
      "\n"
     ]
    }
   ],
   "source": [
    "# real world randomly shuffled cube\n",
    "input = \\\n",
    "''' gyr\n",
    "    oyb\n",
    "    yyr\n",
    "ywo bgw gyb woo\n",
    "ogg rob wby rrg\n",
    "rww orr yrw goy\n",
    "    bbg\n",
    "    gww\n",
    "    bbo\n",
    "'''\n",
    "\n",
    "cube.fromstring(input)\n",
    "cube.draw()\n",
    "\n",
    "mystate = cube2state(cube)"
   ]
  },
  {
   "cell_type": "code",
   "execution_count": 7,
   "metadata": {
    "ExecuteTime": {
     "end_time": "2021-05-14T20:46:52.662514Z",
     "start_time": "2021-05-14T20:46:52.576299Z"
    },
    "deletable": false,
    "editable": false
   },
   "outputs": [],
   "source": [
    "cube.reset()\n",
    "cube.rotate('U U F U U r L F F U f b R L U U R U d R l D r l D D')\n",
    "#cube.draw()\n",
    "mystate26 = cube2state(cube) # takes 26 moves to solve"
   ]
  },
  {
   "cell_type": "markdown",
   "metadata": {},
   "source": [
    "## Neuronales Netzwerk ansetzen"
   ]
  },
  {
   "cell_type": "code",
   "execution_count": 8,
   "metadata": {
    "ExecuteTime": {
     "end_time": "2021-05-14T20:46:53.766750Z",
     "start_time": "2021-05-14T20:46:53.684798Z"
    }
   },
   "outputs": [],
   "source": [
    "import torch\n",
    "from torch import nn\n",
    "import pickle"
   ]
  },
  {
   "cell_type": "code",
   "execution_count": 10,
   "metadata": {
    "ExecuteTime": {
     "end_time": "2021-05-14T20:47:03.928502Z",
     "start_time": "2021-05-14T20:47:03.716720Z"
    }
   },
   "outputs": [],
   "source": [
    "from net import Net as Net\n",
    "from net import inference_speed\n",
    "\n",
    "MSE = nn.MSELoss()\n",
    "L1Loss = nn.L1Loss()\n",
    "L1L2 = lambda x, y: MSE(x,y) + L1Loss(x,y)\n",
    "#LogLoss = lambda pp, pt: torch.mean(-pt*torch.log(pp+1e-4))\n",
    "LogLoss = nn.NLLLoss() # for non-onehot\n",
    "BCELoss = nn.BCELoss()\n",
    "        \n",
    "    \n",
    "\n",
    "    \n",
    "net = Net()\n",
    "net_teacher = net\n",
    "\n",
    "# der zeitaufwand für evaluation ist konstant bis n=1000 (1.15ms)\n",
    "# und ab n=5000 (4.57ms) steigt er linear an, d. h. das Verhältnis ist konstant"
   ]
  },
  {
   "cell_type": "code",
   "execution_count": 11,
   "metadata": {
    "ExecuteTime": {
     "end_time": "2021-05-14T20:47:10.021665Z",
     "start_time": "2021-05-14T20:47:08.788764Z"
    }
   },
   "outputs": [
    {
     "data": {
      "text/plain": [
       "(3.7396740913391113, 1.2206363677978516)"
      ]
     },
     "execution_count": 11,
     "metadata": {},
     "output_type": "execute_result"
    }
   ],
   "source": [
    "inference_speed(net)"
   ]
  },
  {
   "cell_type": "code",
   "execution_count": null,
   "metadata": {},
   "outputs": [],
   "source": []
  },
  {
   "cell_type": "code",
   "execution_count": null,
   "metadata": {
    "deletable": false,
    "editable": false,
    "run_control": {
     "frozen": true
    }
   },
   "outputs": [],
   "source": [
    "# Netzwerk laden\n",
    "d = None\n",
    "for ep in range(1000, -1, -1):\n",
    "    try:\n",
    "        fn = f'data/rubik_ep{ep}.dat'\n",
    "        d = torch.load(fn)\n",
    "        print(f'Loading Network form path \"{fn}\"')\n",
    "        break\n",
    "    except:\n",
    "        continue\n",
    "else:\n",
    "    print('Couldnt load!')\n",
    "        \n",
    "net = Net()\n",
    "if d:\n",
    "    net.load_state_dict(d, strict=False)\n",
    "net.iter = 1000*ep+1\n",
    "net_teacher = net"
   ]
  },
  {
   "cell_type": "code",
   "execution_count": 12,
   "metadata": {
    "ExecuteTime": {
     "end_time": "2021-05-14T20:48:58.669483Z",
     "start_time": "2021-05-14T20:48:58.578793Z"
    }
   },
   "outputs": [],
   "source": [
    "_shuffled_cubes = None\n",
    "\n",
    "\n",
    "def bg_inf():\n",
    "    global _shuffled_cubes\n",
    "    if type(_shuffled_cubes) is type(None):\n",
    "        _shuffled_cubes = [ shuffle() for _ in range(100) ]\n",
    "        \n",
    "    k = np.random.randint(100)\n",
    "    _shuffled_cubes[k] = shuffle(_shuffled_cubes[k], 10)\n",
    "    return _shuffled_cubes[k]\n",
    "\n",
    "\n",
    "def bg_shuffle():\n",
    "    if np.random.rand() < 0.5: # entspricht bginf (unendlich oft verdrehter Würfel)\n",
    "        return bg_inf()\n",
    "    else:   # entspricht bg20 (bis zu 30 mal verdrehter Würfel)\n",
    "        return shuffle(n=np.random.randint(30))\n",
    "\n",
    "def bg_shuffle_num(nmax=50):\n",
    "    n = np.random.randint(nmax)\n",
    "    return shuffle(n=n), n"
   ]
  },
  {
   "cell_type": "code",
   "execution_count": 13,
   "metadata": {
    "ExecuteTime": {
     "end_time": "2021-05-14T20:48:59.302159Z",
     "start_time": "2021-05-14T20:48:59.207187Z"
    }
   },
   "outputs": [],
   "source": [
    "\n",
    "npsolved = state2oh(newstate())\n",
    "tsolved = np2t(npsolved)\n",
    "\n",
    "'''\n",
    "np.random.seed(0)\n",
    "valbatch_x, valbatch_z = [], []\n",
    "for k in range(1000):\n",
    "    state = shuffle(n=min(k+1, 100))\n",
    "    valbatch_x.append(pieces2oh(state))\n",
    "    zs = [ pieces2oh(apply(state, moves[i])) for i in range(12) ]\n",
    "    valbatch_z.append(zs)\n",
    "valbatch_x = np.array(valbatch_x)\n",
    "valbatch_z = np.array(valbatch_z)''';\n",
    "    \n",
    "'''\n",
    "def printValStats(withplot=True):\n",
    "    'Prints all validation statistics'\n",
    "    \n",
    "    xs, zs = valbatch_x, valbatch_z\n",
    "    xs = np2t(xs)\n",
    "    zs = np2t(zs)\n",
    "    \n",
    "    # Validation loss\n",
    "    with torch.no_grad():\n",
    "        values = [t2np(net_teacher(zs[:,r], policy=False)) for r in range(12)] # do all 12 rotations to see the values of the following positions\n",
    "    policy = np.argmin(values, axis=0)\n",
    "    pt = policy2oh(policy)\n",
    "    values = np.min(values, axis=0) # axis for the moves is now axis 0\n",
    "    pt = np2t(pt, dtype='int64')\n",
    "    vt = np2t(values+1)\n",
    "    vp, pp = net(xs)\n",
    "    #print(pp.shape, pt.shape) # = torch.Size([1500, 12]) torch.Size([1500, 12])\n",
    "    loss_p = LogLoss(pp, pt[:,0])\n",
    "    loss_v = MSE(vp, vt)\n",
    "    acc_p = (policy[:,0] == np.argmax(t2np(pp), axis=1)).mean()\n",
    "    vdist = [ t2np(vp[k]) - values[k] for k in range(len(values))]\n",
    "    print(f'ValLoss p: {loss_p: .3f}, ValLoss v: {loss_v: .3f}, ValAcc p: {acc_p: .3f}')\n",
    "    print(f'ValProbability to hit min:', np.mean([np.exp(t2np(pp[k, policy[k,0]])) for k in range(len(policy))]))\n",
    "    print(f'Val stuck: {np.mean([d < 0 for d in vdist]): .3f}')\n",
    "    \n",
    "    if withplot:\n",
    "        # Graphics of Value going down, playing\n",
    "        allvs, allss = [], []\n",
    "        #for k in range(500, 1000, 100):\n",
    "        for k in range(3, 21, 2):\n",
    "            state = oh2pieces(valbatch_x[k])\n",
    "            cube = RubiksCube()\n",
    "            cube.frompieces(state)\n",
    "\n",
    "            moves = ['F', 'B', 'R', 'L', 'U', 'D'] + ['f', 'b', 'r', 'l', 'u', 'd']\n",
    "            moves_rev = { k: m for k, m in enumerate(moves) }\n",
    "\n",
    "            lastv = np.Inf\n",
    "            thisvs = []\n",
    "            thisss = []\n",
    "            for _ in range(100):\n",
    "                oh = pieces2oh(state)\n",
    "                oh = np2t(oh[None,:])\n",
    "                v, p, s = net(oh, solvable=True)\n",
    "                v, s = v.item(), s.item()\n",
    "\n",
    "                if cube.issolved():\n",
    "                    thisvs.append(0.)\n",
    "                    thisss.append(10.)\n",
    "                    break\n",
    "                else:\n",
    "                    thisvs.append(v)\n",
    "                    thisss.append(s*10)\n",
    "\n",
    "                if v >= lastv:\n",
    "                    break\n",
    "                lastv = v\n",
    "\n",
    "                # Way 1: Move by prediction p\n",
    "                if False:\n",
    "                    p = t2np(p)\n",
    "                    m = moves_rev[p.argmax()]\n",
    "                # Way 2: Move by minimizing next moves v\n",
    "                else:\n",
    "                    vs = []\n",
    "                    for m in moves:\n",
    "                        cb = cube.copy()\n",
    "                        cb.rotate(m)\n",
    "                        state = cb.getpieces()\n",
    "                        oh = pieces2oh(state)\n",
    "                        oh = numpy2torch(oh[None,:])\n",
    "                        vs.append(net(oh, policy=False))\n",
    "                    m = moves[np.argmin(vs)]\n",
    "\n",
    "                cube.rotate(m)\n",
    "                state = cube.getpieces()\n",
    "            allvs.append(thisvs)\n",
    "            allss.append(thisss)\n",
    "\n",
    "        for thisvs in allvs:\n",
    "            plt.plot(thisvs)\n",
    "        #for thisss in allss:\n",
    "        #    plt.plot(thisss, '--')\n",
    "        plt.show()\n",
    "        \n",
    "    return loss_p, loss_v, acc_p''';"
   ]
  },
  {
   "cell_type": "code",
   "execution_count": 14,
   "metadata": {
    "ExecuteTime": {
     "end_time": "2021-05-14T20:49:01.703984Z",
     "start_time": "2021-05-14T20:49:01.380715Z"
    }
   },
   "outputs": [],
   "source": [
    "\n",
    "npsolved = state2oh(newstate())\n",
    "tsolved = np2t(npsolved)\n",
    "\n",
    "np.random.seed(0)\n",
    "valstates = [ [ shuffle(n=k) for _ in range(10) ] for k in range(2,30,2) ]\n",
    "valstates100 = [ shuffle(n=100) for _ in range(20) ]\n",
    "\n",
    "def ValStats(trials=100, extra=False):\n",
    "    'Prints all validation statistics'\n",
    "    \n",
    "    net.eval()\n",
    "    cube = RubiksCube()\n",
    "    \n",
    "    N = len(valstates)\n",
    "    M = len(valstates[0])\n",
    "    \n",
    "    # Direct / naive solving strategy\n",
    "    allstat = []\n",
    "    for k in range(N):\n",
    "        thisstat = [] # statistics for fixed k, i. e. number of shuffle moves\n",
    "        for n in range(M):\n",
    "            state = valstates[k][n]\n",
    "            lastv = np.Inf\n",
    "            while True:\n",
    "                oh = state2oh(state)\n",
    "                oh = np2t(oh[None,:])\n",
    "                v = net(oh)\n",
    "                v = v.item()\n",
    "\n",
    "                if issolved(state):\n",
    "                    thisstat += [True]\n",
    "                    break\n",
    "\n",
    "                if v >= lastv:\n",
    "                    thisstat += [False]\n",
    "                    break\n",
    "                    \n",
    "                lastv = v\n",
    "\n",
    "                # Move by minimizing next moves v\n",
    "                vs = []\n",
    "                for m in moves:\n",
    "                    fellow = apply(state, m)\n",
    "                    oh = state2oh(fellow)\n",
    "                    oh = numpy2torch(oh[None,:])\n",
    "                    vs.append(net(oh, policy=False))\n",
    "                m = moves[np.argmin(vs)]\n",
    "\n",
    "                state = apply(state, m)\n",
    "                #print(m)\n",
    "                #draw(state)\n",
    "                \n",
    "        allstat += [ np.mean(thisstat) ]\n",
    "    \n",
    "    plt.bar(np.arange(2,30,2), allstat)\n",
    "    \n",
    "    # More sophisticated solve strategy\n",
    "    allstat = []\n",
    "    for k in range(N):\n",
    "        thisstat = [] # statistics for fixed k, i. e. number of shuffle moves\n",
    "        for n in range(M):\n",
    "            state = valstates[k][n]\n",
    "            solved, _ = solve_train(state, enqueue=False, trials=trials)\n",
    "            thisstat += [ solved ]\n",
    "        allstat += [ np.mean(thisstat) ]\n",
    "        \n",
    "    plt.bar(np.arange(2+1,30+1,2), allstat, color='C2')\n",
    "    plt.show()\n",
    "    \n",
    "    # Graph with estimated v over real v (shuffle depth)\n",
    "    ns = []\n",
    "    vs = []\n",
    "    for k in range(N):\n",
    "        for n in range(M):\n",
    "            state = valstates[k][n]\n",
    "            oh = state2oh(state)\n",
    "            oh = np2t(oh[None,:])\n",
    "            v = net(oh, policy=False)\n",
    "            v = v.item()\n",
    "            ns.append(2*k+2)\n",
    "            vs.append(v)\n",
    "    plt.scatter(ns, vs, s=2)\n",
    "    plt.show()\n",
    "    \n",
    "    net.train()\n",
    "    \n",
    "    if extra:\n",
    "        # Wie oft wird der 100fach verdrehte Würfel gelöst in maximal 1000 trials?\n",
    "        states_solved = []\n",
    "        for state in valstates100:\n",
    "            res = solve(state, verbose=0, maxlen=26, trials=5000)\n",
    "            if res['l'] == -1:\n",
    "                states_solved.append(False)\n",
    "            else:\n",
    "                states_solved.append(True)\n",
    "        net.stats.append((net.iter, np.mean(states_solved)))\n",
    "\n",
    "        if len(net.stats) > 0:\n",
    "            plt.plot([t for t, x in net.stats], [x for t, x in net.stats])\n",
    "            plt.show()"
   ]
  },
  {
   "cell_type": "code",
   "execution_count": 15,
   "metadata": {
    "ExecuteTime": {
     "end_time": "2021-05-14T20:49:02.421036Z",
     "start_time": "2021-05-14T20:49:02.326043Z"
    }
   },
   "outputs": [],
   "source": [
    "def fellow_vs(xs, nrots=1, static=True):\n",
    "    '''Generates the fellow states vs for a batch of states xs\n",
    "    nrots: Number of rotations, i. e. the depth'''\n",
    "    \n",
    "    bnum = len(xs)\n",
    "    # Auf jeden Würfel in xs die zwölf Züge anwenden und in zs speichern\n",
    "    # moves = ['F', 'B', 'R', 'L', 'U', 'D'] + ['f', 'b', 'r', 'l', 'u', 'd']\n",
    "    zs = np.zeros((bnum, 12**nrots,)+shape_state)\n",
    "    for b in range(bnum):\n",
    "        state0 = oh2state(xs[b])\n",
    "        for r in range(12**nrots):\n",
    "            state = state0.copy()\n",
    "            ms = ''\n",
    "            n = r\n",
    "            for l in range(nrots):\n",
    "                m = moves[n%12]\n",
    "                ms += m\n",
    "                n = n//12\n",
    "                state = apply(state, m)\n",
    "            oh = state2oh(state)\n",
    "            zs[b, r] = oh\n",
    "\n",
    "    zs_in = np2t(zs)\n",
    "    zs_in = zs_in.view(-1, *shape_state) # all rotations into batch dimension\n",
    "    # Auf zs das Netzwerk anwenden und die Values in vs speichern (Vorhersage des Netzwerkes für den 'Wert' eines Status, d.h. wie nahe ein Status an dem gelösten Cube ist.)\n",
    "    if static:\n",
    "        with torch.no_grad():\n",
    "            vsraw = net_teacher(zs_in, policy=False)\n",
    "    else:\n",
    "        vsraw = net(zs_in, policy=False)\n",
    "    vsraw = t2np(vsraw[:].view(-1, 12**nrots))\n",
    "    ssraw = None\n",
    "    \n",
    "    return vsraw, ssraw, zs"
   ]
  },
  {
   "cell_type": "code",
   "execution_count": 16,
   "metadata": {
    "ExecuteTime": {
     "end_time": "2021-05-14T20:49:03.498677Z",
     "start_time": "2021-05-14T20:49:03.393688Z"
    }
   },
   "outputs": [],
   "source": [
    "\n",
    "        \n",
    "        \n",
    "def train_on_samples(samples, weight=0.2):\n",
    "    'Trains the net on the samples by evaluating on their 12 fellow states, taking min and targeting min+1 for the original state.'\n",
    "    if len(samples)==0: return 0\n",
    "    xs = np.array(samples)\n",
    "    vsraw, ssraw, zs = fellow_vs(xs)\n",
    "    \n",
    "    \n",
    "    \n",
    "    ##### TESTPHASE: hashen von wenigen states                          #####\n",
    "    for b in range(bnum):\n",
    "        state = oh2state(xs[b])\n",
    "        for r in range(len(moves)):\n",
    "            state2 = apply(state, moves[r])\n",
    "            s2 = state.tobytes()\n",
    "            if s2 in hashtable:\n",
    "                vsraw[b,r] = hashtable[s2]\n",
    "    ##### END TESTPHASE\n",
    "    \n",
    "\n",
    "    # policies bestimmen und values bestimmen\n",
    "    ps = np.argmin(vsraw, axis=1)\n",
    "    vs = np.min(vsraw, axis=1)[:,None]\n",
    "\n",
    "    # Netzwerk lernen lassen durch die xs und (vs, ps)\n",
    "    pred_vs = net(np2t(xs))\n",
    "    loss_p = 0\n",
    "    loss_v = L1L2(pred_vs, np2t(vs + 1))\n",
    "    loss = loss_p + loss_v\n",
    "    loss *= weight\n",
    "    loss.backward()\n",
    "    return\n",
    "\n",
    "def train_to_target(samples, weight=0.2, greaterthan=True):\n",
    "    'Trains the net by giving the states a hard target for the output v. Used for the stuck states'\n",
    "    if len(samples)==0: return 0\n",
    "    xs = np.array([ state2oh(x) for x, v in samples ])\n",
    "    vs = np.array([ v for x, v in samples ])\n",
    "    pred_vs = net(np2t(xs), policy=False, solvable=False)[:,0]\n",
    "    if greaterthan:   # nur sicher stellen, dass prediction >= target ist\n",
    "        loss = torch.mean(torch.max(np2t(vs)-pred_vs, torch.zeros_like(pred_vs)))\n",
    "    else:             # per L1Loss auf das target hintrainieren\n",
    "        loss = L1Loss(pred_vs, np2t(vs))\n",
    "    loss *= weight\n",
    "    loss.backward()\n",
    "    return loss\n",
    "\n",
    "def train_solvable(samples, weight=0.2):\n",
    "    if len(samples)==0: return 0\n",
    "    xs = np.array([ state2oh(x) for x, s in samples ])\n",
    "    ss = np.array([ s for x, s in samples ])\n",
    "    ss = 0.98*ss+0.01\n",
    "    pred_ss = net(np2t(xs), value=False, policy=False, solvable=True)[:,0]\n",
    "    loss = BCELoss(pred_ss, np2t(ss))\n",
    "    loss *= weight\n",
    "    loss.backward()\n",
    "    return loss\n",
    "\n",
    "\n",
    "class Queue:\n",
    "    samples = []  # samples\n",
    "    trained_on = []\n",
    "    tau = 0.99\n",
    "    lastN = 0\n",
    "    def __init__(self):\n",
    "        self.trainfunction = train_on_samples # override this if you use train() to train the network\n",
    "    def add(self, x):\n",
    "        'Adds the stuck samples and deletes some older samples'\n",
    "        self.samples = self.samples + [x]\n",
    "        self.trained_on = self.trained_on + [0]\n",
    "    def discount(self):\n",
    "        k = int(len(self.samples)*(1-self.tau))\n",
    "        self.samples = self.samples[k:]\n",
    "        self.trained_on = self.trained_on[k:]\n",
    "        #print(len(self.samples))\n",
    "    def get(self, n):\n",
    "        self.lastN = n\n",
    "        res = []\n",
    "        l = len(self.samples)\n",
    "        if l <= n:  # wenn zu wenige samples, die komplette queue übergeben\n",
    "            res = self.samples\n",
    "        else:\n",
    "            for i in range(n):\n",
    "                j = np.random.randint(len(self.samples))\n",
    "                res.append(self.samples[j])\n",
    "        return res\n",
    "    def train(self, n, weight=0.2):\n",
    "        'Trains the nn on a number of samples'\n",
    "        if len(self) < n:\n",
    "            return 0\n",
    "        return self.trainfunction(self.get(n), weight=weight)\n",
    "    def __len__(self):\n",
    "        return len(self.samples)\n",
    "    @property\n",
    "    def perIter(self): # wie viele neue pro iteration hinzukommen\n",
    "        T = 1/(1-self.tau)\n",
    "        return len(self) / T\n",
    "    @property\n",
    "    def nTrainsPerSamples(self): # wie oft ein sample insgesamt trainiert wird\n",
    "        return self.lastN / (self.perIter+1e-3)\n",
    "    \n",
    "    \n",
    "class Queue_Hardvalues(Queue):\n",
    "    'Queue allowing training on hard values'\n",
    "    def __init__(self):\n",
    "        self.trainfunction = train_to_target\n",
    "        \n",
    "class Queue_Solvable(Queue):\n",
    "    def __init__(self):\n",
    "        self.trainfunction = train_solvable\n",
    "        "
   ]
  },
  {
   "cell_type": "code",
   "execution_count": 17,
   "metadata": {
    "ExecuteTime": {
     "end_time": "2021-05-14T20:49:04.928978Z",
     "start_time": "2021-05-14T20:49:04.803991Z"
    },
    "run_control": {
     "marked": true
    }
   },
   "outputs": [],
   "source": [
    "\n",
    "queue_stuck = Queue_Hardvalues()\n",
    "queue_stuck.tau = .99\n",
    "\n",
    "queue_while_solving = Queue()\n",
    "queue_while_solving.tau = 1 - 1 / 10000 # <-- 10000 iterationen lang beibehalten\n",
    "\n",
    "        \n",
    "def bg_stuck():\n",
    "    'Eine art pseudo batch generator, der einen State ausgibt der als stuck identifiziert wurde.'\n",
    "    if len(queue_stuck) > 0:\n",
    "        return queue_stuck.get(1)[0][0]\n",
    "    else:\n",
    "        return bg_shuffle()\n",
    "    \n",
    "def bg_whilesolving():\n",
    "    if len(queue_while_solving) > 0:\n",
    "        return queue_while_solving.get(1)[0]\n",
    "    else:\n",
    "        return bg_shuffle()\n",
    "    \n",
    "def bg_mixed():\n",
    "    if np.random.rand() < 0.5 and len(queue_while_solving) > 1000:\n",
    "        return bg_whilesolving()\n",
    "    else:\n",
    "        return bg_shuffle()\n",
    "    \n",
    "\n",
    "        \n",
    "def target_bfs(state0, depth=3):\n",
    "    '''Performs a breadth first search with the state to a given depth. Returns the target value for the state (generalization of min v_m + 1)'''\n",
    "    ms2s = dict() # translates moves to a state\n",
    "    explored = set()\n",
    "    ms2s[''] = state0\n",
    "    zs = []\n",
    "    for d in range(1, depth+1):\n",
    "        keys = list(ms2s.keys())\n",
    "        for ms in keys:\n",
    "            if len(ms)!=d-1: continue\n",
    "            state = ms2s[ms]\n",
    "            for m in moves:\n",
    "                z = apply(state, m)\n",
    "                if issolved(z):\n",
    "                    return d\n",
    "                if z.tobytes() in explored:\n",
    "                    continue\n",
    "                explored.add(z.tobytes())\n",
    "                ms2s[ms+m] = z\n",
    "                if d==depth:\n",
    "                    zs.append(state2oh(z))\n",
    "    \n",
    "    vtarget = np.inf\n",
    "    N = 1000\n",
    "    mbs = [ zs[N*i:N*(i+1)] for i in range(len(zs)//N+1)]\n",
    "    for mb in mbs:\n",
    "        mb = np2t(np.array(mb))\n",
    "        vs = net_teacher(mb, policy=False)\n",
    "        vs = t2np(vs)\n",
    "        vtarget = min(vtarget, np.min(vs) + d) # this is a generalization of: vtarget = min(vs) + 1\n",
    "    #print(f'd={d}, vtarget = {vtarget}')\n",
    "            \n",
    "    return vtarget\n",
    "        \n",
    "        \n",
    "def target_bfs_sloppy(state0, depth=3, num=3):\n",
    "    '''Sloppy Version: Only takes the three most favourite moves --> 3**d instead of 12**d states to evaluate'''\n",
    "    ms2s = dict() # translates moves to a state\n",
    "    explored = set()\n",
    "    ms2s[''] = state0\n",
    "    zs = []\n",
    "    for d in range(1, depth+1):\n",
    "        keys = list(ms2s.keys())\n",
    "        for ms in keys:\n",
    "            if len(ms)!=d-1: continue\n",
    "            state = ms2s[ms]\n",
    "            p = net_teacher(np2t(state2oh(state))[None,:], value=False, policy=True)[0,:]\n",
    "            inds = argmax(t2np(p), num=num)\n",
    "            for m in [moves[i] for i in inds]:\n",
    "                z = apply(state, m)\n",
    "                if issolved(z):\n",
    "                    return d\n",
    "                if z.tobytes() in explored:\n",
    "                    continue\n",
    "                explored.add(z.tobytes())\n",
    "                ms2s[ms+m] = z\n",
    "                if d==depth:\n",
    "                    zs.append(state2oh(z))\n",
    "    \n",
    "    vtarget = np.inf\n",
    "    N = 1000\n",
    "    mbs = [ zs[N*i:N*(i+1)] for i in range(len(zs)//N+1)]\n",
    "    for mb in mbs:\n",
    "        mb = np2t(np.array(mb))\n",
    "        vs = net(mb, policy=False)\n",
    "        vs = t2np(vs)\n",
    "        vtarget = min(vtarget, np.min(vs) + d) # this is a generalization of: vtarget = min(vs) + 1\n",
    "    #print(f'd={d}, vtarget = {vtarget}')\n",
    "            \n",
    "    return vtarget\n",
    "\n",
    "\n",
    "def add_to_stuck_queue(state, depth=3, naug=10):\n",
    "    # When finding a stuck state, we want to do a deeper search for the v value and add the state to a queue which\n",
    "    # trains the sample on this hard value v.\n",
    "    for _ in range(naug):\n",
    "        state = augment(state)\n",
    "        v = target_bfs(state, depth=depth) - 0.5 # halber zug puffer, da statisch\n",
    "        queue_stuck.add((state, v))\n",
    "    ##print(f'Stuck states target value now is {v}')\n",
    "    \n",
    "def add_to_whilesolving_queue(state):\n",
    "    state = augment(state)\n",
    "    queue_while_solving.add(state)"
   ]
  },
  {
   "cell_type": "code",
   "execution_count": 18,
   "metadata": {
    "ExecuteTime": {
     "end_time": "2021-05-14T20:49:06.660142Z",
     "start_time": "2021-05-14T20:49:06.560154Z"
    }
   },
   "outputs": [],
   "source": [
    "\n",
    "    \n",
    "def solve_train(state0, trials=1000, verbose=False, enqueue=True, ratio_ws=0.2, batchsize=10):\n",
    "    '''While training, this function tries to solve a cube and records many stuck states and records if a state was solvable or not within an amount of trials'''\n",
    "    # batchsize von > 10 kann suboptimale sein und bringt keinen geschwindigkeitsvorteil(?)\n",
    "    \n",
    "    def verb(*args):\n",
    "        if verbose: print(*args)\n",
    "    \n",
    "    @lru_cache(None)\n",
    "    def penalty(l, t):\n",
    "        #return log(l+1)*t*15 # return penalty dependent on parameter t\n",
    "        return 0.8*l*t # return penalty dependent on parameter t\n",
    "        \n",
    "    def penalties(v, ms):\n",
    "        l = len(ms)\n",
    "        return [v + penalty(l, t) for t in np.arange(0, 1, 1/5)]\n",
    "    \n",
    "    try: state0 = oh2state(state0)\n",
    "    except: pass\n",
    "    \n",
    "    v0 = net(np2t(state2oh(state0)[None,:]), policy=False).item()\n",
    "    \n",
    "    explored = set()\n",
    "    queue = SolvingQueue(n=5)\n",
    "    queue.push(item=(state0, v0, ''), values=5*[0])\n",
    "    \n",
    "    basestate0 = state0\n",
    "    \n",
    "    iter = 0\n",
    "    \n",
    "    maxlen = np.inf\n",
    "    \n",
    "    while len(queue)>0:\n",
    "\n",
    "        bsize = min(batchsize, len(queue)) # batch size is small at the beginning and can become bigger\n",
    "        oldvs = []\n",
    "        newstates = []\n",
    "        ms = []\n",
    "\n",
    "        for b in range(bsize):\n",
    "\n",
    "            while True:\n",
    "                state0, v0, m0 = queue.pop(iter%5)\n",
    "                if len(m0) + 0.8*v0 - 0.5 < maxlen: # erwartete lösungslänge vs. erlaubtes maximum\n",
    "                    break\n",
    "\n",
    "            verb(f'Iteration {iter}, Moves {m0} applied, Value = {v0}, len(queue) = {len(queue)}!')\n",
    "\n",
    "            if iter%22==0 and b==0 and verbose>=2: draw(state0)\n",
    "\n",
    "            if state0.tobytes() in hashtable:\n",
    "                return True, m0\n",
    "            \n",
    "            if issolved(state0):\n",
    "                return True, m0\n",
    "\n",
    "            # Auf jeden Würfel in xs die zwölf Züge anwenden und in zs speichern\n",
    "            for m in moves:\n",
    "                state = apply(state0, m)\n",
    "                newstates.append(state)\n",
    "                ms.append(m0+m)\n",
    "                if enqueue and np.random.rand()<ratio_ws:\n",
    "                    add_to_whilesolving_queue(state0)\n",
    "            oldvs.append(v0)\n",
    "\n",
    "            iter += 1\n",
    "\n",
    "\n",
    "            if iter > trials:\n",
    "                #if enqueue: queue_solved.add((pieces2oh(base_state0), False)) # not solved\n",
    "                return False, None\n",
    "\n",
    "\n",
    "        # Auf zs das Netzwerk anwenden und die Values in vs speichern (Vorhersage des Netzwerkes für den 'Wert' eines Status, d.h. wie nahe ein Status an dem gelösten Cube ist.)\n",
    "        zs = np.array([ state2oh(s) for s in newstates ])\n",
    "        with torch.no_grad():\n",
    "            zs = np2t(zs)\n",
    "            vsnext = net(zs, policy=False)\n",
    "            vsnext  = t2np(vsnext[:,0])\n",
    "\n",
    "        # Falls stuck, dann melden\n",
    "        if np.min(vsnext[12*b:12*(b+1)]) > oldvs[b]:\n",
    "            verb(Back.RED+f'Adding stuck state with v={oldvs[b]}'+Back.RESET)\n",
    "            ##print(f'Stuck state has old value {v0}!')\n",
    "            if enqueue: add_to_stuck_queue(state0)\n",
    "\n",
    "        # Neue States der Queue hinzufügen\n",
    "        for k in range(12*bsize):\n",
    "            if newstates[k].tobytes() in explored:\n",
    "                continue\n",
    "            else:\n",
    "                explored.add(newstates[k].tobytes())\n",
    "                queue.push(item=(newstates[k], vsnext[k], ms[k]), values=penalties(vsnext[k], ms[k]))\n"
   ]
  },
  {
   "cell_type": "code",
   "execution_count": 19,
   "metadata": {
    "ExecuteTime": {
     "end_time": "2021-05-07T19:03:21.393026Z",
     "start_time": "2021-05-07T19:03:21.299399Z"
    }
   },
   "outputs": [],
   "source": [
    "def train_upper_limit(num=100, weight=0.5):\n",
    "    ''\n",
    "    ns = np.random.randint(15, size=num)\n",
    "    states = [ shuffle(n=n) for n in ns ]\n",
    "    ohs = np2t(np.array([ state2oh(s) for s in states ]))\n",
    "    vs = net(ohs, policy=False)[:,0]\n",
    "    \n",
    "    ns = np2t(ns, dtype='float32')\n",
    "    loss = torch.mean(torch.max(vs-ns, torch.zeros_like(vs)))\n",
    "    loss *= weight\n",
    "    loss.backward()\n",
    "    return loss\n",
    "\n",
    "\n",
    "def train_lower_limit(num=100, weight=0.5):\n",
    "    'BRAND NEU!'\n",
    "    ns = np.random.randint(15, size=num)\n",
    "    states = [ shuffle(mystate26, n=n) for n in ns ]\n",
    "    ohs = np2t(np.array([ state2oh(s) for s in states ]))\n",
    "    vs = net(ohs, policy=False)[:,0]\n",
    "    \n",
    "    ns = 26-ns\n",
    "    \n",
    "    ns = np2t(ns, dtype='float32')\n",
    "    loss = torch.mean(torch.max(-(vs-ns), torch.zeros_like(vs)))\n",
    "    loss *= weight\n",
    "    loss.backward()\n",
    "    return loss\n",
    "    \n",
    "\n",
    "def train_ssl_consistency(n=100, weight=0.2):\n",
    "    'Train a augmentation consistency for only some symmetries'\n",
    "    \n",
    "    states1 = [ bg_shuffle() for _ in range(n) ]\n",
    "    \n",
    "    states2 = []\n",
    "    for state in states1:\n",
    "        states2.append(augment(state))\n",
    "        \n",
    "    xs = np2t(Bstate2oh(np.array(states1 + states2)))\n",
    "    vs = net(xs, policy=False)\n",
    "    vs1, vs2 = vs[:n], vs[n:]\n",
    "    loss = weight * MSE(vs1, vs2)\n",
    "    loss.backward()\n",
    "    \n",
    "    return loss\n",
    "\n",
    "\n",
    "def train_by_ordering(n=100, weight=0.5):\n",
    "    'Train by comparing two samples'\n",
    "    nums = []\n",
    "    states = []\n",
    "    for i in range(n//2):\n",
    "        state1, num1 = bg_shuffle_num()\n",
    "        state2, num2 = bg_shuffle_num()\n",
    "        if num1 < num2:\n",
    "            state1, state2 = state2, state1\n",
    "        states += [state1, state2]\n",
    "    xs = np2t(Bstate2oh(np.array(states)))\n",
    "    vs = net(xs, policy=False)\n",
    "    loss = weight * vs * # .......................................................... (alternating between -1 and +1 as torch vector)\n",
    "    return loss"
   ]
  },
  {
   "cell_type": "code",
   "execution_count": null,
   "metadata": {
    "deletable": false,
    "editable": false,
    "run_control": {
     "frozen": true
    }
   },
   "outputs": [],
   "source": [
    "# Ersten Satz von while_solving samples laden, wenn netzwerk geladen wird\n",
    "if net.iter > 1000 and len(queue_while_solving)<1000:\n",
    "    with open('data/queue_while_solving.pkl', 'rb') as f:\n",
    "        queue_while_solving.samples = pickle.load(f)\n",
    "    with open('data/queue_stuck.pkl', 'rb') as f:\n",
    "        queue_stuck.samples = pickle.load(f)\n",
    "    print('Loaded samples from file')\n",
    "else:\n",
    "    print('Didnt load samples')"
   ]
  },
  {
   "cell_type": "code",
   "execution_count": null,
   "metadata": {
    "deletable": false,
    "editable": false,
    "run_control": {
     "frozen": true
    }
   },
   "outputs": [],
   "source": [
    "net = Net()\n",
    "\n",
    "queue_stuck = Queue_Hardvalues()\n",
    "queue_stuck.tau = .99\n",
    "\n",
    "queue_while_solving = Queue()\n",
    "queue_while_solving.tau = 1 - 1 / 10000 # <-- 10000 iterationen lang beibehalten\n"
   ]
  },
  {
   "cell_type": "code",
   "execution_count": null,
   "metadata": {
    "ExecuteTime": {
     "start_time": "2021-05-07T19:03:08.606Z"
    },
    "run_control": {
     "marked": true
    },
    "scrolled": true
   },
   "outputs": [
    {
     "data": {
      "application/vnd.jupyter.widget-view+json": {
       "model_id": "fa5931913c504836baff54251167f951",
       "version_major": 2,
       "version_minor": 0
      },
      "text/plain": [
       "  0%|          | 1/9999999999 [00:00<?, ?it/s]"
      ]
     },
     "metadata": {},
     "output_type": "display_data"
    },
    {
     "name": "stdout",
     "output_type": "stream",
     "text": [
      "Iteration 100\n",
      "Loss v:  6.194, Loss p:  0.000, Loss s:  nan, Loss ssl:  0.157, Acc p:  1.000, Acc s:  nan    V Distance (target is +1):  1.395, std is:  1.446\n",
      "Solved:  0.026\n",
      "Length of Queue Hardlearner/Fellows/Stuck/WhileSolving: 10816 / 35719 / 0 / 0\n",
      "Train Times of Queue Hardlearner/Fellows/Stuck/WhileSolving:  9.2 /  1.4 /  0.0 /  0.0\n"
     ]
    },
    {
     "name": "stderr",
     "output_type": "stream",
     "text": [
      "C:\\ProgramData\\Anaconda3\\lib\\site-packages\\numpy\\core\\fromnumeric.py:3373: RuntimeWarning: Mean of empty slice.\n",
      "  out=out, **kwargs)\n",
      "C:\\ProgramData\\Anaconda3\\lib\\site-packages\\numpy\\core\\_methods.py:170: RuntimeWarning: invalid value encountered in double_scalars\n",
      "  ret = ret.dtype.type(ret / rcount)\n"
     ]
    },
    {
     "data": {
      "image/png": "[encoded data removed]",
      "text/plain": [
       "<Figure size 432x288 with 1 Axes>"
      ]
     },
     "metadata": {
      "needs_background": "light"
     },
     "output_type": "display_data"
    },
    {
     "data": {
      "image/png": "[encoded data removed]",
      "text/plain": [
       "<Figure size 432x288 with 1 Axes>"
      ]
     },
     "metadata": {
      "needs_background": "light"
     },
     "output_type": "display_data"
    },
    {
     "data": {
      "image/png": "[encoded data removed]",
      "text/plain": [
       "<Figure size 432x288 with 1 Axes>"
      ]
     },
     "metadata": {
      "needs_background": "light"
     },
     "output_type": "display_data"
    },
    {
     "name": "stdout",
     "output_type": "stream",
     "text": [
      "Iteration 200\n",
      "Loss v:  2.884, Loss p:  0.000, Loss s:  nan, Loss ssl:  0.216, Acc p:  1.000, Acc s:  nan    V Distance (target is +1):  0.707, std is:  0.740\n",
      "Solved:  0.030\n",
      "Length of Queue Hardlearner/Fellows/Stuck/WhileSolving: 13402 / 40498 / 0 / 0\n",
      "Train Times of Queue Hardlearner/Fellows/Stuck/WhileSolving:  7.5 /  1.2 /  0.0 /  0.0\n"
     ]
    },
    {
     "name": "stderr",
     "output_type": "stream",
     "text": [
      "C:\\ProgramData\\Anaconda3\\lib\\site-packages\\numpy\\core\\fromnumeric.py:3373: RuntimeWarning: Mean of empty slice.\n",
      "  out=out, **kwargs)\n",
      "C:\\ProgramData\\Anaconda3\\lib\\site-packages\\numpy\\core\\_methods.py:170: RuntimeWarning: invalid value encountered in double_scalars\n",
      "  ret = ret.dtype.type(ret / rcount)\n"
     ]
    },
    {
     "data": {
      "image/png": "[encoded data removed]",
      "text/plain": [
       "<Figure size 432x288 with 1 Axes>"
      ]
     },
     "metadata": {
      "needs_background": "light"
     },
     "output_type": "display_data"
    },
    {
     "data": {
      "image/png": "[encoded data removed]",
      "text/plain": [
       "<Figure size 432x288 with 1 Axes>"
      ]
     },
     "metadata": {
      "needs_background": "light"
     },
     "output_type": "display_data"
    },
    {
     "data": {
      "image/png": "[encoded data removed]",
      "text/plain": [
       "<Figure size 432x288 with 1 Axes>"
      ]
     },
     "metadata": {
      "needs_background": "light"
     },
     "output_type": "display_data"
    },
    {
     "name": "stdout",
     "output_type": "stream",
     "text": [
      "Iteration 300\n",
      "Loss v:  0.829, Loss p:  0.000, Loss s:  nan, Loss ssl:  0.035, Acc p:  1.000, Acc s:  nan    V Distance (target is +1):  0.868, std is:  0.447\n",
      "Solved:  0.061\n",
      "Length of Queue Hardlearner/Fellows/Stuck/WhileSolving: 11450 / 17140 / 0 / 0\n",
      "Train Times of Queue Hardlearner/Fellows/Stuck/WhileSolving:  8.7 /  2.9 /  0.0 /  0.0\n"
     ]
    },
    {
     "data": {
      "image/png": "[encoded data removed]",
      "text/plain": [
       "<Figure size 432x288 with 1 Axes>"
      ]
     },
     "metadata": {
      "needs_background": "light"
     },
     "output_type": "display_data"
    },
    {
     "data": {
      "image/png": "[encoded data removed]",
      "text/plain": [
       "<Figure size 432x288 with 1 Axes>"
      ]
     },
     "metadata": {
      "needs_background": "light"
     },
     "output_type": "display_data"
    },
    {
     "data": {
      "image/png": "[encoded data removed]",
      "text/plain": [
       "<Figure size 432x288 with 1 Axes>"
      ]
     },
     "metadata": {
      "needs_background": "light"
     },
     "output_type": "display_data"
    },
    {
     "name": "stdout",
     "output_type": "stream",
     "text": [
      "Iteration 400\n",
      "Loss v:  0.756, Loss p:  0.000, Loss s:  nan, Loss ssl:  0.017, Acc p:  1.000, Acc s:  nan    V Distance (target is +1):  0.751, std is:  0.636\n",
      "Solved:  0.081\n",
      "Length of Queue Hardlearner/Fellows/Stuck/WhileSolving: 10699 / 14806 / 0 / 0\n",
      "Train Times of Queue Hardlearner/Fellows/Stuck/WhileSolving:  9.3 /  3.4 /  0.0 /  0.0\n"
     ]
    },
    {
     "data": {
      "image/png": "[encoded data removed]",
      "text/plain": [
       "<Figure size 432x288 with 1 Axes>"
      ]
     },
     "metadata": {
      "needs_background": "light"
     },
     "output_type": "display_data"
    },
    {
     "data": {
      "image/png": "[encoded data removed]",
      "text/plain": [
       "<Figure size 432x288 with 1 Axes>"
      ]
     },
     "metadata": {
      "needs_background": "light"
     },
     "output_type": "display_data"
    },
    {
     "data": {
      "image/png": "[encoded data removed]",
      "text/plain": [
       "<Figure size 432x288 with 1 Axes>"
      ]
     },
     "metadata": {
      "needs_background": "light"
     },
     "output_type": "display_data"
    },
    {
     "name": "stdout",
     "output_type": "stream",
     "text": [
      "Iteration 500\n",
      "Loss v:  1.052, Loss p:  0.000, Loss s:  nan, Loss ssl:  0.016, Acc p:  1.000, Acc s:  nan    V Distance (target is +1):  0.763, std is:  0.610\n",
      "Solved:  0.083\n",
      "Length of Queue Hardlearner/Fellows/Stuck/WhileSolving: 13564 / 32325 / 0 / 0\n",
      "Train Times of Queue Hardlearner/Fellows/Stuck/WhileSolving:  7.4 /  1.5 /  0.0 /  0.0\n"
     ]
    },
    {
     "data": {
      "image/png": "[encoded data removed]",
      "text/plain": [
       "<Figure size 432x288 with 1 Axes>"
      ]
     },
     "metadata": {
      "needs_background": "light"
     },
     "output_type": "display_data"
    },
    {
     "data": {
      "image/png": "[encoded data removed]",
      "text/plain": [
       "<Figure size 432x288 with 1 Axes>"
      ]
     },
     "metadata": {
      "needs_background": "light"
     },
     "output_type": "display_data"
    },
    {
     "data": {
      "image/png": "[encoded data removed]",
      "text/plain": [
       "<Figure size 432x288 with 1 Axes>"
      ]
     },
     "metadata": {
      "needs_background": "light"
     },
     "output_type": "display_data"
    },
    {
     "name": "stdout",
     "output_type": "stream",
     "text": [
      "Iteration 600\n",
      "Loss v:  0.889, Loss p:  0.000, Loss s:  nan, Loss ssl:  0.016, Acc p:  1.000, Acc s:  nan    V Distance (target is +1):  0.602, std is:  0.531\n",
      "Solved:  0.075\n",
      "Length of Queue Hardlearner/Fellows/Stuck/WhileSolving: 14031 / 30312 / 0 / 0\n",
      "Train Times of Queue Hardlearner/Fellows/Stuck/WhileSolving:  7.1 /  1.6 /  0.0 /  0.0\n"
     ]
    },
    {
     "data": {
      "image/png": "[encoded data removed]",
      "text/plain": [
       "<Figure size 432x288 with 1 Axes>"
      ]
     },
     "metadata": {
      "needs_background": "light"
     },
     "output_type": "display_data"
    },
    {
     "data": {
      "image/png": "[encoded data removed]",
      "text/plain": [
       "<Figure size 432x288 with 1 Axes>"
      ]
     },
     "metadata": {
      "needs_background": "light"
     },
     "output_type": "display_data"
    },
    {
     "data": {
      "image/png": "[encoded data removed]",
      "text/plain": [
       "<Figure size 432x288 with 1 Axes>"
      ]
     },
     "metadata": {
      "needs_background": "light"
     },
     "output_type": "display_data"
    },
    {
     "name": "stdout",
     "output_type": "stream",
     "text": [
      "Iteration 700\n",
      "Loss v:  0.845, Loss p:  0.000, Loss s:  nan, Loss ssl:  0.015, Acc p:  1.000, Acc s:  nan    V Distance (target is +1):  0.841, std is:  0.528\n",
      "Solved:  0.094\n",
      "Length of Queue Hardlearner/Fellows/Stuck/WhileSolving: 13760 / 28326 / 0 / 0\n",
      "Train Times of Queue Hardlearner/Fellows/Stuck/WhileSolving:  7.3 /  1.8 /  0.0 /  0.0\n"
     ]
    },
    {
     "data": {
      "image/png": "[encoded data removed]",
      "text/plain": [
       "<Figure size 432x288 with 1 Axes>"
      ]
     },
     "metadata": {
      "needs_background": "light"
     },
     "output_type": "display_data"
    },
    {
     "data": {
      "image/png": "[encoded data removed]",
      "text/plain": [
       "<Figure size 432x288 with 1 Axes>"
      ]
     },
     "metadata": {
      "needs_background": "light"
     },
     "output_type": "display_data"
    },
    {
     "data": {
      "image/png": "[encoded data removed]",
      "text/plain": [
       "<Figure size 432x288 with 1 Axes>"
      ]
     },
     "metadata": {
      "needs_background": "light"
     },
     "output_type": "display_data"
    },
    {
     "name": "stdout",
     "output_type": "stream",
     "text": [
      "Iteration 800\n",
      "Loss v:  0.811, Loss p:  0.000, Loss s:  nan, Loss ssl:  0.013, Acc p:  1.000, Acc s:  nan    V Distance (target is +1):  0.959, std is:  0.541\n",
      "Solved:  0.082\n",
      "Length of Queue Hardlearner/Fellows/Stuck/WhileSolving: 13098 / 25563 / 0 / 0\n",
      "Train Times of Queue Hardlearner/Fellows/Stuck/WhileSolving:  7.6 /  2.0 /  0.0 /  0.0\n"
     ]
    },
    {
     "data": {
      "image/png": "[encoded data removed]",
      "text/plain": [
       "<Figure size 432x288 with 1 Axes>"
      ]
     },
     "metadata": {
      "needs_background": "light"
     },
     "output_type": "display_data"
    },
    {
     "data": {
      "image/png": "[encoded data removed]",
      "text/plain": [
       "<Figure size 432x288 with 1 Axes>"
      ]
     },
     "metadata": {
      "needs_background": "light"
     },
     "output_type": "display_data"
    },
    {
     "data": {
      "image/png": "[encoded data removed]",
      "text/plain": [
       "<Figure size 432x288 with 1 Axes>"
      ]
     },
     "metadata": {
      "needs_background": "light"
     },
     "output_type": "display_data"
    },
    {
     "name": "stdout",
     "output_type": "stream",
     "text": [
      "Iteration 900\n",
      "Loss v:  0.744, Loss p:  0.000, Loss s:  nan, Loss ssl:  0.014, Acc p:  1.000, Acc s:  nan    V Distance (target is +1):  0.750, std is:  0.513\n",
      "Solved:  0.100\n",
      "Length of Queue Hardlearner/Fellows/Stuck/WhileSolving: 12288 / 19092 / 0 / 0\n",
      "Train Times of Queue Hardlearner/Fellows/Stuck/WhileSolving:  8.1 /  2.6 /  0.0 /  0.0\n"
     ]
    },
    {
     "data": {
      "image/png": "[encoded data removed]",
      "text/plain": [
       "<Figure size 432x288 with 1 Axes>"
      ]
     },
     "metadata": {
      "needs_background": "light"
     },
     "output_type": "display_data"
    },
    {
     "data": {
      "image/png": "[encoded data removed]",
      "text/plain": [
       "<Figure size 432x288 with 1 Axes>"
      ]
     },
     "metadata": {
      "needs_background": "light"
     },
     "output_type": "display_data"
    },
    {
     "data": {
      "image/png": "[encoded data removed]",
      "text/plain": [
       "<Figure size 432x288 with 1 Axes>"
      ]
     },
     "metadata": {
      "needs_background": "light"
     },
     "output_type": "display_data"
    },
    {
     "name": "stdout",
     "output_type": "stream",
     "text": [
      "Iteration 1000\n",
      "Loss v:  0.700, Loss p:  0.000, Loss s:  nan, Loss ssl:  0.014, Acc p:  1.000, Acc s:  nan    V Distance (target is +1):  0.775, std is:  0.465\n",
      "Solved:  0.090\n",
      "Length of Queue Hardlearner/Fellows/Stuck/WhileSolving: 11659 / 13178 / 0 / 0\n",
      "Train Times of Queue Hardlearner/Fellows/Stuck/WhileSolving:  8.6 /  3.8 /  0.0 /  0.0\n"
     ]
    },
    {
     "data": {
      "image/png": "[encoded data removed]",
      "text/plain": [
       "<Figure size 432x288 with 1 Axes>"
      ]
     },
     "metadata": {
      "needs_background": "light"
     },
     "output_type": "display_data"
    },
    {
     "data": {
      "image/png": "[encoded data removed]",
      "text/plain": [
       "<Figure size 432x288 with 1 Axes>"
      ]
     },
     "metadata": {
      "needs_background": "light"
     },
     "output_type": "display_data"
    },
    {
     "data": {
      "image/png": "[encoded data removed]",
      "text/plain": [
       "<Figure size 432x288 with 1 Axes>"
      ]
     },
     "metadata": {
      "needs_background": "light"
     },
     "output_type": "display_data"
    },
    {
     "data": {
      "image/png": "[encoded data removed]",
      "text/plain": [
       "<Figure size 432x288 with 1 Axes>"
      ]
     },
     "metadata": {
      "needs_background": "light"
     },
     "output_type": "display_data"
    },
    {
     "name": "stdout",
     "output_type": "stream",
     "text": [
      "Saved to data/EXP_rubik_ep1.dat\n",
      "Iteration 1100\n",
      "Loss v:  0.689, Loss p:  0.000, Loss s:  nan, Loss ssl:  0.012, Acc p:  1.000, Acc s:  nan    V Distance (target is +1):  0.636, std is:  0.454\n",
      "Solved:  0.112\n",
      "Length of Queue Hardlearner/Fellows/Stuck/WhileSolving: 11420 / 9816 / 0 / 0\n",
      "Train Times of Queue Hardlearner/Fellows/Stuck/WhileSolving:  8.8 /  5.1 /  0.0 /  0.0\n"
     ]
    },
    {
     "data": {
      "image/png": "[encoded data removed]",
      "text/plain": [
       "<Figure size 432x288 with 1 Axes>"
      ]
     },
     "metadata": {
      "needs_background": "light"
     },
     "output_type": "display_data"
    },
    {
     "data": {
      "image/png": "[encoded data removed]",
      "text/plain": [
       "<Figure size 432x288 with 1 Axes>"
      ]
     },
     "metadata": {
      "needs_background": "light"
     },
     "output_type": "display_data"
    },
    {
     "data": {
      "image/png": "[encoded data removed]",
      "text/plain": [
       "<Figure size 432x288 with 1 Axes>"
      ]
     },
     "metadata": {
      "needs_background": "light"
     },
     "output_type": "display_data"
    },
    {
     "name": "stdout",
     "output_type": "stream",
     "text": [
      "Iteration 1200\n",
      "Loss v:  0.682, Loss p:  0.000, Loss s:  nan, Loss ssl:  0.011, Acc p:  1.000, Acc s:  nan    V Distance (target is +1):  0.907, std is:  0.482\n",
      "Solved:  0.118\n",
      "Length of Queue Hardlearner/Fellows/Stuck/WhileSolving: 11425 / 9155 / 0 / 0\n",
      "Train Times of Queue Hardlearner/Fellows/Stuck/WhileSolving:  8.8 /  5.5 /  0.0 /  0.0\n"
     ]
    },
    {
     "data": {
      "image/png": "[encoded data removed]",
      "text/plain": [
       "<Figure size 432x288 with 1 Axes>"
      ]
     },
     "metadata": {
      "needs_background": "light"
     },
     "output_type": "display_data"
    },
    {
     "data": {
      "image/png": "[encoded data removed]",
      "text/plain": [
       "<Figure size 432x288 with 1 Axes>"
      ]
     },
     "metadata": {
      "needs_background": "light"
     },
     "output_type": "display_data"
    },
    {
     "data": {
      "image/png": "[encoded data removed]",
      "text/plain": [
       "<Figure size 432x288 with 1 Axes>"
      ]
     },
     "metadata": {
      "needs_background": "light"
     },
     "output_type": "display_data"
    },
    {
     "name": "stdout",
     "output_type": "stream",
     "text": [
      "Iteration 1300\n",
      "Loss v:  0.735, Loss p:  0.000, Loss s:  nan, Loss ssl:  0.013, Acc p:  1.000, Acc s:  nan    V Distance (target is +1):  0.888, std is:  0.580\n",
      "Solved:  0.119\n",
      "Length of Queue Hardlearner/Fellows/Stuck/WhileSolving: 11172 / 13258 / 0 / 0\n",
      "Train Times of Queue Hardlearner/Fellows/Stuck/WhileSolving:  9.0 /  3.8 /  0.0 /  0.0\n"
     ]
    },
    {
     "data": {
      "image/png": "[encoded data removed]",
      "text/plain": [
       "<Figure size 432x288 with 1 Axes>"
      ]
     },
     "metadata": {
      "needs_background": "light"
     },
     "output_type": "display_data"
    },
    {
     "data": {
      "image/png": "[encoded data removed]",
      "text/plain": [
       "<Figure size 432x288 with 1 Axes>"
      ]
     },
     "metadata": {
      "needs_background": "light"
     },
     "output_type": "display_data"
    },
    {
     "data": {
      "image/png": "[encoded data removed]",
      "text/plain": [
       "<Figure size 432x288 with 1 Axes>"
      ]
     },
     "metadata": {
      "needs_background": "light"
     },
     "output_type": "display_data"
    },
    {
     "name": "stdout",
     "output_type": "stream",
     "text": [
      "Iteration 1400\n",
      "Loss v:  0.909, Loss p:  0.000, Loss s:  nan, Loss ssl:  0.019, Acc p:  1.000, Acc s:  nan    V Distance (target is +1):  1.021, std is:  0.662\n",
      "Solved:  0.129\n",
      "Length of Queue Hardlearner/Fellows/Stuck/WhileSolving: 11334 / 20217 / 0 / 0\n",
      "Train Times of Queue Hardlearner/Fellows/Stuck/WhileSolving:  8.8 /  2.5 /  0.0 /  0.0\n"
     ]
    },
    {
     "data": {
      "image/png": "[encoded data removed]",
      "text/plain": [
       "<Figure size 432x288 with 1 Axes>"
      ]
     },
     "metadata": {
      "needs_background": "light"
     },
     "output_type": "display_data"
    },
    {
     "data": {
      "image/png": "[encoded data removed]",
      "text/plain": [
       "<Figure size 432x288 with 1 Axes>"
      ]
     },
     "metadata": {
      "needs_background": "light"
     },
     "output_type": "display_data"
    },
    {
     "data": {
      "image/png": "[encoded data removed]",
      "text/plain": [
       "<Figure size 432x288 with 1 Axes>"
      ]
     },
     "metadata": {
      "needs_background": "light"
     },
     "output_type": "display_data"
    },
    {
     "name": "stdout",
     "output_type": "stream",
     "text": [
      "Iteration 1500\n",
      "Loss v:  1.006, Loss p:  0.000, Loss s:  nan, Loss ssl:  0.022, Acc p:  1.000, Acc s:  nan    V Distance (target is +1):  0.802, std is:  0.562\n",
      "Solved:  0.104\n",
      "Length of Queue Hardlearner/Fellows/Stuck/WhileSolving: 11222 / 21409 / 0 / 0\n",
      "Train Times of Queue Hardlearner/Fellows/Stuck/WhileSolving:  8.9 /  2.3 /  0.0 /  0.0\n"
     ]
    },
    {
     "data": {
      "image/png": "[encoded data removed]",
      "text/plain": [
       "<Figure size 432x288 with 1 Axes>"
      ]
     },
     "metadata": {
      "needs_background": "light"
     },
     "output_type": "display_data"
    },
    {
     "data": {
      "image/png": "[encoded data removed]",
      "text/plain": [
       "<Figure size 432x288 with 1 Axes>"
      ]
     },
     "metadata": {
      "needs_background": "light"
     },
     "output_type": "display_data"
    },
    {
     "data": {
      "image/png": "[encoded data removed]",
      "text/plain": [
       "<Figure size 432x288 with 1 Axes>"
      ]
     },
     "metadata": {
      "needs_background": "light"
     },
     "output_type": "display_data"
    },
    {
     "name": "stdout",
     "output_type": "stream",
     "text": [
      "Iteration 1600\n",
      "Loss v:  0.835, Loss p:  0.000, Loss s:  nan, Loss ssl:  0.016, Acc p:  1.000, Acc s:  nan    V Distance (target is +1):  1.153, std is:  0.426\n",
      "Solved:  0.053\n",
      "Length of Queue Hardlearner/Fellows/Stuck/WhileSolving: 9847 / 13923 / 0 / 0\n",
      "Train Times of Queue Hardlearner/Fellows/Stuck/WhileSolving:  10.2 /  3.6 /  0.0 /  0.0\n"
     ]
    },
    {
     "data": {
      "image/png": "[encoded data removed]",
      "text/plain": [
       "<Figure size 432x288 with 1 Axes>"
      ]
     },
     "metadata": {
      "needs_background": "light"
     },
     "output_type": "display_data"
    },
    {
     "data": {
      "image/png": "[encoded data removed]",
      "text/plain": [
       "<Figure size 432x288 with 1 Axes>"
      ]
     },
     "metadata": {
      "needs_background": "light"
     },
     "output_type": "display_data"
    },
    {
     "data": {
      "image/png": "[encoded data removed]",
      "text/plain": [
       "<Figure size 432x288 with 1 Axes>"
      ]
     },
     "metadata": {
      "needs_background": "light"
     },
     "output_type": "display_data"
    },
    {
     "name": "stdout",
     "output_type": "stream",
     "text": [
      "Iteration 1700\n",
      "Loss v:  0.578, Loss p:  0.000, Loss s:  nan, Loss ssl:  0.011, Acc p:  1.000, Acc s:  nan    V Distance (target is +1):  0.678, std is:  0.374\n",
      "Solved:  0.116\n",
      "Length of Queue Hardlearner/Fellows/Stuck/WhileSolving: 8042 / 5749 / 0 / 0\n",
      "Train Times of Queue Hardlearner/Fellows/Stuck/WhileSolving:  12.4 /  8.7 /  0.0 /  0.0\n"
     ]
    },
    {
     "data": {
      "image/png": "[encoded data removed]",
      "text/plain": [
       "<Figure size 432x288 with 1 Axes>"
      ]
     },
     "metadata": {
      "needs_background": "light"
     },
     "output_type": "display_data"
    },
    {
     "data": {
      "image/png": "[encoded data removed]",
      "text/plain": [
       "<Figure size 432x288 with 1 Axes>"
      ]
     },
     "metadata": {
      "needs_background": "light"
     },
     "output_type": "display_data"
    },
    {
     "data": {
      "image/png": "[encoded data removed]",
      "text/plain": [
       "<Figure size 432x288 with 1 Axes>"
      ]
     },
     "metadata": {
      "needs_background": "light"
     },
     "output_type": "display_data"
    },
    {
     "name": "stdout",
     "output_type": "stream",
     "text": [
      "Iteration 1800\n",
      "Loss v:  0.689, Loss p:  0.000, Loss s:  nan, Loss ssl:  0.013, Acc p:  1.000, Acc s:  nan    V Distance (target is +1):  1.183, std is:  0.577\n",
      "Solved:  0.120\n",
      "Length of Queue Hardlearner/Fellows/Stuck/WhileSolving: 7743 / 7045 / 0 / 0\n",
      "Train Times of Queue Hardlearner/Fellows/Stuck/WhileSolving:  12.9 /  7.1 /  0.0 /  0.0\n"
     ]
    },
    {
     "data": {
      "image/png": "[encoded data removed]",
      "text/plain": [
       "<Figure size 432x288 with 1 Axes>"
      ]
     },
     "metadata": {
      "needs_background": "light"
     },
     "output_type": "display_data"
    },
    {
     "data": {
      "image/png": "[encoded data removed]",
      "text/plain": [
       "<Figure size 432x288 with 1 Axes>"
      ]
     },
     "metadata": {
      "needs_background": "light"
     },
     "output_type": "display_data"
    },
    {
     "data": {
      "image/png": "[encoded data removed]",
      "text/plain": [
       "<Figure size 432x288 with 1 Axes>"
      ]
     },
     "metadata": {
      "needs_background": "light"
     },
     "output_type": "display_data"
    },
    {
     "name": "stdout",
     "output_type": "stream",
     "text": [
      "Iteration 1900\n",
      "Loss v:  0.958, Loss p:  0.000, Loss s:  nan, Loss ssl:  0.015, Acc p:  1.000, Acc s:  nan    V Distance (target is +1):  1.293, std is:  0.589\n",
      "Solved:  0.126\n",
      "Length of Queue Hardlearner/Fellows/Stuck/WhileSolving: 8868 / 15292 / 0 / 0\n",
      "Train Times of Queue Hardlearner/Fellows/Stuck/WhileSolving:  11.3 /  3.3 /  0.0 /  0.0\n"
     ]
    },
    {
     "data": {
      "image/png": "[encoded data removed]",
      "text/plain": [
       "<Figure size 432x288 with 1 Axes>"
      ]
     },
     "metadata": {
      "needs_background": "light"
     },
     "output_type": "display_data"
    },
    {
     "data": {
      "image/png": "[encoded data removed]",
      "text/plain": [
       "<Figure size 432x288 with 1 Axes>"
      ]
     },
     "metadata": {
      "needs_background": "light"
     },
     "output_type": "display_data"
    },
    {
     "data": {
      "image/png": "[encoded data removed]",
      "text/plain": [
       "<Figure size 432x288 with 1 Axes>"
      ]
     },
     "metadata": {
      "needs_background": "light"
     },
     "output_type": "display_data"
    },
    {
     "name": "stdout",
     "output_type": "stream",
     "text": [
      "Iteration 2000\n",
      "Loss v:  0.961, Loss p:  0.000, Loss s:  nan, Loss ssl:  0.016, Acc p:  1.000, Acc s:  nan    V Distance (target is +1):  1.333, std is:  0.557\n",
      "Solved:  0.053\n",
      "Length of Queue Hardlearner/Fellows/Stuck/WhileSolving: 9787 / 17438 / 0 / 0\n",
      "Train Times of Queue Hardlearner/Fellows/Stuck/WhileSolving:  10.2 /  2.9 /  0.0 /  0.0\n"
     ]
    },
    {
     "data": {
      "image/png": "[encoded data removed]",
      "text/plain": [
       "<Figure size 432x288 with 1 Axes>"
      ]
     },
     "metadata": {
      "needs_background": "light"
     },
     "output_type": "display_data"
    },
    {
     "data": {
      "image/png": "[encoded data removed]",
      "text/plain": [
       "<Figure size 432x288 with 1 Axes>"
      ]
     },
     "metadata": {
      "needs_background": "light"
     },
     "output_type": "display_data"
    },
    {
     "data": {
      "image/png": "[encoded data removed]",
      "text/plain": [
       "<Figure size 432x288 with 1 Axes>"
      ]
     },
     "metadata": {
      "needs_background": "light"
     },
     "output_type": "display_data"
    },
    {
     "data": {
      "image/png": "[encoded data removed]",
      "text/plain": [
       "<Figure size 432x288 with 1 Axes>"
      ]
     },
     "metadata": {
      "needs_background": "light"
     },
     "output_type": "display_data"
    },
    {
     "name": "stdout",
     "output_type": "stream",
     "text": [
      "Saved to data/EXP_rubik_ep2.dat\n",
      "Iteration 2100\n",
      "Loss v:  0.512, Loss p:  0.000, Loss s:  nan, Loss ssl:  0.012, Acc p:  1.000, Acc s:  nan    V Distance (target is +1):  0.951, std is:  0.284\n",
      "Solved:  0.025\n",
      "Length of Queue Hardlearner/Fellows/Stuck/WhileSolving: 6557 / 6800 / 0 / 0\n",
      "Train Times of Queue Hardlearner/Fellows/Stuck/WhileSolving:  15.3 /  7.4 /  0.0 /  0.0\n"
     ]
    },
    {
     "data": {
      "image/png": "[encoded data removed]",
      "text/plain": [
       "<Figure size 432x288 with 1 Axes>"
      ]
     },
     "metadata": {
      "needs_background": "light"
     },
     "output_type": "display_data"
    },
    {
     "data": {
      "image/png": "[encoded data removed]",
      "text/plain": [
       "<Figure size 432x288 with 1 Axes>"
      ]
     },
     "metadata": {
      "needs_background": "light"
     },
     "output_type": "display_data"
    },
    {
     "data": {
      "image/png": "[encoded data removed]",
      "text/plain": [
       "<Figure size 432x288 with 1 Axes>"
      ]
     },
     "metadata": {
      "needs_background": "light"
     },
     "output_type": "display_data"
    }
   ],
   "source": [
    "\n",
    "iter0 = net.iter\n",
    "#optimizer = torch.optim.Adam(lr=2e-4, betas=(0.8, 0.99), params=net.parameters(), weight_decay=1e-4)\n",
    "optimizer = torch.optim.Adam(lr=5e-4, betas=(0.99, 0.999), params=net.parameters(), weight_decay=1e-4)\n",
    "net_teacher = net.__class__()\n",
    "net_teacher.load_state_dict(net.state_dict())\n",
    "net_teacher.eval()\n",
    "\n",
    "\n",
    "losses_p, losses_v, losses_s, losses_ssl, accs_p, accs_s, stuck_solved_stats, solved_lengths = [], [], [], [], [], [], [], []\n",
    "queue_hardlearners = Queue()\n",
    "queue_fellows = Queue()\n",
    "\n",
    "\n",
    "ANN = 1e10 ## no annealing\n",
    "#ANN = 300 ## annealing\n",
    "if ANN < 1e6: print(f'Annealing in {ANN} steps')\n",
    "\n",
    "# Initial Cube states\n",
    "bnum = 500 # batch size           ###############\n",
    "vs = np.ones(bnum)*np.inf  # value of states\n",
    "xs = np.zeros((bnum,)+shape_state) # cube states in oh format\n",
    "for i in range(bnum):\n",
    "    xs[i] = state2oh(bg_shuffle())\n",
    "histories = [ [] for i in range(bnum) ] # history of states while solving\n",
    "\n",
    "\n",
    "\n",
    "for iter in trange(net.iter, int(1e10), initial=net.iter):\n",
    "\n",
    "    last_vs = vs\n",
    "    vsraw, ssraw, zs = fellow_vs(xs)\n",
    "    \n",
    "    ##### TESTPHASE: hashen von wenigen states\n",
    "    count_in, count_out = 0, 0\n",
    "    for b in range(bnum):\n",
    "        state = oh2state(xs[b])\n",
    "        for r in range(len(moves)):\n",
    "            state2 = apply(state, moves[r])\n",
    "            s2 = state.tobytes()\n",
    "            if s2 in hashtable:\n",
    "                ##print(vsraw[b,r], hashtable[s2])\n",
    "                vsraw[b,r] = hashtable[s2]\n",
    "                count_in += 1\n",
    "            else:\n",
    "                count_out += 1\n",
    "    #print('In, out of hashtable: ', count_in, count_out)\n",
    "    ##### END TESTPHASE\n",
    "\n",
    "    # policies bestimmen und values bestimmen\n",
    "    ps = np.argmin(vsraw, axis=1)\n",
    "    vs = np.min(vsraw, axis=1)[:,None]\n",
    "    vtarget = vs + 1\n",
    "    for b in range(bnum):\n",
    "        if issolved(xs[b]):\n",
    "            vtarget[b] = 0.\n",
    "\n",
    "    # Netzwerk lernen lassen durch die xs und (vs, ps)\n",
    "    pred_vs = net(np2t(xs))\n",
    "    loss_p = 0\n",
    "    loss_v = L1L2(pred_vs, np2t(vtarget))\n",
    "    loss = loss_p + loss_v\n",
    "    losses_p += [0]\n",
    "    losses_v += [loss_v.item()]\n",
    "    acc_p = 1\n",
    "    accs_p += [1]\n",
    "    # Additional loss to calibrate the solved cube as zero\n",
    "    v = net(tsolved[None,:])\n",
    "    loss_solved = L1L2(v, torch.zeros_like(v))\n",
    "    loss += 10*loss_solved\n",
    "    pred_vs = t2np(pred_vs)\n",
    "    vdist = [ pred_vs[k] - vs[k] for k in range(bnum)]\n",
    "\n",
    "\n",
    "\n",
    "    # wenn v stark abweicht vom soll, dann sample speichern und wiederholt lernen\n",
    "    for k in range(bnum//2):\n",
    "        if pred_vs[k]-vs[k] > 1.5: # eigentlich sollte vdist = +1 sein, d. h. zu große Werte müssen korrigiert werden\n",
    "            queue_hardlearners.add(xs[k])\n",
    "        if pred_vs[k]-vs[k] < 0.5:\n",
    "            queue_hardlearners.add(xs[k])\n",
    "        for r in range(12):\n",
    "            if vsraw[k,r]-pred_vs[k] > 1.5:\n",
    "                queue_fellows.add(zs[k,r])\n",
    "\n",
    "\n",
    "## Solved_length brauche ich nicht mehr\n",
    "## stuck_solved_stats brauche ich nicht mehr\n",
    "## histories usw.\n",
    "\n",
    "\n",
    "    # Move anwenden auf die Cubes, oder aber mit neues States füllen, wenn stuck oder gelöst\n",
    "    for b in range(bnum):\n",
    "        verbose = False\n",
    "        state0 = oh2state(xs[b])\n",
    "        if b >= bnum//2:\n",
    "            xs[b] = state2oh(bg_shuffle())\n",
    "        else:\n",
    "            s = state0.tobytes()\n",
    "            #if s in hashtable:                                                                                              ######\n",
    "            if issolved(state0):\n",
    "                if verbose: print(f'State xs[0] is SOLVED after {len(histories[b])} moves! Filling with new state!')\n",
    "                solved_lengths += [ len(histories[b]) ]\n",
    "                #solved_lengths += [ len(histories[b]) + hashtable[s] ]                                                      ######\n",
    "                histories[b].append(True)   # was solved\n",
    "                stuck_solved_stats += [ True ]\n",
    "                xs[b] = state2oh(bg_mixed())\n",
    "                vs[b] = np.inf\n",
    "            elif last_vs[b] < vs[b]:\n",
    "                if verbose: print('State xs[0] is STUCK! Filling with new state!')\n",
    "                histories[b].append(False)  # was not solved\n",
    "                stuck_solved_stats += [ False ]\n",
    "                xs[b] = state2oh(bg_mixed())\n",
    "                vs[b] = np.inf\n",
    "            else:\n",
    "                if verbose: print(f'Applying move {moves[ps[b]]} on xs[0]')\n",
    "                histories[b].append(xs[b].copy()) # alten state speichern\n",
    "                state = apply(state0, moves[ps[b]])\n",
    "                xs[b] = state2oh(state)\n",
    "            if verbose:\n",
    "                state = oh2state(xs[0])\n",
    "                cube = state2cube(state)\n",
    "                cube.draw()\n",
    "\n",
    "                \n",
    "    # History zum Netzwerk zum trainieren geben um zu lernen, welche States nun lösbar waren und welche nicht\n",
    "    tempxs = []\n",
    "    tempys = []\n",
    "    for b in range(bnum):\n",
    "        if len(histories[b])==0: continue\n",
    "        if type(histories[b][-1]) is bool: # fertig gelöst oder stuck\n",
    "            tempxs += histories[b][:-1]\n",
    "            tempys += (len(histories[b])-1) * [ histories[b][-1] ]\n",
    "            histories[b] = []\n",
    "            \n",
    "\n",
    "    #if ANN > 1e6:\n",
    "        #if iter%50 == 24:\n",
    "        #    solve_train(bg_inf(), trials=500) # den queues samples hinzufügen, die stuck sind\n",
    "        #if iter%50 == 4:\n",
    "        #    inds = argmax(abs(pred_ss-0.5)<0.3, num=10)\n",
    "        #    enqueue_solvable_states(trials=1000, states=[xs[i] for i in inds]) # Queue mit lösbaren bzw. unlösbaren zuständen füllen\n",
    "        #    enqueue_solvable_states(trials=1000, states=10)\n",
    "        \n",
    "       # for _ in range(10):\n",
    "       #     add_to_stuck_queue(bg_mixed())\n",
    "       # for _ in range(2):\n",
    "       #     add_to_stuck_queue(bg_mixed(), depth=4)\n",
    "\n",
    "    queue_hardlearners.train(bnum*2, weight=1.)  # bnum//4\n",
    "    queue_fellows.train(bnum, weight=1.)           # bnum\n",
    "    #queue_stuck.train(bnum//8, weight=0.05)\n",
    "    #queue_solvable.train(bnum//100, weight=0.01)  ## vorerst ohne solvable\n",
    "\n",
    "    queue_hardlearners.discount()\n",
    "    queue_fellows.discount()\n",
    "    queue_stuck.discount()\n",
    "    #queue_solvable.discount()\n",
    "    queue_while_solving.discount()\n",
    "\n",
    "\n",
    "    # Trainiere so, dass ein Cube mit n verdrehungen maximal v<=n hat.\n",
    "    train_upper_limit(bnum//8, weight=2.)\n",
    "    train_lower_limit(bnum//2, weight=6.)\n",
    "    l = train_ssl_consistency(n=bnum//20, weight=0.05)\n",
    "    losses_ssl += [l.item()]\n",
    "        \n",
    "    if not ANN > 1e6:\n",
    "        # Annealing if active (inactive if ann=inf)\n",
    "        optimizer.param_groups[0]['lr'] = 2e-3 * (iter0+ANN-iter)**2/ANN**2    # learn rate decay\n",
    "        if iter-iter0 == ANN: ValStats(extra=True); break\n",
    "            \n",
    "            \n",
    "    # Backpropagation and update of the network\n",
    "    loss.backward()\n",
    "    optimizer.step()\n",
    "    optimizer.zero_grad()\n",
    "    update_mt(net_teacher, net, 0.9)\n",
    "\n",
    "    net.iter = iter\n",
    "\n",
    "    # Verbose losses\n",
    "    if iter%100 == 0:\n",
    "        print(f'Iteration {iter}')\n",
    "        print(f'Loss v: {np.mean(losses_v): .3f}, Loss p: {np.mean(losses_p): .3f}, Loss s: {np.mean(losses_s): .3f}, Loss ssl: {np.mean(losses_ssl): .3f}, Acc p: {np.mean(accs_p): .3f}, Acc s: {np.mean(accs_s): .3f}', end='    ')\n",
    "        print(f'V Distance (target is +1): {np.mean(vdist): .3f}, std is: {np.std(vdist): .3f}')\n",
    "        print(f'Solved: {np.mean(stuck_solved_stats): .3f}')\n",
    "        print(f'Length of Queue Hardlearner/Fellows/Stuck/WhileSolving: {len(queue_hardlearners)} / {len(queue_fellows)} / {len(queue_stuck)} / {len(queue_while_solving)}')\n",
    "        print(f'Train Times of Queue Hardlearner/Fellows/Stuck/WhileSolving: {queue_hardlearners.nTrainsPerSamples: .1f} / {queue_fellows.nTrainsPerSamples: .1f} / {queue_stuck.nTrainsPerSamples: .1f} / {queue_while_solving.nTrainsPerSamples: .1f}')\n",
    "        losses_p, losses_v, losses_s, losses_ssl, accs_p, accs_s, stuck_solved_stats, solved_lengths = [], [], [], [], [], [], [], []\n",
    "        ValStats(extra=(iter%1000 == 0))\n",
    "        #plt.scatter(pred_vs, pred_ss, s=3); plt.show()\n",
    "        plt.scatter(vs, vdist, s=3, c='C2'); plt.show()\n",
    "\n",
    "    # Save checkpoints of this model\n",
    "    if iter%1000 == 0:\n",
    "        ep = iter//1000\n",
    "        fn = f'data/EXP_rubik_ep{ep}.dat'\n",
    "        torch.save(net.state_dict(), fn)\n",
    "        print(f'Saved to {fn}')\n"
   ]
  },
  {
   "cell_type": "code",
   "execution_count": null,
   "metadata": {
    "deletable": false,
    "editable": false,
    "run_control": {
     "frozen": true
    }
   },
   "outputs": [],
   "source": [
    "[\n",
    "    .4,\n",
    "    .55,\n",
    "    .6,\n",
    "    .45,\n",
    "    .6,\n",
    "    .6,\n",
    "    .65,\n",
    "    .55,\n",
    "    .7,\n",
    "    .4,\n",
    "    .5,\n",
    "    .3,\n",
    "    .75,  # <-- epoche 13\n",
    "    .6,\n",
    "    .4,\n",
    "    .7,\n",
    "    .6,\n",
    "    .5\n",
    "]"
   ]
  },
  {
   "cell_type": "code",
   "execution_count": null,
   "metadata": {
    "ExecuteTime": {
     "start_time": "2021-05-07T19:03:08.607Z"
    }
   },
   "outputs": [],
   "source": [
    "ValStats()"
   ]
  },
  {
   "cell_type": "code",
   "execution_count": null,
   "metadata": {
    "ExecuteTime": {
     "start_time": "2021-05-07T19:03:08.608Z"
    }
   },
   "outputs": [],
   "source": [
    "ep = iter//1000\n",
    "fn = f'data/rubik_ep{ep}_annealed.dat'\n",
    "torch.save(net.state_dict(), fn)\n",
    "print(f'Saved to {fn}')"
   ]
  },
  {
   "cell_type": "code",
   "execution_count": null,
   "metadata": {
    "deletable": false,
    "editable": false,
    "run_control": {
     "frozen": true
    }
   },
   "outputs": [],
   "source": [
    "with open('data/queue_while_solving.pkl', 'wb') as f:\n",
    "    pickle.dump(queue_while_solving.samples, f)\n",
    "with open('data/queue_stuck.pkl', 'wb') as f:\n",
    "    pickle.dump(queue_stuck.samples, f)"
   ]
  },
  {
   "cell_type": "markdown",
   "metadata": {},
   "source": [
    "## Zur Lösung anwenden"
   ]
  },
  {
   "cell_type": "code",
   "execution_count": null,
   "metadata": {
    "ExecuteTime": {
     "start_time": "2021-05-07T19:03:08.610Z"
    }
   },
   "outputs": [],
   "source": [
    "class GetOutOfLoop(Exception):\n",
    "    pass\n",
    "    \n",
    "def solve(state0, verbose=2, maxlen=100, batchsize=10, trials=100000):\n",
    "    'maxlen: Maximal erlaubte Länge der Lösung'\n",
    "    # batchsize von > 10 kann suboptimale sein und bringt keinen geschwindigkeitsvorteil(?)\n",
    "    \n",
    "    res = dict()\n",
    "    \n",
    "    def verb(*args):\n",
    "        if verbose>=1: print(*args)\n",
    "    \n",
    "    @lru_cache(None)\n",
    "    def penalty(l, t):\n",
    "        #return log(l+1)*t*15 # return penalty dependent on parameter t\n",
    "        #return 0.0*l*t # für kurze lösungen schneller\n",
    "        return 0.8*l*t # für schnelleres finden allgemein\n",
    "        \n",
    "    def penalties(v, ms):\n",
    "        l = len(ms)\n",
    "        return [v + penalty(l, t) for t in np.arange(0, 1, 1/5)]\n",
    "    \n",
    "    try: state0 = oh2state(state0)\n",
    "    except: pass\n",
    "    \n",
    "    v0 = net(np2t(state2oh(state0)[None,:]), policy=False).item()\n",
    "    \n",
    "    explored = set()\n",
    "    queue = SolvingQueue(n=5)\n",
    "    queue.push(item=(state0, v0, ''), values=5*[0])\n",
    "    \n",
    "    basestate0 = state0\n",
    "    \n",
    "    iter = 0\n",
    "    \n",
    "    try:\n",
    "        \n",
    "        while len(queue)>0:\n",
    "\n",
    "            bsize = min(batchsize, len(queue)) # batch size is small at the beginning and can become bigger\n",
    "            newstates = []\n",
    "            ms = []\n",
    "\n",
    "            for b in range(bsize):\n",
    "\n",
    "                while True: # Take state out of queue that fulfills the maxlen constraint\n",
    "                    if len(queue)==0:\n",
    "                        verb(f'Aborting after {iter} trials due to empty queue!')\n",
    "                        res['trials'] = iter\n",
    "                        res['ms'] = -1\n",
    "                        res['l'] = -1\n",
    "                        return res\n",
    "                    state0, v0, m0 = queue.pop(iter%5)\n",
    "                    if len(m0) + 0.8*(v0-hashed_depth) - 0.5 < maxlen - hashed_depth: # erwartete lösungslänge vs. erlaubtes maximum\n",
    "                        break\n",
    "\n",
    "                verb(f'Iteration {iter}, Moves {m0} applied, Value = {v0}, len(queue) = {len(queue)}!')\n",
    "\n",
    "                if iter%22==0 and b==0 and verbose>=2: draw(state0)\n",
    "        \n",
    "                s = state0.tobytes()\n",
    "                if s in hashtable:\n",
    "                    m0 += inverse_moves(mashtable[s])\n",
    "                    verb(f'Cube is solved after {len(m0)} moves and {iter} trials!')\n",
    "                    raise GetOutOfLoop\n",
    "                    \n",
    "                if issolved(state0):\n",
    "                    verb(f'Cube is solved after {len(m0)} moves and {iter} trials!')\n",
    "                    raise GetOutOfLoop\n",
    "                    #print(f'Cube is solved after {len(m0)} moves and {iter} trials! Trying with a move less')\n",
    "                    #maxlen -= 1\n",
    "                    #continue\n",
    "\n",
    "                # Auf jeden Würfel in xs die zwölf Züge anwenden und in zs speichern\n",
    "                for m in moves:\n",
    "                    newstates.append(apply(state0, m))\n",
    "                    ms.append(m0+m)\n",
    "                    \n",
    "                iter += 1\n",
    "                \n",
    "                if iter >= trials:\n",
    "                    verb(f'Aborting after {iter} trials')\n",
    "                    res['trials'] = iter\n",
    "                    res['ms'] = -1\n",
    "                    res['l'] = -1\n",
    "                    return res\n",
    "                \n",
    "\n",
    "            # Auf zs das Netzwerk anwenden und die Values in vs speichern (Vorhersage des Netzwerkes für den 'Wert' eines Status, d.h. wie nahe ein Status an dem gelösten Cube ist.)\n",
    "            zs = np.array([ state2oh(s) for s in newstates ])\n",
    "            with torch.no_grad():\n",
    "                zs = np2t(zs)\n",
    "                vsnext = net(zs, policy=False)\n",
    "                vsnext  = t2np(vsnext[:,0])\n",
    "\n",
    "            # Neue States der Queue hinzufügen\n",
    "            for k in range(12*bsize):\n",
    "                if newstates[k].tobytes() in explored:\n",
    "                    continue\n",
    "                else:\n",
    "                    explored.add(newstates[k].tobytes())\n",
    "                    queue.push(item=(newstates[k], vsnext[k], ms[k]), values=penalties(vsnext[k], ms[k]))\n",
    "            \n",
    "            \n",
    "    except GetOutOfLoop:\n",
    "        \n",
    "        if verbose>=1:\n",
    "            # print solving sequence of cubes\n",
    "            cube = state2cube(basestate0)\n",
    "            cube.draw()\n",
    "            for m in m0:\n",
    "                print(f'------------ Applying move {m} ------------')\n",
    "                cube.rotate(m)\n",
    "                cube.draw()\n",
    "        if verbose>0:\n",
    "            print(f'Cube is solved after {len(m0)} moves and {iter} trials!')\n",
    "\n",
    "        res['ms'] = m0\n",
    "        res['l'] = len(m0)\n",
    "        res['trials'] = iter\n",
    "        return res"
   ]
  },
  {
   "cell_type": "code",
   "execution_count": null,
   "metadata": {
    "ExecuteTime": {
     "start_time": "2021-05-07T19:03:08.611Z"
    }
   },
   "outputs": [],
   "source": [
    "# checken, wie wie schweren samples schneller gelöst werden können\n",
    "inds = [ i for i in range(len(T)) if T[i] > 10 ]\n",
    "\n",
    "for i in inds[0:4]:\n",
    "    print(tr[i])\n",
    "    solve(valbatch[i], maxlen=35, verbose=.1, batchsize=10)"
   ]
  },
  {
   "cell_type": "code",
   "execution_count": null,
   "metadata": {
    "ExecuteTime": {
     "start_time": "2021-05-07T19:03:08.612Z"
    }
   },
   "outputs": [],
   "source": [
    "def solve_best(state, verbose=1, maxlenstart=28, ntrials=100000, batchsize=10):\n",
    "    'Tries to find the minimal solution length'\n",
    "    maxlen = maxlenstart\n",
    "    delml = 2\n",
    "    l, ms = np.inf, ''\n",
    "    trials = 0\n",
    "    while True:\n",
    "        if verbose: print('Maxlen =', maxlen)\n",
    "        res = solve(state, maxlen=maxlen, verbose=(.1*verbose), trials=ntrials, batchsize=batchsize)\n",
    "        if res['l'] < 0:\n",
    "            maxlen += 2 # for parity reasons a step of 2 is reasonable\n",
    "            if maxlen >= l: break\n",
    "        else:\n",
    "            trials += res['trials']\n",
    "            l = res['l']\n",
    "            ms = res['ms']\n",
    "            maxlen = l-delml\n",
    "    return { 'l': l, 'ms': ms, 'trials': trials }"
   ]
  },
  {
   "cell_type": "code",
   "execution_count": null,
   "metadata": {
    "deletable": false,
    "editable": false,
    "run_control": {
     "frozen": true
    },
    "scrolled": true
   },
   "outputs": [],
   "source": [
    "#%load_ext line_profiler\n",
    "#%lprun -f solve solve(valbatch[0], maxlen=35, verbose=.1, batchsize=10)\n",
    "%lprun -f SolvingQueue.push solve(valbatch[0], maxlen=35, verbose=.1, batchsize=10)"
   ]
  },
  {
   "cell_type": "code",
   "execution_count": null,
   "metadata": {
    "ExecuteTime": {
     "start_time": "2021-05-07T19:03:08.613Z"
    }
   },
   "outputs": [],
   "source": [
    "np.random.seed(0)\n",
    "valbatch = []\n",
    "for k in trange(640):\n",
    "    state = shuffle(n=1000)\n",
    "    valbatch.append(state2oh(state))\n",
    "valbatch = np.array(valbatch)"
   ]
  },
  {
   "cell_type": "code",
   "execution_count": null,
   "metadata": {
    "deletable": false,
    "editable": false,
    "run_control": {
     "frozen": true
    }
   },
   "outputs": [],
   "source": [
    "ep=3\n",
    "#ep=22\n",
    "ep=32\n",
    "#ep=13\n",
    "fn = f'data/rubik_ep{ep}_annealed.dat'\n",
    "d = torch.load(fn)\n",
    "print(f'Loading Network form path \"{fn}\"')\n",
    "net = Net()\n",
    "net.load_state_dict(d)\n",
    "net.iter = 1000*ep+1\n",
    "net_teacher = net"
   ]
  },
  {
   "cell_type": "code",
   "execution_count": null,
   "metadata": {
    "ExecuteTime": {
     "start_time": "2021-05-07T19:03:08.615Z"
    }
   },
   "outputs": [],
   "source": [
    "# real world randomly shuffled cube\n",
    "input = \\\n",
    "''' yyy\n",
    "    yyy\n",
    "    yyy\n",
    "gog oro bbb rgr\n",
    "ggg ooo bbb rrr\n",
    "ggg ooo bbb rrr\n",
    "    www\n",
    "    www\n",
    "    www\n",
    "'''\n",
    "input = \\\n",
    "''' yyw\n",
    "    oyb\n",
    "    ygw\n",
    "rgo byg rro gbb\n",
    "ggr yoo bbo yrr\n",
    "bgg rog ybw bro\n",
    "    ywo\n",
    "    www\n",
    "    wwr\n",
    "'''\n",
    "\n",
    "input = \\\n",
    "''' yyy\n",
    "    yyy\n",
    "    gyb\n",
    "ggo yoy obb rrr\n",
    "ggg ooo bbb rrr\n",
    "ggg ooo bbb rrr\n",
    "    www\n",
    "    www\n",
    "    www\n",
    "'''# LLbLflBLLulUFuLU\n",
    "\n",
    "input = \\\n",
    "''' yyy\n",
    "    yyy\n",
    "    yyy\n",
    "gbb roo bgg orr\n",
    "ggg ooo bbb rrr\n",
    "ggg ooo bbb rrr\n",
    "    www\n",
    "    www\n",
    "    www\n",
    "'''\n",
    "\n",
    "cube.fromstring(input)\n",
    "cube.draw()\n",
    "\n",
    "#cube.reset()\n",
    "#cube.rotate('FURurf') # Fw R U Ri Ui Fwi F R U Ri Ui Fi\n",
    "\n",
    "mystate = cube2state(cube)\n",
    "\n",
    "#solve_best(mystate, maxlenstart=14, batchsize=10, ntrials=500000)\n",
    "solve(mystate, maxlen=34, trials=np.inf)"
   ]
  },
  {
   "cell_type": "code",
   "execution_count": null,
   "metadata": {
    "ExecuteTime": {
     "start_time": "2021-05-07T19:03:08.616Z"
    },
    "scrolled": false
   },
   "outputs": [],
   "source": [
    "\n",
    "\n",
    "input = \\\n",
    "''' oor\n",
    "    ryb\n",
    "    ywo\n",
    "byr grb yrb wgw\n",
    "ogb wog rbw orb\n",
    "wyr bog wyy owo\n",
    "    yyr\n",
    "    gwb\n",
    "    ggg\n",
    "'''\n",
    "\n",
    "cube.fromstring(input)\n",
    "cube.draw()\n",
    "mystate = cube2state(cube)\n",
    "\n",
    "#solve_best(mystate, maxlenstart=14, batchsize=10, ntrials=500000)\n",
    "solve(mystate, maxlen=30, trials=np.inf)"
   ]
  },
  {
   "cell_type": "code",
   "execution_count": null,
   "metadata": {
    "ExecuteTime": {
     "start_time": "2021-05-07T19:03:08.617Z"
    },
    "scrolled": true
   },
   "outputs": [],
   "source": [
    "#res = solve_best(mystate26)\n",
    "solve(mystate26, maxlen=26, verbose=1, trials=np.inf)"
   ]
  },
  {
   "cell_type": "code",
   "execution_count": null,
   "metadata": {
    "ExecuteTime": {
     "start_time": "2021-05-07T19:03:08.619Z"
    },
    "run_control": {
     "marked": true
    },
    "scrolled": true
   },
   "outputs": [],
   "source": [
    "from time import time\n",
    "print('starting')\n",
    "\n",
    "T, L, tr = [], [], []\n",
    "for i in range(640):\n",
    "    t0 = time()\n",
    "    res = solve(valbatch[i], maxlen=35, verbose=.1, batchsize=10)\n",
    "    #res = solve_best(valbatch[i], maxlenstart=26)\n",
    "    t1 = time()\n",
    "    T.append(t1-t0)\n",
    "    L.append(res['l'])\n",
    "    tr.append(res['trials'])\n",
    "    print(f'Solved in {t1-t0: .3f} s')\n",
    "    if i%10 == 0:\n",
    "        print(f'-- Cubes Number {i} --')\n",
    "        print(f'-- Median of T is  {np.median(T): .03f} --')\n",
    "        print(f'-- Mean   of T is  {np.mean(T): .03f} --')\n",
    "        print(f'-- Max    of T is  {np.max(T): .03f} --')\n",
    "        print(f'-- Median of L is  {np.median(L): .03f} --')\n",
    "        print(f'-- Mean   of L is  {np.mean(L): .03f} --')\n",
    "        print(f'-- Max    of L is  {np.max(L): .03f} --')\n",
    "        print(f'-- Median of tr is {np.median(tr): } --')\n",
    "        print(f'-- Mean   of tr is {np.mean(tr): .03f} --')\n",
    "        print(f'-- Max    of tr is {np.max(tr)} --')\n",
    "        print()"
   ]
  },
  {
   "cell_type": "code",
   "execution_count": null,
   "metadata": {
    "ExecuteTime": {
     "start_time": "2021-05-07T19:03:08.620Z"
    },
    "run_control": {
     "marked": true
    }
   },
   "outputs": [],
   "source": [
    "\n",
    "#  rubik_ep13_annealed.dat\n",
    "-- Cubes Number 10 --\n",
    "-- Median of T is   1.556 --\n",
    "-- Mean   of T is   2.340 --\n",
    "-- Max    of T is   8.657 --\n",
    "-- Median of L is   28.000 --\n",
    "-- Mean   of L is   29.455 --\n",
    "-- Max    of L is   36.000 --\n",
    "-- Median of tr is  1501.0 --\n",
    "-- Mean   of tr is  2373.636 --\n",
    "-- Max    of tr is  8492 --\n",
    "\n",
    "#  rubik_ep18_annealed.dat\n",
    "-- Cubes Number 10 --\n",
    "-- Median of T is   0.984 --\n",
    "-- Mean   of T is   2.530 --\n",
    "-- Max    of T is   11.640 --\n",
    "-- Median of L is   32.000 --\n",
    "-- Mean   of L is   30.909 --\n",
    "-- Max    of L is   34.000 --\n",
    "-- Median of tr is  846.0 --\n",
    "-- Mean   of tr is  1599.182 --\n",
    "-- Max    of tr is  8371 --\n",
    "\n",
    "#  rubik_ep32_annealed.dat\n",
    "-- Cubes Number 10 --\n",
    "-- Median of T is   1.569 --\n",
    "-- Mean   of T is   2.679 --\n",
    "-- Max    of T is   9.997 --\n",
    "-- Median of L is   28.000 --\n",
    "-- Mean   of L is   29.455 --\n",
    "-- Max    of L is   36.000 --\n",
    "-- Median of tr is  1373.0 --\n",
    "-- Mean   of tr is  2370.545 --\n",
    "-- Max    of tr is  9291 --\n",
    "\n",
    "#  rubik_ep3_annealed.dat\n",
    "-- Cubes Number 10 --\n",
    "-- Median of T is   1.867 --\n",
    "-- Mean   of T is   3.435 --\n",
    "-- Max    of T is   13.060 --\n",
    "-- Median of L is   30.000 --\n",
    "-- Mean   of L is   30.909 --\n",
    "-- Max    of L is   38.000 --\n",
    "-- Median of tr is  1771.0 --\n",
    "-- Mean   of tr is  3231.273 --\n",
    "-- Max    of tr is  12579 --\n",
    "\n",
    "\n",
    "#  rubik_ep22_annealed.dat\n",
    "-- Cubes Number 10 --\n",
    "-- Median of T is   2.059 --\n",
    "-- Mean   of T is   2.347 --\n",
    "-- Max    of T is   5.595 --\n",
    "-- Median of L is   32.000 --\n",
    "-- Mean   of L is   31.273 --\n",
    "-- Max    of L is   36.000 --\n",
    "-- Median of tr is  2095.0 --\n",
    "-- Mean   of tr is  2433.727 --\n",
    "-- Max    of tr is  5857 --"
   ]
  },
  {
   "cell_type": "code",
   "execution_count": null,
   "metadata": {
    "ExecuteTime": {
     "start_time": "2021-05-07T19:03:08.622Z"
    }
   },
   "outputs": [],
   "source": [
    "mit run3/rubik_ep32_annealed.dat (trainiert in 13 stunden):\n",
    "-- Cubes Number 190 --\n",
    "-- Median of T is   1.230 --\n",
    "-- Mean   of T is   2.350 --\n",
    "-- Max    of T is   20.610 --\n",
    "-- Median of L is   32.000 --\n",
    "-- Mean   of L is   31.152 --\n",
    "-- Max    of L is   34.000 --\n",
    "-- Median of tr is  1591.0 --\n",
    "-- Mean   of tr is  2978.696 --\n",
    "-- Max    of tr is 25111 --"
   ]
  },
  {
   "cell_type": "code",
   "execution_count": null,
   "metadata": {
    "ExecuteTime": {
     "start_time": "2021-05-07T19:03:08.622Z"
    }
   },
   "outputs": [],
   "source": [
    "\n",
    "-- Cubes Number 10 --\n",
    "-- Median of T is  9.507\n",
    "-- Mean   of T is  16.395\n",
    "-- Max    of T is  68.647\n",
    "-- Median of L is  28.000 --\n",
    "-- Mean   of L is  27.636 --\n",
    "\n",
    "\n",
    "\n",
    "\n",
    "-- Cubes Number 10 --\n",
    "-- Median of T is  7.566\n",
    "-- Max    of T is  37.598\n",
    "-- Median of L is  36.000 --\n",
    "\n",
    "\n",
    "-- Cubes Number 10 --\n",
    "-- Median of T is  11.660\n",
    "-- Max    of T is  49.955\n",
    "-- Median of L is  36.000 --\n",
    "\n",
    "\n",
    "mystate26:\n",
    "Cube is solved after 26 moves and 101541 trials! (mit 0.8*l*t)\n",
    "Cube is solved after 26 moves and  30081 trials! = 38.5s (mit 0.*l*t)\n"
   ]
  },
  {
   "cell_type": "code",
   "execution_count": null,
   "metadata": {
    "deletable": false,
    "editable": false,
    "run_control": {
     "frozen": true
    }
   },
   "outputs": [],
   "source": [
    "import seaborn as sns\n",
    "sns.distplot(T)\n",
    "plt.show()\n",
    "sns.boxplot(y=T)\n",
    "plt.show()\n",
    "sns.boxplot(y=L)\n",
    "plt.ylim([0, 55])"
   ]
  },
  {
   "cell_type": "markdown",
   "metadata": {},
   "source": [
    "## Nach wie vielen Shuffels ist Gleichverteilung erreicht?"
   ]
  },
  {
   "cell_type": "code",
   "execution_count": null,
   "metadata": {
    "ExecuteTime": {
     "start_time": "2021-05-07T19:03:08.624Z"
    }
   },
   "outputs": [],
   "source": [
    "# Nach wie vielen shuffels ist der limes erreicht?\n",
    "nshuffles = [20, 30, 50, 100, 400, 1000, 10000]\n",
    "#d = dict()"
   ]
  },
  {
   "cell_type": "code",
   "execution_count": null,
   "metadata": {
    "ExecuteTime": {
     "start_time": "2021-05-07T19:03:08.625Z"
    }
   },
   "outputs": [],
   "source": [
    "while True:\n",
    "    # add n to dict if not there yet\n",
    "    for n in nshuffles:\n",
    "        if n not in d: d[n] = []\n",
    "            \n",
    "    n = min(nshuffles, key=lambda n: len(d[n]))\n",
    "    print(f'Shuffled {n} times')\n",
    "    res = solve_best(shuffle(n=n), verbose=0, ntrials=100000, batchsize=10)\n",
    "    d[n].append(res['l'])\n",
    "    print(f\"Solved after {res['l']} moves\")\n",
    "    print(''.join([ f'l[{n}] = {np.mean(d[n]): .02f} +- {np.std(d[n])/(np.sqrt(len(d[n]))+1e-4): .02f};  ' for n in nshuffles ]))\n",
    "    \n",
    "    \n",
    "''' Ab n=50 ist der Würfel vollständig zufällig\n",
    "l[20] =  17.84 +-  0.45;\n",
    "l[30] =  22.83 +-  0.25;\n",
    "l[50] =  23.62 +-  0.16;\n",
    "l[100] =  23.50 +-  0.16;\n",
    "l[400] =  23.27 +-  0.14;\n",
    "l[1000] =  23.56 +-  0.17;\n",
    "l[10000] =  23.54 +-  0.14;\n",
    "'''"
   ]
  },
  {
   "cell_type": "code",
   "execution_count": null,
   "metadata": {},
   "outputs": [],
   "source": []
  },
  {
   "cell_type": "code",
   "execution_count": null,
   "metadata": {},
   "outputs": [],
   "source": []
  },
  {
   "cell_type": "code",
   "execution_count": null,
   "metadata": {
    "ExecuteTime": {
     "start_time": "2021-05-07T19:03:08.627Z"
    }
   },
   "outputs": [],
   "source": [
    "nets = []\n",
    "for ep in [28, 30, 32]:\n",
    "#for ep in [30]:\n",
    "    fn = f'data/rubik_ep{ep}.dat'\n",
    "    d = torch.load(fn)\n",
    "    print(f'Loading Network form path \"{fn}\"')\n",
    "    net = Net()\n",
    "    net.load_state_dict(d)\n",
    "    net.iter = 1000*ep+1\n",
    "    net_teacher = net\n",
    "\n",
    "    nets.append(net)"
   ]
  },
  {
   "cell_type": "code",
   "execution_count": null,
   "metadata": {
    "ExecuteTime": {
     "start_time": "2021-05-07T19:03:08.629Z"
    }
   },
   "outputs": [],
   "source": [
    "def net(*args, **kwargs):\n",
    "    return torch.mean(torch.stack(([n(*args, **kwargs) for n in nets])), dim=0)\n"
   ]
  },
  {
   "cell_type": "code",
   "execution_count": null,
   "metadata": {
    "ExecuteTime": {
     "start_time": "2021-05-07T19:03:08.630Z"
    }
   },
   "outputs": [],
   "source": [
    "\n",
    "#state = shuffle(n=20)\n",
    "\n",
    "solve(state, maxlen=20, verbose=1, trials=np.inf)\n",
    "\n",
    "# nur ep28: Cube is solved after 20 moves and 3741 trials!\n",
    "# nur ep30: Cube is solved after 20 moves and 18951 trials!\n",
    "# nur ep32: Cube is solved after 20 moves and 32421 trials!\n",
    "\n",
    "# ensemble: Cube is solved after 20 moves and 10421 trials!"
   ]
  },
  {
   "cell_type": "code",
   "execution_count": null,
   "metadata": {},
   "outputs": [],
   "source": []
  },
  {
   "cell_type": "code",
   "execution_count": null,
   "metadata": {
    "ExecuteTime": {
     "start_time": "2021-05-07T19:03:08.632Z"
    }
   },
   "outputs": [],
   "source": [
    "ms = 'FrurUflbufUflUdRluBLDldbULUbuB'\n",
    "for k in range(len(ms)-hashed_depth):\n",
    "    sub_ms = ms[k:k+hashed_depth]\n",
    "    state = newstate()\n",
    "    state = apply(state, sub_ms)\n",
    "    real = hashtable[state.tobytes()]\n",
    "    print(len(sub_ms), real)"
   ]
  },
  {
   "cell_type": "code",
   "execution_count": null,
   "metadata": {},
   "outputs": [],
   "source": []
  }
 ],
 "metadata": {
  "kernelspec": {
   "display_name": "Python 3",
   "language": "python",
   "name": "python3"
  },
  "language_info": {
   "codemirror_mode": {
    "name": "ipython",
    "version": 3
   },
   "file_extension": ".py",
   "mimetype": "text/x-python",
   "name": "python",
   "nbconvert_exporter": "python",
   "pygments_lexer": "ipython3",
   "version": "3.7.7"
  },
  "varInspector": {
   "cols": {
    "lenName": 16,
    "lenType": 16,
    "lenVar": 40
   },
   "kernels_config": {
    "python": {
     "delete_cmd_postfix": "",
     "delete_cmd_prefix": "del ",
     "library": "var_list.py",
     "varRefreshCmd": "print(var_dic_list())"
    },
    "r": {
     "delete_cmd_postfix": ") ",
     "delete_cmd_prefix": "rm(",
     "library": "var_list.r",
     "varRefreshCmd": "cat(var_dic_list()) "
    }
   },
   "position": {
    "height": "909.85px",
    "left": "1378px",
    "right": "20px",
    "top": "20px",
    "width": "465.767px"
   },
   "types_to_exclude": [
    "module",
    "function",
    "builtin_function_or_method",
    "instance",
    "_Feature"
   ],
   "window_display": false
  }
 },
 "nbformat": 4,
 "nbformat_minor": 4
}
